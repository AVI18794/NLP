{
  "nbformat": 4,
  "nbformat_minor": 0,
  "metadata": {
    "colab": {
      "name": "Document Redactor.ipynb",
      "provenance": [],
      "authorship_tag": "ABX9TyOP6i3P0QtNtZ2lY/MfzJym",
      "include_colab_link": true
    },
    "kernelspec": {
      "name": "python3",
      "display_name": "Python 3"
    }
  },
  "cells": [
    {
      "cell_type": "markdown",
      "metadata": {
        "id": "view-in-github",
        "colab_type": "text"
      },
      "source": [
        "<a href=\"https://colab.research.google.com/github/AVI18794/NLP/blob/master/Document_Redactor.ipynb\" target=\"_parent\"><img src=\"https://colab.research.google.com/assets/colab-badge.svg\" alt=\"Open In Colab\"/></a>"
      ]
    },
    {
      "cell_type": "code",
      "metadata": {
        "id": "LejfWYyZGRjk",
        "colab_type": "code",
        "colab": {}
      },
      "source": [
        "import spacy\n",
        "#Load the model\n",
        "nlp = spacy.load('en_core_web_sm')\n",
        "#Replace the token with 'REDACTED' if it is a name\n",
        "def replace_name_with_placeholder(token):\n",
        "  if token.ent_iob!=0 and token.ent_type_=='PERSON':\n",
        "    return \"[REDACTED]\"\n",
        "  else:\n",
        "    return token.string\n",
        "\n",
        "#Loop through all the entities in a document and check if they are names\n",
        "def scrub(text):\n",
        "  doc = nlp(text)\n",
        "  for ent in doc.ents:\n",
        "    ent.merge()\n",
        "    tokens = map(replace_name_with_placeholder,doc)\n",
        "    return \"\".join(tokens)\n",
        "\n",
        "\n",
        "text = \"\"\"\n",
        "In 1950, Alan Turing published his famous article \"Computing Machinery and Intelligence\". In 1957, Noam Chomsky’s \n",
        "Syntactic Structures revolutionized Linguistics with 'universal grammar', a rule based system of syntactic structures.\n",
        "\"\"\"\n",
        "print(scrub(text))\n"
      ],
      "execution_count": 0,
      "outputs": []
    }
  ]
}