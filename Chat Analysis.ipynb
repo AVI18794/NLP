{
 "cells": [
  {
   "cell_type": "code",
   "execution_count": 19,
   "metadata": {
    "jupyter": {
     "source_hidden": true
    }
   },
   "outputs": [],
   "source": [
    "import pandas as pd\n",
    "pd.set_option('display.max_columns',100)\n",
    "import numpy as np\n",
    "import matplotlib.pyplot as plt\n",
    "import seaborn as sns\n",
    "import warnings\n",
    "plt.style.use('ggplot')\n",
    "warnings.filterwarnings('ignore')"
   ]
  },
  {
   "cell_type": "code",
   "execution_count": 2,
   "metadata": {
    "jupyter": {
     "source_hidden": true
    }
   },
   "outputs": [],
   "source": [
    "#Load the data\n",
    "data = pd.read_table('WhatsApp Chat with NLP 100 Hours Batch 2.txt',sep='\\t')"
   ]
  },
  {
   "cell_type": "code",
   "execution_count": 3,
   "metadata": {
    "collapsed": true,
    "jupyter": {
     "outputs_hidden": true,
     "source_hidden": true
    }
   },
   "outputs": [
    {
     "data": {
      "text/html": [
       "<div>\n",
       "<style scoped>\n",
       "    .dataframe tbody tr th:only-of-type {\n",
       "        vertical-align: middle;\n",
       "    }\n",
       "\n",
       "    .dataframe tbody tr th {\n",
       "        vertical-align: top;\n",
       "    }\n",
       "\n",
       "    .dataframe thead th {\n",
       "        text-align: right;\n",
       "    }\n",
       "</style>\n",
       "<table border=\"1\" class=\"dataframe\">\n",
       "  <thead>\n",
       "    <tr style=\"text-align: right;\">\n",
       "      <th></th>\n",
       "      <th>11/12/19, 11:38 AM - +91 6302 217 120 created group \"NLP 100 Hours Batch-2\"</th>\n",
       "    </tr>\n",
       "  </thead>\n",
       "  <tbody>\n",
       "    <tr>\n",
       "      <th>0</th>\n",
       "      <td>11/19/19, 3:46 PM - +91 90348 50345: Drive lin...</td>\n",
       "    </tr>\n",
       "    <tr>\n",
       "      <th>1</th>\n",
       "      <td>11/19/19, 3:49 PM - +91 82475 90372: Me also w...</td>\n",
       "    </tr>\n",
       "    <tr>\n",
       "      <th>2</th>\n",
       "      <td>11/19/19, 3:56 PM - +91 94378 01901: It will b...</td>\n",
       "    </tr>\n",
       "    <tr>\n",
       "      <th>3</th>\n",
       "      <td>11/19/19, 3:56 PM - +91 90900 09356: 👍</td>\n",
       "    </tr>\n",
       "    <tr>\n",
       "      <th>4</th>\n",
       "      <td>11/19/19, 4:01 PM - +91 72055 31464: Can I ple...</td>\n",
       "    </tr>\n",
       "  </tbody>\n",
       "</table>\n",
       "</div>"
      ],
      "text/plain": [
       "  11/12/19, 11:38 AM - +91 6302 217 120 created group \"NLP 100 Hours Batch-2\"\n",
       "0  11/19/19, 3:46 PM - +91 90348 50345: Drive lin...                         \n",
       "1  11/19/19, 3:49 PM - +91 82475 90372: Me also w...                         \n",
       "2  11/19/19, 3:56 PM - +91 94378 01901: It will b...                         \n",
       "3             11/19/19, 3:56 PM - +91 90900 09356: 👍                         \n",
       "4  11/19/19, 4:01 PM - +91 72055 31464: Can I ple...                         "
      ]
     },
     "execution_count": 3,
     "metadata": {},
     "output_type": "execute_result"
    }
   ],
   "source": [
    "#View the attributes of the files loaded\n",
    "data.head()"
   ]
  },
  {
   "cell_type": "code",
   "execution_count": 4,
   "metadata": {
    "collapsed": true,
    "jupyter": {
     "outputs_hidden": true,
     "source_hidden": true
    }
   },
   "outputs": [
    {
     "data": {
      "text/html": [
       "<div>\n",
       "<style scoped>\n",
       "    .dataframe tbody tr th:only-of-type {\n",
       "        vertical-align: middle;\n",
       "    }\n",
       "\n",
       "    .dataframe tbody tr th {\n",
       "        vertical-align: top;\n",
       "    }\n",
       "\n",
       "    .dataframe thead th {\n",
       "        text-align: right;\n",
       "    }\n",
       "</style>\n",
       "<table border=\"1\" class=\"dataframe\">\n",
       "  <thead>\n",
       "    <tr style=\"text-align: right;\">\n",
       "      <th></th>\n",
       "      <th>Text</th>\n",
       "    </tr>\n",
       "  </thead>\n",
       "  <tbody>\n",
       "    <tr>\n",
       "      <th>0</th>\n",
       "      <td>11/19/19, 3:46 PM - +91 90348 50345: Drive lin...</td>\n",
       "    </tr>\n",
       "    <tr>\n",
       "      <th>1</th>\n",
       "      <td>11/19/19, 3:49 PM - +91 82475 90372: Me also w...</td>\n",
       "    </tr>\n",
       "    <tr>\n",
       "      <th>2</th>\n",
       "      <td>11/19/19, 3:56 PM - +91 94378 01901: It will b...</td>\n",
       "    </tr>\n",
       "    <tr>\n",
       "      <th>3</th>\n",
       "      <td>11/19/19, 3:56 PM - +91 90900 09356: 👍</td>\n",
       "    </tr>\n",
       "    <tr>\n",
       "      <th>4</th>\n",
       "      <td>11/19/19, 4:01 PM - +91 72055 31464: Can I ple...</td>\n",
       "    </tr>\n",
       "  </tbody>\n",
       "</table>\n",
       "</div>"
      ],
      "text/plain": [
       "                                                Text\n",
       "0  11/19/19, 3:46 PM - +91 90348 50345: Drive lin...\n",
       "1  11/19/19, 3:49 PM - +91 82475 90372: Me also w...\n",
       "2  11/19/19, 3:56 PM - +91 94378 01901: It will b...\n",
       "3             11/19/19, 3:56 PM - +91 90900 09356: 👍\n",
       "4  11/19/19, 4:01 PM - +91 72055 31464: Can I ple..."
      ]
     },
     "execution_count": 4,
     "metadata": {},
     "output_type": "execute_result"
    }
   ],
   "source": [
    "#Set the column name to the text\n",
    "data.columns=['Text']\n",
    "data.head()"
   ]
  },
  {
   "cell_type": "code",
   "execution_count": 5,
   "metadata": {
    "jupyter": {
     "source_hidden": true
    }
   },
   "outputs": [],
   "source": [
    "#Function to check if the data starts with date or not\n",
    "import re\n",
    "def startsWithDate(s):\n",
    "    pattern = '^([0-9]{1,2})(\\/)([0-9]{1,2})(\\/)([0-9]{2,4},)'\n",
    "    result = re.match(pattern, s)\n",
    "    if result:\n",
    "        return True\n",
    "    return False"
   ]
  },
  {
   "cell_type": "code",
   "execution_count": 6,
   "metadata": {
    "jupyter": {
     "source_hidden": true
    }
   },
   "outputs": [],
   "source": [
    "#Function to check if the author name is there or not \n",
    "\n",
    "def startsWithAuthor(s):\n",
    "    patterns = [\n",
    "              '([\\w]+):',\n",
    "              '([\\w]+[\\s]+[\\w]+):',\n",
    "              '([\\w]+[\\s]+[\\w]+[\\s]+[\\w]+):',\n",
    "              '([+]\\d{2} \\d{5} \\d{5}):',\n",
    "              '([+]\\d{2} \\d{3} \\d{3} \\d{4}):',\n",
    "              '([+]\\d{2} \\d{4} \\d{7})'\n",
    "            ]\n",
    "    pattern = '^' + '|'.join(patterns)\n",
    "    result = re.match(pattern, s)\n",
    "    if result:\n",
    "        return True\n",
    "    return False"
   ]
  },
  {
   "cell_type": "code",
   "execution_count": 7,
   "metadata": {
    "jupyter": {
     "source_hidden": true
    }
   },
   "outputs": [],
   "source": [
    "#Function to extract the data\n",
    "def ExtractData(text):\n",
    "    splitLine = text.split(\" - \")\n",
    "    dateTime = splitLine[0]\n",
    "    date,time = dateTime.split(\", \")\n",
    "    time1  = time.split(\" \")[0]\n",
    "    am_pm = time.split(\" \")[1]\n",
    "    message = ' '.join(splitLine[1:])\n",
    "    if startsWithAuthor(message):\n",
    "        splitMessage = message.split(': ')\n",
    "        author = splitMessage[0]\n",
    "        message = ' '.join(splitMessage[1:])\n",
    "    else:\n",
    "        author=None\n",
    "    \n",
    "    return date,time1,am_pm,author,message"
   ]
  },
  {
   "cell_type": "code",
   "execution_count": 8,
   "metadata": {
    "jupyter": {
     "source_hidden": true
    }
   },
   "outputs": [],
   "source": [
    "parsedData = []\n",
    "filepath = 'WhatsApp Chat with NLP 100 Hours Batch 2.txt'\n",
    "with open(filepath,encoding = 'utf-8') as fp:\n",
    "    fp.readline()\n",
    "    messageBuffer=[]\n",
    "    date,time,am_pm,author=None,None,None,None\n",
    "    while True:\n",
    "        line = fp.readline()\n",
    "        if not line:\n",
    "            break\n",
    "        line = line.strip()\n",
    "        if startsWithDate(line):\n",
    "            if len(messageBuffer) > 0:\n",
    "                parsedData.append([date,time,am_pm,author,' '.join(messageBuffer)])\n",
    "                messageBuffer.clear()\n",
    "                date,time,am_pm,author,message =ExtractData(line)\n",
    "                messageBuffer.append(message)\n",
    "        else:\n",
    "            messageBuffer.append(line)"
   ]
  },
  {
   "cell_type": "code",
   "execution_count": 9,
   "metadata": {
    "collapsed": true,
    "jupyter": {
     "outputs_hidden": true,
     "source_hidden": true
    }
   },
   "outputs": [
    {
     "data": {
      "text/html": [
       "<div>\n",
       "<style scoped>\n",
       "    .dataframe tbody tr th:only-of-type {\n",
       "        vertical-align: middle;\n",
       "    }\n",
       "\n",
       "    .dataframe tbody tr th {\n",
       "        vertical-align: top;\n",
       "    }\n",
       "\n",
       "    .dataframe thead th {\n",
       "        text-align: right;\n",
       "    }\n",
       "</style>\n",
       "<table border=\"1\" class=\"dataframe\">\n",
       "  <thead>\n",
       "    <tr style=\"text-align: right;\">\n",
       "      <th></th>\n",
       "      <th>Date</th>\n",
       "      <th>Time</th>\n",
       "      <th>AM/PM</th>\n",
       "      <th>Author</th>\n",
       "      <th>Message</th>\n",
       "    </tr>\n",
       "  </thead>\n",
       "  <tbody>\n",
       "    <tr>\n",
       "      <th>1</th>\n",
       "      <td>11/19/19</td>\n",
       "      <td>4:02</td>\n",
       "      <td>PM</td>\n",
       "      <td>+91 99875 07468</td>\n",
       "      <td>Same here I cud t attend .. office issues</td>\n",
       "    </tr>\n",
       "    <tr>\n",
       "      <th>2</th>\n",
       "      <td>11/19/19</td>\n",
       "      <td>4:10</td>\n",
       "      <td>PM</td>\n",
       "      <td>+91 81054 54221</td>\n",
       "      <td>I think there is \"view recordings\" section is ...</td>\n",
       "    </tr>\n",
       "    <tr>\n",
       "      <th>3</th>\n",
       "      <td>11/19/19</td>\n",
       "      <td>4:11</td>\n",
       "      <td>PM</td>\n",
       "      <td>+91 81054 54221</td>\n",
       "      <td>Only theory... Try to catch next session becau...</td>\n",
       "    </tr>\n",
       "    <tr>\n",
       "      <th>4</th>\n",
       "      <td>11/19/19</td>\n",
       "      <td>4:12</td>\n",
       "      <td>PM</td>\n",
       "      <td>+91 72055 31464</td>\n",
       "      <td>Sure sure</td>\n",
       "    </tr>\n",
       "    <tr>\n",
       "      <th>5</th>\n",
       "      <td>11/19/19</td>\n",
       "      <td>4:12</td>\n",
       "      <td>PM</td>\n",
       "      <td>+91 72055 31464</td>\n",
       "      <td>Thanks for the note</td>\n",
       "    </tr>\n",
       "  </tbody>\n",
       "</table>\n",
       "</div>"
      ],
      "text/plain": [
       "       Date  Time AM/PM           Author  \\\n",
       "1  11/19/19  4:02    PM  +91 99875 07468   \n",
       "2  11/19/19  4:10    PM  +91 81054 54221   \n",
       "3  11/19/19  4:11    PM  +91 81054 54221   \n",
       "4  11/19/19  4:12    PM  +91 72055 31464   \n",
       "5  11/19/19  4:12    PM  +91 72055 31464   \n",
       "\n",
       "                                             Message  \n",
       "1          Same here I cud t attend .. office issues  \n",
       "2  I think there is \"view recordings\" section is ...  \n",
       "3  Only theory... Try to catch next session becau...  \n",
       "4                                          Sure sure  \n",
       "5                                Thanks for the note  "
      ]
     },
     "execution_count": 9,
     "metadata": {},
     "output_type": "execute_result"
    }
   ],
   "source": [
    "#Create the dataset of the pandas dataframe\n",
    "df =pd.DataFrame(parsedData,columns=['Date','Time','AM/PM','Author','Message'])\n",
    "df = df[1:]\n",
    "df.head()"
   ]
  },
  {
   "cell_type": "code",
   "execution_count": 10,
   "metadata": {
    "collapsed": true,
    "jupyter": {
     "outputs_hidden": true,
     "source_hidden": true
    }
   },
   "outputs": [
    {
     "data": {
      "text/html": [
       "<div>\n",
       "<style scoped>\n",
       "    .dataframe tbody tr th:only-of-type {\n",
       "        vertical-align: middle;\n",
       "    }\n",
       "\n",
       "    .dataframe tbody tr th {\n",
       "        vertical-align: top;\n",
       "    }\n",
       "\n",
       "    .dataframe thead th {\n",
       "        text-align: right;\n",
       "    }\n",
       "</style>\n",
       "<table border=\"1\" class=\"dataframe\">\n",
       "  <thead>\n",
       "    <tr style=\"text-align: right;\">\n",
       "      <th></th>\n",
       "      <th>Date</th>\n",
       "      <th>Time</th>\n",
       "      <th>AM/PM</th>\n",
       "      <th>Author</th>\n",
       "      <th>Message</th>\n",
       "    </tr>\n",
       "  </thead>\n",
       "  <tbody>\n",
       "    <tr>\n",
       "      <th>1986</th>\n",
       "      <td>1/27/20</td>\n",
       "      <td>10:47</td>\n",
       "      <td>PM</td>\n",
       "      <td>+91 89896 40838</td>\n",
       "      <td>Top users you mean members with high number of...</td>\n",
       "    </tr>\n",
       "    <tr>\n",
       "      <th>1987</th>\n",
       "      <td>1/27/20</td>\n",
       "      <td>10:47</td>\n",
       "      <td>PM</td>\n",
       "      <td>AVI</td>\n",
       "      <td>Yes</td>\n",
       "    </tr>\n",
       "    <tr>\n",
       "      <th>1988</th>\n",
       "      <td>1/27/20</td>\n",
       "      <td>10:47</td>\n",
       "      <td>PM</td>\n",
       "      <td>+91 89896 40838</td>\n",
       "      <td>Yess done</td>\n",
       "    </tr>\n",
       "    <tr>\n",
       "      <th>1989</th>\n",
       "      <td>1/27/20</td>\n",
       "      <td>10:47</td>\n",
       "      <td>PM</td>\n",
       "      <td>+91 89896 40838</td>\n",
       "      <td>But contact was not saved</td>\n",
       "    </tr>\n",
       "    <tr>\n",
       "      <th>1990</th>\n",
       "      <td>1/27/20</td>\n",
       "      <td>10:47</td>\n",
       "      <td>PM</td>\n",
       "      <td>+91 89896 40838</td>\n",
       "      <td>Soo got the numbers</td>\n",
       "    </tr>\n",
       "  </tbody>\n",
       "</table>\n",
       "</div>"
      ],
      "text/plain": [
       "         Date   Time AM/PM           Author  \\\n",
       "1986  1/27/20  10:47    PM  +91 89896 40838   \n",
       "1987  1/27/20  10:47    PM              AVI   \n",
       "1988  1/27/20  10:47    PM  +91 89896 40838   \n",
       "1989  1/27/20  10:47    PM  +91 89896 40838   \n",
       "1990  1/27/20  10:47    PM  +91 89896 40838   \n",
       "\n",
       "                                                Message  \n",
       "1986  Top users you mean members with high number of...  \n",
       "1987                                                Yes  \n",
       "1988                                          Yess done  \n",
       "1989                          But contact was not saved  \n",
       "1990                                Soo got the numbers  "
      ]
     },
     "execution_count": 10,
     "metadata": {},
     "output_type": "execute_result"
    }
   ],
   "source": [
    "#EDA Section Starts from here.\n",
    "df.tail()"
   ]
  },
  {
   "cell_type": "code",
   "execution_count": 11,
   "metadata": {
    "collapsed": true,
    "jupyter": {
     "outputs_hidden": true,
     "source_hidden": true
    }
   },
   "outputs": [
    {
     "data": {
      "text/html": [
       "<div>\n",
       "<style scoped>\n",
       "    .dataframe tbody tr th:only-of-type {\n",
       "        vertical-align: middle;\n",
       "    }\n",
       "\n",
       "    .dataframe tbody tr th {\n",
       "        vertical-align: top;\n",
       "    }\n",
       "\n",
       "    .dataframe thead th {\n",
       "        text-align: right;\n",
       "    }\n",
       "</style>\n",
       "<table border=\"1\" class=\"dataframe\">\n",
       "  <thead>\n",
       "    <tr style=\"text-align: right;\">\n",
       "      <th></th>\n",
       "      <th>Date</th>\n",
       "      <th>Time</th>\n",
       "      <th>AM/PM</th>\n",
       "      <th>Author</th>\n",
       "      <th>Message</th>\n",
       "    </tr>\n",
       "  </thead>\n",
       "  <tbody>\n",
       "    <tr>\n",
       "      <th>count</th>\n",
       "      <td>1990</td>\n",
       "      <td>1990</td>\n",
       "      <td>1990</td>\n",
       "      <td>1936</td>\n",
       "      <td>1990</td>\n",
       "    </tr>\n",
       "    <tr>\n",
       "      <th>unique</th>\n",
       "      <td>66</td>\n",
       "      <td>592</td>\n",
       "      <td>2</td>\n",
       "      <td>60</td>\n",
       "      <td>1656</td>\n",
       "    </tr>\n",
       "    <tr>\n",
       "      <th>top</th>\n",
       "      <td>1/21/20</td>\n",
       "      <td>10:45</td>\n",
       "      <td>PM</td>\n",
       "      <td>AVI</td>\n",
       "      <td>&lt;Media omitted&gt;</td>\n",
       "    </tr>\n",
       "    <tr>\n",
       "      <th>freq</th>\n",
       "      <td>110</td>\n",
       "      <td>17</td>\n",
       "      <td>1462</td>\n",
       "      <td>166</td>\n",
       "      <td>182</td>\n",
       "    </tr>\n",
       "  </tbody>\n",
       "</table>\n",
       "</div>"
      ],
      "text/plain": [
       "           Date   Time AM/PM Author          Message\n",
       "count      1990   1990  1990   1936             1990\n",
       "unique       66    592     2     60             1656\n",
       "top     1/21/20  10:45    PM    AVI  <Media omitted>\n",
       "freq        110     17  1462    166              182"
      ]
     },
     "execution_count": 11,
     "metadata": {},
     "output_type": "execute_result"
    }
   ],
   "source": [
    "df.describe()"
   ]
  },
  {
   "cell_type": "code",
   "execution_count": 12,
   "metadata": {
    "jupyter": {
     "source_hidden": true
    }
   },
   "outputs": [],
   "source": [
    "#Count the number of uniue authors\n",
    "\n",
    "# df['Author'].unique()"
   ]
  },
  {
   "cell_type": "code",
   "execution_count": 14,
   "metadata": {
    "collapsed": true,
    "jupyter": {
     "outputs_hidden": true,
     "source_hidden": true
    }
   },
   "outputs": [
    {
     "data": {
      "text/html": [
       "<div>\n",
       "<style scoped>\n",
       "    .dataframe tbody tr th:only-of-type {\n",
       "        vertical-align: middle;\n",
       "    }\n",
       "\n",
       "    .dataframe tbody tr th {\n",
       "        vertical-align: top;\n",
       "    }\n",
       "\n",
       "    .dataframe thead th {\n",
       "        text-align: right;\n",
       "    }\n",
       "</style>\n",
       "<table border=\"1\" class=\"dataframe\">\n",
       "  <thead>\n",
       "    <tr style=\"text-align: right;\">\n",
       "      <th></th>\n",
       "      <th>Date</th>\n",
       "      <th>Time</th>\n",
       "      <th>AM/PM</th>\n",
       "      <th>Author</th>\n",
       "      <th>Message</th>\n",
       "      <th>Word_Count</th>\n",
       "      <th>Letter_Count</th>\n",
       "    </tr>\n",
       "  </thead>\n",
       "  <tbody>\n",
       "    <tr>\n",
       "      <th>1</th>\n",
       "      <td>11/19/19</td>\n",
       "      <td>4:02</td>\n",
       "      <td>PM</td>\n",
       "      <td>+91 99875 07468</td>\n",
       "      <td>Same here I cud t attend .. office issues</td>\n",
       "      <td>41</td>\n",
       "      <td>9</td>\n",
       "    </tr>\n",
       "    <tr>\n",
       "      <th>2</th>\n",
       "      <td>11/19/19</td>\n",
       "      <td>4:10</td>\n",
       "      <td>PM</td>\n",
       "      <td>+91 81054 54221</td>\n",
       "      <td>I think there is \"view recordings\" section is ...</td>\n",
       "      <td>117</td>\n",
       "      <td>22</td>\n",
       "    </tr>\n",
       "    <tr>\n",
       "      <th>3</th>\n",
       "      <td>11/19/19</td>\n",
       "      <td>4:11</td>\n",
       "      <td>PM</td>\n",
       "      <td>+91 81054 54221</td>\n",
       "      <td>Only theory... Try to catch next session becau...</td>\n",
       "      <td>72</td>\n",
       "      <td>13</td>\n",
       "    </tr>\n",
       "    <tr>\n",
       "      <th>4</th>\n",
       "      <td>11/19/19</td>\n",
       "      <td>4:12</td>\n",
       "      <td>PM</td>\n",
       "      <td>+91 72055 31464</td>\n",
       "      <td>Sure sure</td>\n",
       "      <td>9</td>\n",
       "      <td>2</td>\n",
       "    </tr>\n",
       "    <tr>\n",
       "      <th>5</th>\n",
       "      <td>11/19/19</td>\n",
       "      <td>4:12</td>\n",
       "      <td>PM</td>\n",
       "      <td>+91 72055 31464</td>\n",
       "      <td>Thanks for the note</td>\n",
       "      <td>19</td>\n",
       "      <td>4</td>\n",
       "    </tr>\n",
       "  </tbody>\n",
       "</table>\n",
       "</div>"
      ],
      "text/plain": [
       "       Date  Time AM/PM           Author  \\\n",
       "1  11/19/19  4:02    PM  +91 99875 07468   \n",
       "2  11/19/19  4:10    PM  +91 81054 54221   \n",
       "3  11/19/19  4:11    PM  +91 81054 54221   \n",
       "4  11/19/19  4:12    PM  +91 72055 31464   \n",
       "5  11/19/19  4:12    PM  +91 72055 31464   \n",
       "\n",
       "                                             Message  Word_Count  Letter_Count  \n",
       "1          Same here I cud t attend .. office issues          41             9  \n",
       "2  I think there is \"view recordings\" section is ...         117            22  \n",
       "3  Only theory... Try to catch next session becau...          72            13  \n",
       "4                                          Sure sure           9             2  \n",
       "5                                Thanks for the note          19             4  "
      ]
     },
     "execution_count": 14,
     "metadata": {},
     "output_type": "execute_result"
    }
   ],
   "source": [
    "df['Word_Count'] = df['Message'].apply(lambda s:len(s))\n",
    "df['Letter_Count'] = df['Message'].apply(lambda s:len(s.split(' ')))\n",
    "df.head()"
   ]
  },
  {
   "cell_type": "code",
   "execution_count": 21,
   "metadata": {
    "jupyter": {
     "source_hidden": true
    }
   },
   "outputs": [
    {
     "data": {
      "text/plain": [
       "<matplotlib.axes._subplots.AxesSubplot at 0x1b61607e348>"
      ]
     },
     "execution_count": 21,
     "metadata": {},
     "output_type": "execute_result"
    },
    {
     "data": {
      "image/png": "[encoded data removed]",
      "text/plain": [
       "<Figure size 432x288 with 1 Axes>"
      ]
     },
     "metadata": {},
     "output_type": "display_data"
    }
   ],
   "source": [
    "#Visualizations\n",
    "#1) Total Number of Words Used by Author\n",
    "words_per_user = df[['Author','Word_Count']].groupby('Author').sum()\n",
    "words_per_user = words_per_user.sort_values('Word_Count',ascending=False)\n",
    "top_users = words_per_user.head(10)\n",
    "#Plot the bar plot\n",
    "top_users.plot(kind='bar',title='Words Used By Users',legend=True)"
   ]
  },
  {
   "cell_type": "code",
   "execution_count": 29,
   "metadata": {
    "jupyter": {
     "source_hidden": true
    }
   },
   "outputs": [
    {
     "data": {
      "text/plain": [
       "<matplotlib.axes._subplots.AxesSubplot at 0x1b61648c7c8>"
      ]
     },
     "execution_count": 29,
     "metadata": {},
     "output_type": "execute_result"
    },
    {
     "data": {
      "image/png": "[encoded data removed]",
      "text/plain": [
       "<Figure size 432x288 with 1 Axes>"
      ]
     },
     "metadata": {},
     "output_type": "display_data"
    }
   ],
   "source": [
    "#Letter used by per user\n",
    "letters_per_user = df[['Author','Letter_Count']].groupby('Author').sum()\n",
    "letters_per_user = letters_per_user.sort_values('Letter_Count',ascending=False)\n",
    "top_users = letters_per_user.head(10)\n",
    "#Plot the bar plot\n",
    "top_users.plot(kind='bar',title='Letters Used By Users',legend=True,color='green')"
   ]
  },
  {
   "cell_type": "code",
   "execution_count": 34,
   "metadata": {
    "jupyter": {
     "source_hidden": true
    }
   },
   "outputs": [
    {
     "data": {
      "text/plain": [
       "<matplotlib.axes._subplots.AxesSubplot at 0x1b6167d2f88>"
      ]
     },
     "execution_count": 34,
     "metadata": {},
     "output_type": "execute_result"
    },
    {
     "data": {
      "image/png": "[encoded data removed]",
      "text/plain": [
       "<Figure size 432x288 with 1 Axes>"
      ]
     },
     "metadata": {},
     "output_type": "display_data"
    }
   ],
   "source": [
    "#Top 10 Senders\n",
    "counts = df['Author'].value_counts()[:10]\n",
    "counts.plot(kind='bar',title=\"No. of Messages Sent\", color ='purple')\n",
    "\n"
   ]
  },
  {
   "cell_type": "code",
   "execution_count": 41,
   "metadata": {
    "jupyter": {
     "source_hidden": true
    }
   },
   "outputs": [
    {
     "data": {
      "text/plain": [
       "<matplotlib.axes._subplots.AxesSubplot at 0x1b6182b5e88>"
      ]
     },
     "execution_count": 41,
     "metadata": {},
     "output_type": "execute_result"
    },
    {
     "data": {
      "image/png": "[encoded data removed]",
      "text/plain": [
       "<Figure size 432x288 with 1 Axes>"
      ]
     },
     "metadata": {},
     "output_type": "display_data"
    }
   ],
   "source": [
    "#Contribution of Messages by user in proportion\n",
    "prop = round(df['Author'].value_counts()[:10]/len(df)*100,2)\n",
    "prop.plot(kind='bar',title='% of Messages per user',color='green')"
   ]
  },
  {
   "cell_type": "code",
   "execution_count": 48,
   "metadata": {
    "jupyter": {
     "source_hidden": true
    }
   },
   "outputs": [
    {
     "data": {
      "image/png": "[encoded data removed]",
      "text/plain": [
       "<Figure size 432x288 with 1 Axes>"
      ]
     },
     "metadata": {},
     "output_type": "display_data"
    }
   ],
   "source": [
    "#Proportion of Messages sent by Users(Pie Chart)\n",
    "import numpy as np\n",
    "import matplotlib.pyplot as plt\n",
    "plt.style.use('ggplot')\n",
    "\n",
    "user=df.groupby('Author')['Author'].count().nlargest(10)\n",
    "\n",
    "def user_chat_pie(user):\n",
    "    fig, ax = plt.subplots()\n",
    "    explodex = []\n",
    "    for i in np.arange(len(user)):\n",
    "        explodex.append(0.05)\n",
    "    ax = user.plot(kind='pie', colors = ['red','gold','skyblue','green','orange','teal','cyan','lime','orangered','aqua'], fontsize=12, autopct='%1.1f%%', startangle=180, pctdistance=0.85, explode = explodex)\n",
    "    inner_circle = plt.Circle((0,0),0.70,fc='white')\n",
    "    fig = plt.gcf()\n",
    "    fig.gca().add_artist(inner_circle)\n",
    "    ax.axis('equal')  \n",
    "    ax.set_title(\"Distribution of User With Chats\\n\", fontsize=18)\n",
    "    plt.tight_layout()\n",
    "    plt.show()\n",
    "   #plt.savefig('pie.png',bbox_inches='tight')\n",
    "user_chat_pie(user)\n",
    "\n"
   ]
  },
  {
   "cell_type": "code",
   "execution_count": 47,
   "metadata": {
    "jupyter": {
     "source_hidden": true
    }
   },
   "outputs": [
    {
     "data": {
      "text/plain": [
       "Text(0, 0.5, 'No of Messages')"
      ]
     },
     "execution_count": 47,
     "metadata": {},
     "output_type": "execute_result"
    },
    {
     "data": {
      "image/png": "[encoded data removed]",
      "text/plain": [
       "<Figure size 720x504 with 1 Axes>"
      ]
     },
     "metadata": {},
     "output_type": "display_data"
    }
   ],
   "source": [
    "#No of Letter in a Messages\n",
    "plt.figure(figsize=(10,7))\n",
    "no_of_letter = df['Letter_Count'].value_counts()\n",
    "no_of_letter=no_of_letter[:10]\n",
    "no_of_letter.plot(kind='bar', title='No of Letter Used in Messages')\n",
    "plt.xlabel(\"Letter Count\")\n",
    "plt.ylabel(\"No of Messages\")"
   ]
  },
  {
   "cell_type": "code",
   "execution_count": 52,
   "metadata": {
    "jupyter": {
     "source_hidden": true
    }
   },
   "outputs": [
    {
     "data": {
      "text/plain": [
       "<matplotlib.axes._subplots.AxesSubplot at 0x1b61c8f4c08>"
      ]
     },
     "execution_count": 52,
     "metadata": {},
     "output_type": "execute_result"
    },
    {
     "data": {
      "image/png": "[encoded data removed]",
      "text/plain": [
       "<Figure size 720x504 with 1 Axes>"
      ]
     },
     "metadata": {},
     "output_type": "display_data"
    }
   ],
   "source": [
    "#Distribution of Users with word counts\n",
    "plt.figure(figsize=(10,7))\n",
    "word_counts_per_user = df.groupby(['Author'])['Word_Count'].sum().nlargest(10)\n",
    "word_counts_per_user.plot(kind='bar',title='Words per User')"
   ]
  },
  {
   "cell_type": "code",
   "execution_count": 57,
   "metadata": {
    "jupyter": {
     "source_hidden": true
    }
   },
   "outputs": [
    {
     "data": {
      "image/png": "[encoded data removed]",
      "text/plain": [
       "<Figure size 432x288 with 1 Axes>"
      ]
     },
     "metadata": {},
     "output_type": "display_data"
    }
   ],
   "source": [
    "#Distribution per User(Word Counts)\n",
    "def pie_chart_plot(word_count):\n",
    "    fig,ax = plt.subplots()\n",
    "    explodex =[]\n",
    "    for i in np.arange(len(word_count)):\n",
    "        explodex.append(0.05)\n",
    "    ax = word_count.plot(kind='pie',shadow=True, fontsize=12, autopct='%1.1f%%', startangle=180, pctdistance=0.85, explode = explodex)\n",
    "    ax.axis('equal')  \n",
    "    ax.set_title(\"Distribution of User With Word Count\\n\", fontsize=18)\n",
    "    plt.tight_layout()\n",
    "    plt.show()\n",
    "    \n",
    "pie_chart_plot(word_counts_per_user)"
   ]
  },
  {
   "cell_type": "code",
   "execution_count": 58,
   "metadata": {
    "collapsed": true,
    "jupyter": {
     "outputs_hidden": true,
     "source_hidden": true
    }
   },
   "outputs": [
    {
     "name": "stdout",
     "output_type": "stream",
     "text": [
      "Collecting emoji\n",
      "  Downloading https://files.pythonhosted.org/packages/40/8d/521be7f0091fe0f2ae690cc044faf43e3445e0ff33c574eae752dd7e39fa/emoji-0.5.4.tar.gz (43kB)\n",
      "Building wheels for collected packages: emoji\n",
      "  Running setup.py bdist_wheel for emoji: started\n",
      "  Running setup.py bdist_wheel for emoji: finished with status 'done'\n",
      "  Stored in directory: C:\\Users\\AVINASH\\AppData\\Local\\pip\\Cache\\wheels\\2a\\a9\\0a\\4f8e8cce8074232aba240caca3fade315bb49fac68808d1a9c\n",
      "Successfully built emoji\n",
      "Installing collected packages: emoji\n",
      "Successfully installed emoji-0.5.4\n"
     ]
    }
   ],
   "source": [
    "#Emojis Counts\n",
    "!pip install emoji"
   ]
  },
  {
   "cell_type": "code",
   "execution_count": 59,
   "metadata": {
    "jupyter": {
     "source_hidden": true
    }
   },
   "outputs": [],
   "source": [
    "import emoji\n",
    "def extract_emoji(str1):\n",
    "    return ''.join(c for c in str1 if c in emoji.UNICODE_EMOJI )"
   ]
  },
  {
   "cell_type": "code",
   "execution_count": 62,
   "metadata": {
    "collapsed": true,
    "jupyter": {
     "outputs_hidden": true,
     "source_hidden": true
    }
   },
   "outputs": [
    {
     "data": {
      "text/html": [
       "<div>\n",
       "<style scoped>\n",
       "    .dataframe tbody tr th:only-of-type {\n",
       "        vertical-align: middle;\n",
       "    }\n",
       "\n",
       "    .dataframe tbody tr th {\n",
       "        vertical-align: top;\n",
       "    }\n",
       "\n",
       "    .dataframe thead th {\n",
       "        text-align: right;\n",
       "    }\n",
       "</style>\n",
       "<table border=\"1\" class=\"dataframe\">\n",
       "  <thead>\n",
       "    <tr style=\"text-align: right;\">\n",
       "      <th></th>\n",
       "      <th>Date</th>\n",
       "      <th>Time</th>\n",
       "      <th>AM/PM</th>\n",
       "      <th>Author</th>\n",
       "      <th>Message</th>\n",
       "      <th>Word_Count</th>\n",
       "      <th>Letter_Count</th>\n",
       "      <th>EMOJI</th>\n",
       "    </tr>\n",
       "  </thead>\n",
       "  <tbody>\n",
       "    <tr>\n",
       "      <th>1</th>\n",
       "      <td>11/19/19</td>\n",
       "      <td>4:02</td>\n",
       "      <td>PM</td>\n",
       "      <td>+91 99875 07468</td>\n",
       "      <td>Same here I cud t attend .. office issues</td>\n",
       "      <td>41</td>\n",
       "      <td>9</td>\n",
       "      <td></td>\n",
       "    </tr>\n",
       "    <tr>\n",
       "      <th>2</th>\n",
       "      <td>11/19/19</td>\n",
       "      <td>4:10</td>\n",
       "      <td>PM</td>\n",
       "      <td>+91 81054 54221</td>\n",
       "      <td>I think there is \"view recordings\" section is ...</td>\n",
       "      <td>117</td>\n",
       "      <td>22</td>\n",
       "      <td></td>\n",
       "    </tr>\n",
       "    <tr>\n",
       "      <th>3</th>\n",
       "      <td>11/19/19</td>\n",
       "      <td>4:11</td>\n",
       "      <td>PM</td>\n",
       "      <td>+91 81054 54221</td>\n",
       "      <td>Only theory... Try to catch next session becau...</td>\n",
       "      <td>72</td>\n",
       "      <td>13</td>\n",
       "      <td></td>\n",
       "    </tr>\n",
       "    <tr>\n",
       "      <th>4</th>\n",
       "      <td>11/19/19</td>\n",
       "      <td>4:12</td>\n",
       "      <td>PM</td>\n",
       "      <td>+91 72055 31464</td>\n",
       "      <td>Sure sure</td>\n",
       "      <td>9</td>\n",
       "      <td>2</td>\n",
       "      <td></td>\n",
       "    </tr>\n",
       "    <tr>\n",
       "      <th>5</th>\n",
       "      <td>11/19/19</td>\n",
       "      <td>4:12</td>\n",
       "      <td>PM</td>\n",
       "      <td>+91 72055 31464</td>\n",
       "      <td>Thanks for the note</td>\n",
       "      <td>19</td>\n",
       "      <td>4</td>\n",
       "      <td></td>\n",
       "    </tr>\n",
       "    <tr>\n",
       "      <th>6</th>\n",
       "      <td>11/19/19</td>\n",
       "      <td>4:12</td>\n",
       "      <td>PM</td>\n",
       "      <td>+91 81054 54221</td>\n",
       "      <td>😊</td>\n",
       "      <td>1</td>\n",
       "      <td>1</td>\n",
       "      <td>😊</td>\n",
       "    </tr>\n",
       "    <tr>\n",
       "      <th>7</th>\n",
       "      <td>11/19/19</td>\n",
       "      <td>4:13</td>\n",
       "      <td>PM</td>\n",
       "      <td>+91 98333 91951</td>\n",
       "      <td>Not everyone has access to view recording</td>\n",
       "      <td>41</td>\n",
       "      <td>7</td>\n",
       "      <td></td>\n",
       "    </tr>\n",
       "    <tr>\n",
       "      <th>8</th>\n",
       "      <td>11/19/19</td>\n",
       "      <td>4:14</td>\n",
       "      <td>PM</td>\n",
       "      <td>+91 81054 54221</td>\n",
       "      <td>Ohh okay ... Got it 😊</td>\n",
       "      <td>21</td>\n",
       "      <td>6</td>\n",
       "      <td>😊</td>\n",
       "    </tr>\n",
       "    <tr>\n",
       "      <th>9</th>\n",
       "      <td>11/19/19</td>\n",
       "      <td>4:14</td>\n",
       "      <td>PM</td>\n",
       "      <td>+91 93993 84457</td>\n",
       "      <td>I think you can access same day only</td>\n",
       "      <td>36</td>\n",
       "      <td>8</td>\n",
       "      <td></td>\n",
       "    </tr>\n",
       "    <tr>\n",
       "      <th>10</th>\n",
       "      <td>11/19/19</td>\n",
       "      <td>4:15</td>\n",
       "      <td>PM</td>\n",
       "      <td>+91 90321 13803</td>\n",
       "      <td>Shubham,  As per today's class , prudvi said h...</td>\n",
       "      <td>135</td>\n",
       "      <td>24</td>\n",
       "      <td></td>\n",
       "    </tr>\n",
       "    <tr>\n",
       "      <th>11</th>\n",
       "      <td>11/19/19</td>\n",
       "      <td>4:15</td>\n",
       "      <td>PM</td>\n",
       "      <td>+91 90321 13803</td>\n",
       "      <td>May be he is talking about that</td>\n",
       "      <td>31</td>\n",
       "      <td>7</td>\n",
       "      <td></td>\n",
       "    </tr>\n",
       "    <tr>\n",
       "      <th>12</th>\n",
       "      <td>11/19/19</td>\n",
       "      <td>4:16</td>\n",
       "      <td>PM</td>\n",
       "      <td>+91 81054 54221</td>\n",
       "      <td>Okay thanks vinay 😊</td>\n",
       "      <td>19</td>\n",
       "      <td>4</td>\n",
       "      <td>😊</td>\n",
       "    </tr>\n",
       "    <tr>\n",
       "      <th>13</th>\n",
       "      <td>11/19/19</td>\n",
       "      <td>4:16</td>\n",
       "      <td>PM</td>\n",
       "      <td>+91 72055 31464</td>\n",
       "      <td>Yes probably Because the first class was orien...</td>\n",
       "      <td>53</td>\n",
       "      <td>8</td>\n",
       "      <td></td>\n",
       "    </tr>\n",
       "    <tr>\n",
       "      <th>14</th>\n",
       "      <td>11/19/19</td>\n",
       "      <td>4:18</td>\n",
       "      <td>PM</td>\n",
       "      <td>+91 90321 13803</td>\n",
       "      <td>Yes</td>\n",
       "      <td>3</td>\n",
       "      <td>1</td>\n",
       "      <td></td>\n",
       "    </tr>\n",
       "    <tr>\n",
       "      <th>15</th>\n",
       "      <td>11/19/19</td>\n",
       "      <td>4:18</td>\n",
       "      <td>PM</td>\n",
       "      <td>+91 90321 13803</td>\n",
       "      <td>If anyone missed u cn get these orientation cl...</td>\n",
       "      <td>70</td>\n",
       "      <td>12</td>\n",
       "      <td></td>\n",
       "    </tr>\n",
       "    <tr>\n",
       "      <th>16</th>\n",
       "      <td>11/19/19</td>\n",
       "      <td>4:23</td>\n",
       "      <td>PM</td>\n",
       "      <td>+91 98333 91951</td>\n",
       "      <td>All on 23 Nov, there is workshop in Mumbai whe...</td>\n",
       "      <td>217</td>\n",
       "      <td>43</td>\n",
       "      <td></td>\n",
       "    </tr>\n",
       "    <tr>\n",
       "      <th>17</th>\n",
       "      <td>11/19/19</td>\n",
       "      <td>4:26</td>\n",
       "      <td>PM</td>\n",
       "      <td>+91 72784 64403</td>\n",
       "      <td>So how will someone get the recordings of the ...</td>\n",
       "      <td>137</td>\n",
       "      <td>26</td>\n",
       "      <td></td>\n",
       "    </tr>\n",
       "    <tr>\n",
       "      <th>18</th>\n",
       "      <td>11/19/19</td>\n",
       "      <td>4:27</td>\n",
       "      <td>PM</td>\n",
       "      <td>+91 82475 90372</td>\n",
       "      <td>U have to pay extra</td>\n",
       "      <td>19</td>\n",
       "      <td>5</td>\n",
       "      <td></td>\n",
       "    </tr>\n",
       "    <tr>\n",
       "      <th>19</th>\n",
       "      <td>11/19/19</td>\n",
       "      <td>4:27</td>\n",
       "      <td>PM</td>\n",
       "      <td>+91 90321 13803</td>\n",
       "      <td>Upgrade</td>\n",
       "      <td>7</td>\n",
       "      <td>1</td>\n",
       "      <td></td>\n",
       "    </tr>\n",
       "    <tr>\n",
       "      <th>20</th>\n",
       "      <td>11/19/19</td>\n",
       "      <td>4:29</td>\n",
       "      <td>PM</td>\n",
       "      <td>+91 98333 91951</td>\n",
       "      <td>Under \"My Live Classes\" you can view the recor...</td>\n",
       "      <td>177</td>\n",
       "      <td>30</td>\n",
       "      <td></td>\n",
       "    </tr>\n",
       "  </tbody>\n",
       "</table>\n",
       "</div>"
      ],
      "text/plain": [
       "        Date  Time AM/PM           Author  \\\n",
       "1   11/19/19  4:02    PM  +91 99875 07468   \n",
       "2   11/19/19  4:10    PM  +91 81054 54221   \n",
       "3   11/19/19  4:11    PM  +91 81054 54221   \n",
       "4   11/19/19  4:12    PM  +91 72055 31464   \n",
       "5   11/19/19  4:12    PM  +91 72055 31464   \n",
       "6   11/19/19  4:12    PM  +91 81054 54221   \n",
       "7   11/19/19  4:13    PM  +91 98333 91951   \n",
       "8   11/19/19  4:14    PM  +91 81054 54221   \n",
       "9   11/19/19  4:14    PM  +91 93993 84457   \n",
       "10  11/19/19  4:15    PM  +91 90321 13803   \n",
       "11  11/19/19  4:15    PM  +91 90321 13803   \n",
       "12  11/19/19  4:16    PM  +91 81054 54221   \n",
       "13  11/19/19  4:16    PM  +91 72055 31464   \n",
       "14  11/19/19  4:18    PM  +91 90321 13803   \n",
       "15  11/19/19  4:18    PM  +91 90321 13803   \n",
       "16  11/19/19  4:23    PM  +91 98333 91951   \n",
       "17  11/19/19  4:26    PM  +91 72784 64403   \n",
       "18  11/19/19  4:27    PM  +91 82475 90372   \n",
       "19  11/19/19  4:27    PM  +91 90321 13803   \n",
       "20  11/19/19  4:29    PM  +91 98333 91951   \n",
       "\n",
       "                                              Message  Word_Count  \\\n",
       "1           Same here I cud t attend .. office issues          41   \n",
       "2   I think there is \"view recordings\" section is ...         117   \n",
       "3   Only theory... Try to catch next session becau...          72   \n",
       "4                                           Sure sure           9   \n",
       "5                                 Thanks for the note          19   \n",
       "6                                                   😊           1   \n",
       "7           Not everyone has access to view recording          41   \n",
       "8                               Ohh okay ... Got it 😊          21   \n",
       "9                I think you can access same day only          36   \n",
       "10  Shubham,  As per today's class , prudvi said h...         135   \n",
       "11                    May be he is talking about that          31   \n",
       "12                                Okay thanks vinay 😊          19   \n",
       "13  Yes probably Because the first class was orien...          53   \n",
       "14                                                Yes           3   \n",
       "15  If anyone missed u cn get these orientation cl...          70   \n",
       "16  All on 23 Nov, there is workshop in Mumbai whe...         217   \n",
       "17  So how will someone get the recordings of the ...         137   \n",
       "18                                U have to pay extra          19   \n",
       "19                                            Upgrade           7   \n",
       "20  Under \"My Live Classes\" you can view the recor...         177   \n",
       "\n",
       "    Letter_Count EMOJI  \n",
       "1              9        \n",
       "2             22        \n",
       "3             13        \n",
       "4              2        \n",
       "5              4        \n",
       "6              1     😊  \n",
       "7              7        \n",
       "8              6     😊  \n",
       "9              8        \n",
       "10            24        \n",
       "11             7        \n",
       "12             4     😊  \n",
       "13             8        \n",
       "14             1        \n",
       "15            12        \n",
       "16            43        \n",
       "17            26        \n",
       "18             5        \n",
       "19             1        \n",
       "20            30        "
      ]
     },
     "execution_count": 62,
     "metadata": {},
     "output_type": "execute_result"
    }
   ],
   "source": [
    "df['EMOJI'] = df['Message'].apply(extract_emoji)\n",
    "df.head(20)"
   ]
  },
  {
   "cell_type": "code",
   "execution_count": 83,
   "metadata": {
    "jupyter": {
     "source_hidden": true
    }
   },
   "outputs": [
    {
     "data": {
      "text/plain": [
       "<matplotlib.axes._subplots.AxesSubplot at 0x1b61c63da48>"
      ]
     },
     "execution_count": 83,
     "metadata": {},
     "output_type": "execute_result"
    },
    {
     "data": {
      "image/png": "[encoded data removed]",
      "text/plain": [
       "<Figure size 432x288 with 1 Axes>"
      ]
     },
     "metadata": {},
     "output_type": "display_data"
    }
   ],
   "source": [
    "EMOJIS_PER_USER = df.groupby('Author').count()['EMOJI'].reset_index()\n",
    "EMOJIS_PER_USER.sort_values('EMOJI',ascending=False,inplace=True)\n",
    "EMOJIS_PER_USER[:10].plot('Author','EMOJI',kind='bar',title='EMOJI MASTER',color='green')"
   ]
  },
  {
   "cell_type": "code",
   "execution_count": 84,
   "metadata": {
    "collapsed": true,
    "jupyter": {
     "outputs_hidden": true,
     "source_hidden": true
    }
   },
   "outputs": [
    {
     "name": "stdout",
     "output_type": "stream",
     "text": [
      "👍 - 77\n",
      "🏻 - 31\n",
      "😊 - 23\n",
      "😂 - 19\n",
      "😅 - 13\n",
      "😀 - 11\n",
      "😁 - 10\n",
      "😜 - 8\n",
      "🏼 - 4\n",
      "🤟 - 4\n"
     ]
    }
   ],
   "source": [
    "import collections\n",
    "import emoji\n",
    "df[\"Author\"].unique()\n",
    "emoji_ctr = collections.Counter()\n",
    "emojis_list = map(lambda x: ''.join(x.split()), emoji.UNICODE_EMOJI.keys())\n",
    "r = re.compile('|'.join(re.escape(p) for p in emojis_list))\n",
    "for idx, row in df.iterrows():\n",
    "        emojis_found = r.findall(row[\"Message\"])\n",
    "        for emoji_found in emojis_found:\n",
    "            emoji_ctr[emoji_found] += 1\n",
    "for item in emoji_ctr.most_common(10):\n",
    "    print(item[0] + \" - \" + str(item[1]))"
   ]
  },
  {
   "cell_type": "code",
   "execution_count": 101,
   "metadata": {},
   "outputs": [],
   "source": []
  },
  {
   "cell_type": "code",
   "execution_count": null,
   "metadata": {},
   "outputs": [],
   "source": []
  },
  {
   "cell_type": "code",
   "execution_count": 155,
   "metadata": {
    "jupyter": {
     "source_hidden": true
    }
   },
   "outputs": [
    {
     "data": {
      "text/plain": [
       "<matplotlib.axes._subplots.AxesSubplot at 0x1b61f289548>"
      ]
     },
     "execution_count": 155,
     "metadata": {},
     "output_type": "execute_result"
    },
    {
     "data": {
      "text/plain": [
       "<Figure size 1440x504 with 0 Axes>"
      ]
     },
     "metadata": {},
     "output_type": "display_data"
    },
    {
     "data": {
      "image/png": "[encoded data removed]",
      "text/plain": [
       "<Figure size 432x288 with 1 Axes>"
      ]
     },
     "metadata": {},
     "output_type": "display_data"
    }
   ],
   "source": [
    "#Users Activity By Time\n",
    "plt.figure(figsize=(20,7))\n",
    "active_time = df[['AM/PM','Message','Author']]\n",
    "active_time = active_time.groupby(['AM/PM','Author']).count().reset_index()\n",
    "active_time[active_time['AM/PM']=='AM']\n",
    "active_time.sort_values('Message',ascending=False)[:10].plot(x='Author',kind='bar',title='Authors Active During AM')\n"
   ]
  },
  {
   "cell_type": "code",
   "execution_count": 154,
   "metadata": {
    "jupyter": {
     "source_hidden": true
    }
   },
   "outputs": [
    {
     "data": {
      "text/plain": [
       "<matplotlib.axes._subplots.AxesSubplot at 0x1b61edeed88>"
      ]
     },
     "execution_count": 154,
     "metadata": {},
     "output_type": "execute_result"
    },
    {
     "data": {
      "text/plain": [
       "<Figure size 720x504 with 0 Axes>"
      ]
     },
     "metadata": {},
     "output_type": "display_data"
    },
    {
     "data": {
      "image/png": "[encoded data removed]",
      "text/plain": [
       "<Figure size 432x288 with 1 Axes>"
      ]
     },
     "metadata": {},
     "output_type": "display_data"
    }
   ],
   "source": [
    "plt.figure(figsize=(10,7))\n",
    "active_time = df[['AM/PM','Message','Author']]\n",
    "active_time = active_time.groupby(['AM/PM','Author']).count().reset_index()\n",
    "active_time[active_time['AM/PM']=='PM']\n",
    "active_time = active_time.sort_values('Message',ascending=False)[:10]\n",
    "active_time.plot(x='Author',kind='bar',title=\"Authors Active During PM\")"
   ]
  },
  {
   "cell_type": "code",
   "execution_count": 131,
   "metadata": {
    "jupyter": {
     "source_hidden": true
    }
   },
   "outputs": [],
   "source": [
    "#DateWise Count of Messages\n",
    "datewise_message_counts = df.groupby(['Date'],sort=False)['Date'].value_counts().nlargest(10)"
   ]
  },
  {
   "cell_type": "code",
   "execution_count": 132,
   "metadata": {
    "jupyter": {
     "source_hidden": true
    }
   },
   "outputs": [
    {
     "data": {
      "text/plain": [
       "Text(0, 0.5, 'No of Messages')"
      ]
     },
     "execution_count": 132,
     "metadata": {},
     "output_type": "execute_result"
    },
    {
     "data": {
      "image/png": "[encoded data removed]",
      "text/plain": [
       "<Figure size 720x504 with 1 Axes>"
      ]
     },
     "metadata": {},
     "output_type": "display_data"
    }
   ],
   "source": [
    "plt.figure(figsize=(10,7))\n",
    "datewise_message_counts.plot(kind='bar',title='Date Wise Message Counts')\n",
    "plt.xlabel(\"Date\")\n",
    "plt.ylabel(\"No of Messages\")"
   ]
  },
  {
   "cell_type": "code",
   "execution_count": 153,
   "metadata": {
    "collapsed": true,
    "jupyter": {
     "outputs_hidden": true,
     "source_hidden": true
    }
   },
   "outputs": [
    {
     "data": {
      "text/plain": [
       "Date\n",
       "11/19/19    36\n",
       "11/20/19    77\n",
       "11/21/19    36\n",
       "11/22/19    31\n",
       "11/23/19    30\n",
       "11/24/19    22\n",
       "11/25/19     4\n",
       "11/26/19    25\n",
       "11/27/19     1\n",
       "11/29/19    52\n",
       "Name: Date, dtype: int64"
      ]
     },
     "execution_count": 153,
     "metadata": {},
     "output_type": "execute_result"
    }
   ],
   "source": [
    "datewise_message_counts = df.groupby(['Date'],sort=False)['Date'].value_counts()\n",
    "dates = df.groupby('Date',sort=False)['Date'].count()\n",
    "dates[:10]\n",
    "type"
   ]
  },
  {
   "cell_type": "code",
   "execution_count": 151,
   "metadata": {
    "jupyter": {
     "source_hidden": true
    }
   },
   "outputs": [],
   "source": [
    "def plot_linechart(data):\n",
    "    plt.figure(figsize=(10,7))\n",
    "    ax= data.plot(kind='line',color='green',fontsize=15)\n",
    "    ax.set_title('Distribution of Date with No of Messages',fontsize=18)\n",
    "    ax.set_xlabel(\"Date\", fontsize=12)\n",
    "    ax.set_ylabel(\"Messages\", fontsize=12)\n",
    "    plt.xticks(rotation=45)\n",
    "    plt.show()"
   ]
  },
  {
   "cell_type": "code",
   "execution_count": 152,
   "metadata": {
    "jupyter": {
     "source_hidden": true
    }
   },
   "outputs": [
    {
     "data": {
      "image/png": "[encoded data removed]",
      "text/plain": [
       "<Figure size 720x504 with 1 Axes>"
      ]
     },
     "metadata": {},
     "output_type": "display_data"
    }
   ],
   "source": [
    "plot_linechart(dates)"
   ]
  },
  {
   "cell_type": "code",
   "execution_count": 174,
   "metadata": {},
   "outputs": [],
   "source": [
    "df['mention'] = df['Message'].str.findall(r'@([^:\\s]+)')"
   ]
  },
  {
   "cell_type": "code",
   "execution_count": 175,
   "metadata": {},
   "outputs": [
    {
     "data": {
      "text/html": [
       "<div>\n",
       "<style scoped>\n",
       "    .dataframe tbody tr th:only-of-type {\n",
       "        vertical-align: middle;\n",
       "    }\n",
       "\n",
       "    .dataframe tbody tr th {\n",
       "        vertical-align: top;\n",
       "    }\n",
       "\n",
       "    .dataframe thead th {\n",
       "        text-align: right;\n",
       "    }\n",
       "</style>\n",
       "<table border=\"1\" class=\"dataframe\">\n",
       "  <thead>\n",
       "    <tr style=\"text-align: right;\">\n",
       "      <th></th>\n",
       "      <th>Date</th>\n",
       "      <th>Time</th>\n",
       "      <th>AM/PM</th>\n",
       "      <th>Author</th>\n",
       "      <th>Message</th>\n",
       "      <th>Word_Count</th>\n",
       "      <th>Letter_Count</th>\n",
       "      <th>EMOJI</th>\n",
       "      <th>mention</th>\n",
       "    </tr>\n",
       "  </thead>\n",
       "  <tbody>\n",
       "    <tr>\n",
       "      <th>1</th>\n",
       "      <td>11/19/19</td>\n",
       "      <td>4:02</td>\n",
       "      <td>PM</td>\n",
       "      <td>+91 99875 07468</td>\n",
       "      <td>Same here I cud t attend .. office issues</td>\n",
       "      <td>41</td>\n",
       "      <td>9</td>\n",
       "      <td></td>\n",
       "      <td>[]</td>\n",
       "    </tr>\n",
       "    <tr>\n",
       "      <th>2</th>\n",
       "      <td>11/19/19</td>\n",
       "      <td>4:10</td>\n",
       "      <td>PM</td>\n",
       "      <td>+91 81054 54221</td>\n",
       "      <td>I think there is \"view recordings\" section is ...</td>\n",
       "      <td>117</td>\n",
       "      <td>22</td>\n",
       "      <td></td>\n",
       "      <td>[]</td>\n",
       "    </tr>\n",
       "    <tr>\n",
       "      <th>3</th>\n",
       "      <td>11/19/19</td>\n",
       "      <td>4:11</td>\n",
       "      <td>PM</td>\n",
       "      <td>+91 81054 54221</td>\n",
       "      <td>Only theory... Try to catch next session becau...</td>\n",
       "      <td>72</td>\n",
       "      <td>13</td>\n",
       "      <td></td>\n",
       "      <td>[]</td>\n",
       "    </tr>\n",
       "    <tr>\n",
       "      <th>4</th>\n",
       "      <td>11/19/19</td>\n",
       "      <td>4:12</td>\n",
       "      <td>PM</td>\n",
       "      <td>+91 72055 31464</td>\n",
       "      <td>Sure sure</td>\n",
       "      <td>9</td>\n",
       "      <td>2</td>\n",
       "      <td></td>\n",
       "      <td>[]</td>\n",
       "    </tr>\n",
       "    <tr>\n",
       "      <th>5</th>\n",
       "      <td>11/19/19</td>\n",
       "      <td>4:12</td>\n",
       "      <td>PM</td>\n",
       "      <td>+91 72055 31464</td>\n",
       "      <td>Thanks for the note</td>\n",
       "      <td>19</td>\n",
       "      <td>4</td>\n",
       "      <td></td>\n",
       "      <td>[]</td>\n",
       "    </tr>\n",
       "  </tbody>\n",
       "</table>\n",
       "</div>"
      ],
      "text/plain": [
       "       Date  Time AM/PM           Author  \\\n",
       "1  11/19/19  4:02    PM  +91 99875 07468   \n",
       "2  11/19/19  4:10    PM  +91 81054 54221   \n",
       "3  11/19/19  4:11    PM  +91 81054 54221   \n",
       "4  11/19/19  4:12    PM  +91 72055 31464   \n",
       "5  11/19/19  4:12    PM  +91 72055 31464   \n",
       "\n",
       "                                             Message  Word_Count  \\\n",
       "1          Same here I cud t attend .. office issues          41   \n",
       "2  I think there is \"view recordings\" section is ...         117   \n",
       "3  Only theory... Try to catch next session becau...          72   \n",
       "4                                          Sure sure           9   \n",
       "5                                Thanks for the note          19   \n",
       "\n",
       "   Letter_Count EMOJI mention  \n",
       "1             9            []  \n",
       "2            22            []  \n",
       "3            13            []  \n",
       "4             2            []  \n",
       "5             4            []  "
      ]
     },
     "execution_count": 175,
     "metadata": {},
     "output_type": "execute_result"
    }
   ],
   "source": [
    "df.head()"
   ]
  },
  {
   "cell_type": "code",
   "execution_count": 203,
   "metadata": {},
   "outputs": [
    {
     "data": {
      "text/plain": [
       "(97, 9)"
      ]
     },
     "execution_count": 203,
     "metadata": {},
     "output_type": "execute_result"
    }
   ],
   "source": [
    "# df[len(df['mention'])>0]\n",
    "index = df.index[df.astype(str)['mention'] == '[]']\n",
    "index\n",
    "mentionsdata = df.drop(index)\n",
    "mentionsdata.shape\n",
    "# df[['Author','mention']]"
   ]
  },
  {
   "cell_type": "code",
   "execution_count": 177,
   "metadata": {},
   "outputs": [
    {
     "data": {
      "text/html": [
       "<div>\n",
       "<style scoped>\n",
       "    .dataframe tbody tr th:only-of-type {\n",
       "        vertical-align: middle;\n",
       "    }\n",
       "\n",
       "    .dataframe tbody tr th {\n",
       "        vertical-align: top;\n",
       "    }\n",
       "\n",
       "    .dataframe thead th {\n",
       "        text-align: right;\n",
       "    }\n",
       "</style>\n",
       "<table border=\"1\" class=\"dataframe\">\n",
       "  <thead>\n",
       "    <tr style=\"text-align: right;\">\n",
       "      <th></th>\n",
       "      <th>Date</th>\n",
       "      <th>Time</th>\n",
       "      <th>AM/PM</th>\n",
       "      <th>Author</th>\n",
       "      <th>Message</th>\n",
       "      <th>Word_Count</th>\n",
       "      <th>Letter_Count</th>\n",
       "      <th>EMOJI</th>\n",
       "      <th>mention</th>\n",
       "    </tr>\n",
       "  </thead>\n",
       "  <tbody>\n",
       "    <tr>\n",
       "      <th>1</th>\n",
       "      <td>11/19/19</td>\n",
       "      <td>4:02</td>\n",
       "      <td>PM</td>\n",
       "      <td>+91 99875 07468</td>\n",
       "      <td>Same here I cud t attend .. office issues</td>\n",
       "      <td>41</td>\n",
       "      <td>9</td>\n",
       "      <td></td>\n",
       "      <td>[]</td>\n",
       "    </tr>\n",
       "    <tr>\n",
       "      <th>2</th>\n",
       "      <td>11/19/19</td>\n",
       "      <td>4:10</td>\n",
       "      <td>PM</td>\n",
       "      <td>+91 81054 54221</td>\n",
       "      <td>I think there is \"view recordings\" section is ...</td>\n",
       "      <td>117</td>\n",
       "      <td>22</td>\n",
       "      <td></td>\n",
       "      <td>[]</td>\n",
       "    </tr>\n",
       "    <tr>\n",
       "      <th>3</th>\n",
       "      <td>11/19/19</td>\n",
       "      <td>4:11</td>\n",
       "      <td>PM</td>\n",
       "      <td>+91 81054 54221</td>\n",
       "      <td>Only theory... Try to catch next session becau...</td>\n",
       "      <td>72</td>\n",
       "      <td>13</td>\n",
       "      <td></td>\n",
       "      <td>[]</td>\n",
       "    </tr>\n",
       "    <tr>\n",
       "      <th>4</th>\n",
       "      <td>11/19/19</td>\n",
       "      <td>4:12</td>\n",
       "      <td>PM</td>\n",
       "      <td>+91 72055 31464</td>\n",
       "      <td>Sure sure</td>\n",
       "      <td>9</td>\n",
       "      <td>2</td>\n",
       "      <td></td>\n",
       "      <td>[]</td>\n",
       "    </tr>\n",
       "    <tr>\n",
       "      <th>5</th>\n",
       "      <td>11/19/19</td>\n",
       "      <td>4:12</td>\n",
       "      <td>PM</td>\n",
       "      <td>+91 72055 31464</td>\n",
       "      <td>Thanks for the note</td>\n",
       "      <td>19</td>\n",
       "      <td>4</td>\n",
       "      <td></td>\n",
       "      <td>[]</td>\n",
       "    </tr>\n",
       "    <tr>\n",
       "      <th>6</th>\n",
       "      <td>11/19/19</td>\n",
       "      <td>4:12</td>\n",
       "      <td>PM</td>\n",
       "      <td>+91 81054 54221</td>\n",
       "      <td>😊</td>\n",
       "      <td>1</td>\n",
       "      <td>1</td>\n",
       "      <td>😊</td>\n",
       "      <td>[]</td>\n",
       "    </tr>\n",
       "    <tr>\n",
       "      <th>7</th>\n",
       "      <td>11/19/19</td>\n",
       "      <td>4:13</td>\n",
       "      <td>PM</td>\n",
       "      <td>+91 98333 91951</td>\n",
       "      <td>Not everyone has access to view recording</td>\n",
       "      <td>41</td>\n",
       "      <td>7</td>\n",
       "      <td></td>\n",
       "      <td>[]</td>\n",
       "    </tr>\n",
       "    <tr>\n",
       "      <th>8</th>\n",
       "      <td>11/19/19</td>\n",
       "      <td>4:14</td>\n",
       "      <td>PM</td>\n",
       "      <td>+91 81054 54221</td>\n",
       "      <td>Ohh okay ... Got it 😊</td>\n",
       "      <td>21</td>\n",
       "      <td>6</td>\n",
       "      <td>😊</td>\n",
       "      <td>[]</td>\n",
       "    </tr>\n",
       "    <tr>\n",
       "      <th>9</th>\n",
       "      <td>11/19/19</td>\n",
       "      <td>4:14</td>\n",
       "      <td>PM</td>\n",
       "      <td>+91 93993 84457</td>\n",
       "      <td>I think you can access same day only</td>\n",
       "      <td>36</td>\n",
       "      <td>8</td>\n",
       "      <td></td>\n",
       "      <td>[]</td>\n",
       "    </tr>\n",
       "    <tr>\n",
       "      <th>10</th>\n",
       "      <td>11/19/19</td>\n",
       "      <td>4:15</td>\n",
       "      <td>PM</td>\n",
       "      <td>+91 90321 13803</td>\n",
       "      <td>Shubham,  As per today's class , prudvi said h...</td>\n",
       "      <td>135</td>\n",
       "      <td>24</td>\n",
       "      <td></td>\n",
       "      <td>[]</td>\n",
       "    </tr>\n",
       "    <tr>\n",
       "      <th>11</th>\n",
       "      <td>11/19/19</td>\n",
       "      <td>4:15</td>\n",
       "      <td>PM</td>\n",
       "      <td>+91 90321 13803</td>\n",
       "      <td>May be he is talking about that</td>\n",
       "      <td>31</td>\n",
       "      <td>7</td>\n",
       "      <td></td>\n",
       "      <td>[]</td>\n",
       "    </tr>\n",
       "    <tr>\n",
       "      <th>12</th>\n",
       "      <td>11/19/19</td>\n",
       "      <td>4:16</td>\n",
       "      <td>PM</td>\n",
       "      <td>+91 81054 54221</td>\n",
       "      <td>Okay thanks vinay 😊</td>\n",
       "      <td>19</td>\n",
       "      <td>4</td>\n",
       "      <td>😊</td>\n",
       "      <td>[]</td>\n",
       "    </tr>\n",
       "    <tr>\n",
       "      <th>13</th>\n",
       "      <td>11/19/19</td>\n",
       "      <td>4:16</td>\n",
       "      <td>PM</td>\n",
       "      <td>+91 72055 31464</td>\n",
       "      <td>Yes probably Because the first class was orien...</td>\n",
       "      <td>53</td>\n",
       "      <td>8</td>\n",
       "      <td></td>\n",
       "      <td>[]</td>\n",
       "    </tr>\n",
       "    <tr>\n",
       "      <th>14</th>\n",
       "      <td>11/19/19</td>\n",
       "      <td>4:18</td>\n",
       "      <td>PM</td>\n",
       "      <td>+91 90321 13803</td>\n",
       "      <td>Yes</td>\n",
       "      <td>3</td>\n",
       "      <td>1</td>\n",
       "      <td></td>\n",
       "      <td>[]</td>\n",
       "    </tr>\n",
       "    <tr>\n",
       "      <th>15</th>\n",
       "      <td>11/19/19</td>\n",
       "      <td>4:18</td>\n",
       "      <td>PM</td>\n",
       "      <td>+91 90321 13803</td>\n",
       "      <td>If anyone missed u cn get these orientation cl...</td>\n",
       "      <td>70</td>\n",
       "      <td>12</td>\n",
       "      <td></td>\n",
       "      <td>[]</td>\n",
       "    </tr>\n",
       "    <tr>\n",
       "      <th>16</th>\n",
       "      <td>11/19/19</td>\n",
       "      <td>4:23</td>\n",
       "      <td>PM</td>\n",
       "      <td>+91 98333 91951</td>\n",
       "      <td>All on 23 Nov, there is workshop in Mumbai whe...</td>\n",
       "      <td>217</td>\n",
       "      <td>43</td>\n",
       "      <td></td>\n",
       "      <td>[]</td>\n",
       "    </tr>\n",
       "    <tr>\n",
       "      <th>17</th>\n",
       "      <td>11/19/19</td>\n",
       "      <td>4:26</td>\n",
       "      <td>PM</td>\n",
       "      <td>+91 72784 64403</td>\n",
       "      <td>So how will someone get the recordings of the ...</td>\n",
       "      <td>137</td>\n",
       "      <td>26</td>\n",
       "      <td></td>\n",
       "      <td>[]</td>\n",
       "    </tr>\n",
       "    <tr>\n",
       "      <th>18</th>\n",
       "      <td>11/19/19</td>\n",
       "      <td>4:27</td>\n",
       "      <td>PM</td>\n",
       "      <td>+91 82475 90372</td>\n",
       "      <td>U have to pay extra</td>\n",
       "      <td>19</td>\n",
       "      <td>5</td>\n",
       "      <td></td>\n",
       "      <td>[]</td>\n",
       "    </tr>\n",
       "    <tr>\n",
       "      <th>19</th>\n",
       "      <td>11/19/19</td>\n",
       "      <td>4:27</td>\n",
       "      <td>PM</td>\n",
       "      <td>+91 90321 13803</td>\n",
       "      <td>Upgrade</td>\n",
       "      <td>7</td>\n",
       "      <td>1</td>\n",
       "      <td></td>\n",
       "      <td>[]</td>\n",
       "    </tr>\n",
       "    <tr>\n",
       "      <th>20</th>\n",
       "      <td>11/19/19</td>\n",
       "      <td>4:29</td>\n",
       "      <td>PM</td>\n",
       "      <td>+91 98333 91951</td>\n",
       "      <td>Under \"My Live Classes\" you can view the recor...</td>\n",
       "      <td>177</td>\n",
       "      <td>30</td>\n",
       "      <td></td>\n",
       "      <td>[]</td>\n",
       "    </tr>\n",
       "    <tr>\n",
       "      <th>21</th>\n",
       "      <td>11/19/19</td>\n",
       "      <td>4:34</td>\n",
       "      <td>PM</td>\n",
       "      <td>+91 72784 64403</td>\n",
       "      <td>The recordings are available till the end of t...</td>\n",
       "      <td>176</td>\n",
       "      <td>34</td>\n",
       "      <td></td>\n",
       "      <td>[]</td>\n",
       "    </tr>\n",
       "    <tr>\n",
       "      <th>22</th>\n",
       "      <td>11/19/19</td>\n",
       "      <td>4:35</td>\n",
       "      <td>PM</td>\n",
       "      <td>+91 97911 28514</td>\n",
       "      <td>@919437801901  Dude can you share us the googl...</td>\n",
       "      <td>74</td>\n",
       "      <td>14</td>\n",
       "      <td></td>\n",
       "      <td>[919437801901]</td>\n",
       "    </tr>\n",
       "    <tr>\n",
       "      <th>23</th>\n",
       "      <td>11/19/19</td>\n",
       "      <td>4:36</td>\n",
       "      <td>PM</td>\n",
       "      <td>+91 98333 91951</td>\n",
       "      <td>Life long access</td>\n",
       "      <td>16</td>\n",
       "      <td>3</td>\n",
       "      <td></td>\n",
       "      <td>[]</td>\n",
       "    </tr>\n",
       "    <tr>\n",
       "      <th>24</th>\n",
       "      <td>11/19/19</td>\n",
       "      <td>5:00</td>\n",
       "      <td>PM</td>\n",
       "      <td>+91 96116 19988</td>\n",
       "      <td>Here are first few videos from a previous batc...</td>\n",
       "      <td>77</td>\n",
       "      <td>9</td>\n",
       "      <td></td>\n",
       "      <td>[]</td>\n",
       "    </tr>\n",
       "    <tr>\n",
       "      <th>25</th>\n",
       "      <td>11/19/19</td>\n",
       "      <td>5:01</td>\n",
       "      <td>PM</td>\n",
       "      <td>+91 96116 19988</td>\n",
       "      <td>I think this is Prurthvis YouTube channel</td>\n",
       "      <td>41</td>\n",
       "      <td>7</td>\n",
       "      <td></td>\n",
       "      <td>[]</td>\n",
       "    </tr>\n",
       "    <tr>\n",
       "      <th>26</th>\n",
       "      <td>11/19/19</td>\n",
       "      <td>5:04</td>\n",
       "      <td>PM</td>\n",
       "      <td>+91 82915 37338</td>\n",
       "      <td>Thankq</td>\n",
       "      <td>6</td>\n",
       "      <td>1</td>\n",
       "      <td></td>\n",
       "      <td>[]</td>\n",
       "    </tr>\n",
       "    <tr>\n",
       "      <th>27</th>\n",
       "      <td>11/19/19</td>\n",
       "      <td>5:48</td>\n",
       "      <td>PM</td>\n",
       "      <td>+91 98205 77502</td>\n",
       "      <td>Could you please share links if any for findin...</td>\n",
       "      <td>58</td>\n",
       "      <td>12</td>\n",
       "      <td></td>\n",
       "      <td>[]</td>\n",
       "    </tr>\n",
       "    <tr>\n",
       "      <th>28</th>\n",
       "      <td>11/19/19</td>\n",
       "      <td>6:05</td>\n",
       "      <td>PM</td>\n",
       "      <td>+91 98333 91951</td>\n",
       "      <td>&lt;Media omitted&gt;</td>\n",
       "      <td>15</td>\n",
       "      <td>2</td>\n",
       "      <td></td>\n",
       "      <td>[]</td>\n",
       "    </tr>\n",
       "    <tr>\n",
       "      <th>29</th>\n",
       "      <td>11/19/19</td>\n",
       "      <td>6:20</td>\n",
       "      <td>PM</td>\n",
       "      <td>+91 83360 60863</td>\n",
       "      <td>Hey Man ! Is it offline or online?</td>\n",
       "      <td>34</td>\n",
       "      <td>8</td>\n",
       "      <td></td>\n",
       "      <td>[]</td>\n",
       "    </tr>\n",
       "    <tr>\n",
       "      <th>30</th>\n",
       "      <td>11/19/19</td>\n",
       "      <td>6:20</td>\n",
       "      <td>PM</td>\n",
       "      <td>+91 98333 91951</td>\n",
       "      <td>Offline</td>\n",
       "      <td>7</td>\n",
       "      <td>1</td>\n",
       "      <td></td>\n",
       "      <td>[]</td>\n",
       "    </tr>\n",
       "    <tr>\n",
       "      <th>...</th>\n",
       "      <td>...</td>\n",
       "      <td>...</td>\n",
       "      <td>...</td>\n",
       "      <td>...</td>\n",
       "      <td>...</td>\n",
       "      <td>...</td>\n",
       "      <td>...</td>\n",
       "      <td>...</td>\n",
       "      <td>...</td>\n",
       "    </tr>\n",
       "    <tr>\n",
       "      <th>1961</th>\n",
       "      <td>1/27/20</td>\n",
       "      <td>9:52</td>\n",
       "      <td>PM</td>\n",
       "      <td>AVI</td>\n",
       "      <td>Impose Ban for 2 Quizzes</td>\n",
       "      <td>24</td>\n",
       "      <td>5</td>\n",
       "      <td></td>\n",
       "      <td>[]</td>\n",
       "    </tr>\n",
       "    <tr>\n",
       "      <th>1962</th>\n",
       "      <td>1/27/20</td>\n",
       "      <td>9:52</td>\n",
       "      <td>PM</td>\n",
       "      <td>+91 93993 84457</td>\n",
       "      <td>🤣</td>\n",
       "      <td>1</td>\n",
       "      <td>1</td>\n",
       "      <td>🤣</td>\n",
       "      <td>[]</td>\n",
       "    </tr>\n",
       "    <tr>\n",
       "      <th>1963</th>\n",
       "      <td>1/27/20</td>\n",
       "      <td>9:52</td>\n",
       "      <td>PM</td>\n",
       "      <td>+91 97911 28514</td>\n",
       "      <td>I am not Aman to run the code in mind</td>\n",
       "      <td>37</td>\n",
       "      <td>10</td>\n",
       "      <td></td>\n",
       "      <td>[]</td>\n",
       "    </tr>\n",
       "    <tr>\n",
       "      <th>1964</th>\n",
       "      <td>1/27/20</td>\n",
       "      <td>9:54</td>\n",
       "      <td>PM</td>\n",
       "      <td>AVI</td>\n",
       "      <td>I think we need to study more buddy!</td>\n",
       "      <td>36</td>\n",
       "      <td>8</td>\n",
       "      <td></td>\n",
       "      <td>[]</td>\n",
       "    </tr>\n",
       "    <tr>\n",
       "      <th>1965</th>\n",
       "      <td>1/27/20</td>\n",
       "      <td>9:54</td>\n",
       "      <td>PM</td>\n",
       "      <td>+91 97399 79440</td>\n",
       "      <td>Not able to see my marks.</td>\n",
       "      <td>25</td>\n",
       "      <td>6</td>\n",
       "      <td></td>\n",
       "      <td>[]</td>\n",
       "    </tr>\n",
       "    <tr>\n",
       "      <th>1966</th>\n",
       "      <td>1/27/20</td>\n",
       "      <td>9:56</td>\n",
       "      <td>PM</td>\n",
       "      <td>+91 97911 28514</td>\n",
       "      <td>Yup agreed</td>\n",
       "      <td>10</td>\n",
       "      <td>2</td>\n",
       "      <td></td>\n",
       "      <td>[]</td>\n",
       "    </tr>\n",
       "    <tr>\n",
       "      <th>1967</th>\n",
       "      <td>1/27/20</td>\n",
       "      <td>9:57</td>\n",
       "      <td>PM</td>\n",
       "      <td>+91 97911 28514</td>\n",
       "      <td>Looking for datasets for #NLP tasks?  Here is ...</td>\n",
       "      <td>251</td>\n",
       "      <td>35</td>\n",
       "      <td></td>\n",
       "      <td>[]</td>\n",
       "    </tr>\n",
       "    <tr>\n",
       "      <th>1968</th>\n",
       "      <td>1/27/20</td>\n",
       "      <td>9:59</td>\n",
       "      <td>PM</td>\n",
       "      <td>AVI</td>\n",
       "      <td>Thanks 👍</td>\n",
       "      <td>8</td>\n",
       "      <td>2</td>\n",
       "      <td>👍</td>\n",
       "      <td>[]</td>\n",
       "    </tr>\n",
       "    <tr>\n",
       "      <th>1969</th>\n",
       "      <td>1/27/20</td>\n",
       "      <td>10:10</td>\n",
       "      <td>PM</td>\n",
       "      <td>+91 89774 42577</td>\n",
       "      <td>Google also has dataset search engine which ag...</td>\n",
       "      <td>110</td>\n",
       "      <td>11</td>\n",
       "      <td></td>\n",
       "      <td>[]</td>\n",
       "    </tr>\n",
       "    <tr>\n",
       "      <th>1970</th>\n",
       "      <td>1/27/20</td>\n",
       "      <td>10:39</td>\n",
       "      <td>PM</td>\n",
       "      <td>+91 89896 40838</td>\n",
       "      <td>&lt;Media omitted&gt;</td>\n",
       "      <td>15</td>\n",
       "      <td>2</td>\n",
       "      <td></td>\n",
       "      <td>[]</td>\n",
       "    </tr>\n",
       "    <tr>\n",
       "      <th>1971</th>\n",
       "      <td>1/27/20</td>\n",
       "      <td>10:39</td>\n",
       "      <td>PM</td>\n",
       "      <td>+91 89896 40838</td>\n",
       "      <td>I was working on the WhatsApp Chat Analyzer as...</td>\n",
       "      <td>54</td>\n",
       "      <td>9</td>\n",
       "      <td></td>\n",
       "      <td>[]</td>\n",
       "    </tr>\n",
       "    <tr>\n",
       "      <th>1972</th>\n",
       "      <td>1/27/20</td>\n",
       "      <td>10:40</td>\n",
       "      <td>PM</td>\n",
       "      <td>+91 89896 40838</td>\n",
       "      <td>And used our group for the insights 😉😎</td>\n",
       "      <td>38</td>\n",
       "      <td>8</td>\n",
       "      <td>😉😎</td>\n",
       "      <td>[]</td>\n",
       "    </tr>\n",
       "    <tr>\n",
       "      <th>1973</th>\n",
       "      <td>1/27/20</td>\n",
       "      <td>10:40</td>\n",
       "      <td>PM</td>\n",
       "      <td>+91 81054 54221</td>\n",
       "      <td>Superb👌</td>\n",
       "      <td>7</td>\n",
       "      <td>1</td>\n",
       "      <td>👌</td>\n",
       "      <td>[]</td>\n",
       "    </tr>\n",
       "    <tr>\n",
       "      <th>1974</th>\n",
       "      <td>1/27/20</td>\n",
       "      <td>10:40</td>\n",
       "      <td>PM</td>\n",
       "      <td>+91 89774 42577</td>\n",
       "      <td>You should remove media omitted</td>\n",
       "      <td>31</td>\n",
       "      <td>5</td>\n",
       "      <td></td>\n",
       "      <td>[]</td>\n",
       "    </tr>\n",
       "    <tr>\n",
       "      <th>1975</th>\n",
       "      <td>1/27/20</td>\n",
       "      <td>10:40</td>\n",
       "      <td>PM</td>\n",
       "      <td>+91 89896 40838</td>\n",
       "      <td>Yes I will</td>\n",
       "      <td>10</td>\n",
       "      <td>3</td>\n",
       "      <td></td>\n",
       "      <td>[]</td>\n",
       "    </tr>\n",
       "    <tr>\n",
       "      <th>1976</th>\n",
       "      <td>1/27/20</td>\n",
       "      <td>10:40</td>\n",
       "      <td>PM</td>\n",
       "      <td>+91 97911 28514</td>\n",
       "      <td>&lt;Media omitted&gt;</td>\n",
       "      <td>15</td>\n",
       "      <td>2</td>\n",
       "      <td></td>\n",
       "      <td>[]</td>\n",
       "    </tr>\n",
       "    <tr>\n",
       "      <th>1977</th>\n",
       "      <td>1/27/20</td>\n",
       "      <td>10:40</td>\n",
       "      <td>PM</td>\n",
       "      <td>+91 89896 40838</td>\n",
       "      <td>Cleaning part is still not done</td>\n",
       "      <td>31</td>\n",
       "      <td>6</td>\n",
       "      <td></td>\n",
       "      <td>[]</td>\n",
       "    </tr>\n",
       "    <tr>\n",
       "      <th>1978</th>\n",
       "      <td>1/27/20</td>\n",
       "      <td>10:40</td>\n",
       "      <td>PM</td>\n",
       "      <td>+91 89896 40838</td>\n",
       "      <td>🤪</td>\n",
       "      <td>1</td>\n",
       "      <td>1</td>\n",
       "      <td>🤪</td>\n",
       "      <td>[]</td>\n",
       "    </tr>\n",
       "    <tr>\n",
       "      <th>1979</th>\n",
       "      <td>1/27/20</td>\n",
       "      <td>10:42</td>\n",
       "      <td>PM</td>\n",
       "      <td>+91 89896 40838</td>\n",
       "      <td>@918008828282 Trending 😎</td>\n",
       "      <td>24</td>\n",
       "      <td>3</td>\n",
       "      <td>😎</td>\n",
       "      <td>[918008828282]</td>\n",
       "    </tr>\n",
       "    <tr>\n",
       "      <th>1980</th>\n",
       "      <td>1/27/20</td>\n",
       "      <td>10:44</td>\n",
       "      <td>PM</td>\n",
       "      <td>+91 81054 54221</td>\n",
       "      <td>&lt;Media omitted&gt;</td>\n",
       "      <td>15</td>\n",
       "      <td>2</td>\n",
       "      <td></td>\n",
       "      <td>[]</td>\n",
       "    </tr>\n",
       "    <tr>\n",
       "      <th>1981</th>\n",
       "      <td>1/27/20</td>\n",
       "      <td>10:45</td>\n",
       "      <td>PM</td>\n",
       "      <td>AVI</td>\n",
       "      <td>Nice👍 I completed few visualizations and found...</td>\n",
       "      <td>107</td>\n",
       "      <td>18</td>\n",
       "      <td>👍😁</td>\n",
       "      <td>[]</td>\n",
       "    </tr>\n",
       "    <tr>\n",
       "      <th>1982</th>\n",
       "      <td>1/27/20</td>\n",
       "      <td>10:45</td>\n",
       "      <td>PM</td>\n",
       "      <td>+91 89896 40838</td>\n",
       "      <td>😂😂</td>\n",
       "      <td>2</td>\n",
       "      <td>1</td>\n",
       "      <td>😂😂</td>\n",
       "      <td>[]</td>\n",
       "    </tr>\n",
       "    <tr>\n",
       "      <th>1983</th>\n",
       "      <td>1/27/20</td>\n",
       "      <td>10:45</td>\n",
       "      <td>PM</td>\n",
       "      <td>+91 89896 40838</td>\n",
       "      <td>Well NLP is helping us somehow</td>\n",
       "      <td>30</td>\n",
       "      <td>6</td>\n",
       "      <td></td>\n",
       "      <td>[]</td>\n",
       "    </tr>\n",
       "    <tr>\n",
       "      <th>1984</th>\n",
       "      <td>1/27/20</td>\n",
       "      <td>10:45</td>\n",
       "      <td>PM</td>\n",
       "      <td>+91 89896 40838</td>\n",
       "      <td>😜</td>\n",
       "      <td>1</td>\n",
       "      <td>1</td>\n",
       "      <td>😜</td>\n",
       "      <td>[]</td>\n",
       "    </tr>\n",
       "    <tr>\n",
       "      <th>1985</th>\n",
       "      <td>1/27/20</td>\n",
       "      <td>10:46</td>\n",
       "      <td>PM</td>\n",
       "      <td>AVI</td>\n",
       "      <td>Have you completed the top users visualization...</td>\n",
       "      <td>60</td>\n",
       "      <td>11</td>\n",
       "      <td></td>\n",
       "      <td>[]</td>\n",
       "    </tr>\n",
       "    <tr>\n",
       "      <th>1986</th>\n",
       "      <td>1/27/20</td>\n",
       "      <td>10:47</td>\n",
       "      <td>PM</td>\n",
       "      <td>+91 89896 40838</td>\n",
       "      <td>Top users you mean members with high number of...</td>\n",
       "      <td>51</td>\n",
       "      <td>10</td>\n",
       "      <td></td>\n",
       "      <td>[]</td>\n",
       "    </tr>\n",
       "    <tr>\n",
       "      <th>1987</th>\n",
       "      <td>1/27/20</td>\n",
       "      <td>10:47</td>\n",
       "      <td>PM</td>\n",
       "      <td>AVI</td>\n",
       "      <td>Yes</td>\n",
       "      <td>3</td>\n",
       "      <td>1</td>\n",
       "      <td></td>\n",
       "      <td>[]</td>\n",
       "    </tr>\n",
       "    <tr>\n",
       "      <th>1988</th>\n",
       "      <td>1/27/20</td>\n",
       "      <td>10:47</td>\n",
       "      <td>PM</td>\n",
       "      <td>+91 89896 40838</td>\n",
       "      <td>Yess done</td>\n",
       "      <td>9</td>\n",
       "      <td>2</td>\n",
       "      <td></td>\n",
       "      <td>[]</td>\n",
       "    </tr>\n",
       "    <tr>\n",
       "      <th>1989</th>\n",
       "      <td>1/27/20</td>\n",
       "      <td>10:47</td>\n",
       "      <td>PM</td>\n",
       "      <td>+91 89896 40838</td>\n",
       "      <td>But contact was not saved</td>\n",
       "      <td>25</td>\n",
       "      <td>5</td>\n",
       "      <td></td>\n",
       "      <td>[]</td>\n",
       "    </tr>\n",
       "    <tr>\n",
       "      <th>1990</th>\n",
       "      <td>1/27/20</td>\n",
       "      <td>10:47</td>\n",
       "      <td>PM</td>\n",
       "      <td>+91 89896 40838</td>\n",
       "      <td>Soo got the numbers</td>\n",
       "      <td>19</td>\n",
       "      <td>4</td>\n",
       "      <td></td>\n",
       "      <td>[]</td>\n",
       "    </tr>\n",
       "  </tbody>\n",
       "</table>\n",
       "<p>1936 rows × 9 columns</p>\n",
       "</div>"
      ],
      "text/plain": [
       "          Date   Time AM/PM           Author  \\\n",
       "1     11/19/19   4:02    PM  +91 99875 07468   \n",
       "2     11/19/19   4:10    PM  +91 81054 54221   \n",
       "3     11/19/19   4:11    PM  +91 81054 54221   \n",
       "4     11/19/19   4:12    PM  +91 72055 31464   \n",
       "5     11/19/19   4:12    PM  +91 72055 31464   \n",
       "6     11/19/19   4:12    PM  +91 81054 54221   \n",
       "7     11/19/19   4:13    PM  +91 98333 91951   \n",
       "8     11/19/19   4:14    PM  +91 81054 54221   \n",
       "9     11/19/19   4:14    PM  +91 93993 84457   \n",
       "10    11/19/19   4:15    PM  +91 90321 13803   \n",
       "11    11/19/19   4:15    PM  +91 90321 13803   \n",
       "12    11/19/19   4:16    PM  +91 81054 54221   \n",
       "13    11/19/19   4:16    PM  +91 72055 31464   \n",
       "14    11/19/19   4:18    PM  +91 90321 13803   \n",
       "15    11/19/19   4:18    PM  +91 90321 13803   \n",
       "16    11/19/19   4:23    PM  +91 98333 91951   \n",
       "17    11/19/19   4:26    PM  +91 72784 64403   \n",
       "18    11/19/19   4:27    PM  +91 82475 90372   \n",
       "19    11/19/19   4:27    PM  +91 90321 13803   \n",
       "20    11/19/19   4:29    PM  +91 98333 91951   \n",
       "21    11/19/19   4:34    PM  +91 72784 64403   \n",
       "22    11/19/19   4:35    PM  +91 97911 28514   \n",
       "23    11/19/19   4:36    PM  +91 98333 91951   \n",
       "24    11/19/19   5:00    PM  +91 96116 19988   \n",
       "25    11/19/19   5:01    PM  +91 96116 19988   \n",
       "26    11/19/19   5:04    PM  +91 82915 37338   \n",
       "27    11/19/19   5:48    PM  +91 98205 77502   \n",
       "28    11/19/19   6:05    PM  +91 98333 91951   \n",
       "29    11/19/19   6:20    PM  +91 83360 60863   \n",
       "30    11/19/19   6:20    PM  +91 98333 91951   \n",
       "...        ...    ...   ...              ...   \n",
       "1961   1/27/20   9:52    PM              AVI   \n",
       "1962   1/27/20   9:52    PM  +91 93993 84457   \n",
       "1963   1/27/20   9:52    PM  +91 97911 28514   \n",
       "1964   1/27/20   9:54    PM              AVI   \n",
       "1965   1/27/20   9:54    PM  +91 97399 79440   \n",
       "1966   1/27/20   9:56    PM  +91 97911 28514   \n",
       "1967   1/27/20   9:57    PM  +91 97911 28514   \n",
       "1968   1/27/20   9:59    PM              AVI   \n",
       "1969   1/27/20  10:10    PM  +91 89774 42577   \n",
       "1970   1/27/20  10:39    PM  +91 89896 40838   \n",
       "1971   1/27/20  10:39    PM  +91 89896 40838   \n",
       "1972   1/27/20  10:40    PM  +91 89896 40838   \n",
       "1973   1/27/20  10:40    PM  +91 81054 54221   \n",
       "1974   1/27/20  10:40    PM  +91 89774 42577   \n",
       "1975   1/27/20  10:40    PM  +91 89896 40838   \n",
       "1976   1/27/20  10:40    PM  +91 97911 28514   \n",
       "1977   1/27/20  10:40    PM  +91 89896 40838   \n",
       "1978   1/27/20  10:40    PM  +91 89896 40838   \n",
       "1979   1/27/20  10:42    PM  +91 89896 40838   \n",
       "1980   1/27/20  10:44    PM  +91 81054 54221   \n",
       "1981   1/27/20  10:45    PM              AVI   \n",
       "1982   1/27/20  10:45    PM  +91 89896 40838   \n",
       "1983   1/27/20  10:45    PM  +91 89896 40838   \n",
       "1984   1/27/20  10:45    PM  +91 89896 40838   \n",
       "1985   1/27/20  10:46    PM              AVI   \n",
       "1986   1/27/20  10:47    PM  +91 89896 40838   \n",
       "1987   1/27/20  10:47    PM              AVI   \n",
       "1988   1/27/20  10:47    PM  +91 89896 40838   \n",
       "1989   1/27/20  10:47    PM  +91 89896 40838   \n",
       "1990   1/27/20  10:47    PM  +91 89896 40838   \n",
       "\n",
       "                                                Message  Word_Count  \\\n",
       "1             Same here I cud t attend .. office issues          41   \n",
       "2     I think there is \"view recordings\" section is ...         117   \n",
       "3     Only theory... Try to catch next session becau...          72   \n",
       "4                                             Sure sure           9   \n",
       "5                                   Thanks for the note          19   \n",
       "6                                                     😊           1   \n",
       "7             Not everyone has access to view recording          41   \n",
       "8                                 Ohh okay ... Got it 😊          21   \n",
       "9                  I think you can access same day only          36   \n",
       "10    Shubham,  As per today's class , prudvi said h...         135   \n",
       "11                      May be he is talking about that          31   \n",
       "12                                  Okay thanks vinay 😊          19   \n",
       "13    Yes probably Because the first class was orien...          53   \n",
       "14                                                  Yes           3   \n",
       "15    If anyone missed u cn get these orientation cl...          70   \n",
       "16    All on 23 Nov, there is workshop in Mumbai whe...         217   \n",
       "17    So how will someone get the recordings of the ...         137   \n",
       "18                                  U have to pay extra          19   \n",
       "19                                              Upgrade           7   \n",
       "20    Under \"My Live Classes\" you can view the recor...         177   \n",
       "21    The recordings are available till the end of t...         176   \n",
       "22    @919437801901  Dude can you share us the googl...          74   \n",
       "23                                     Life long access          16   \n",
       "24    Here are first few videos from a previous batc...          77   \n",
       "25            I think this is Prurthvis YouTube channel          41   \n",
       "26                                               Thankq           6   \n",
       "27    Could you please share links if any for findin...          58   \n",
       "28                                      <Media omitted>          15   \n",
       "29                   Hey Man ! Is it offline or online?          34   \n",
       "30                                              Offline           7   \n",
       "...                                                 ...         ...   \n",
       "1961                           Impose Ban for 2 Quizzes          24   \n",
       "1962                                                  🤣           1   \n",
       "1963              I am not Aman to run the code in mind          37   \n",
       "1964               I think we need to study more buddy!          36   \n",
       "1965                          Not able to see my marks.          25   \n",
       "1966                                         Yup agreed          10   \n",
       "1967  Looking for datasets for #NLP tasks?  Here is ...         251   \n",
       "1968                                           Thanks 👍           8   \n",
       "1969  Google also has dataset search engine which ag...         110   \n",
       "1970                                    <Media omitted>          15   \n",
       "1971  I was working on the WhatsApp Chat Analyzer as...          54   \n",
       "1972             And used our group for the insights 😉😎          38   \n",
       "1973                                            Superb👌           7   \n",
       "1974                    You should remove media omitted          31   \n",
       "1975                                         Yes I will          10   \n",
       "1976                                    <Media omitted>          15   \n",
       "1977                    Cleaning part is still not done          31   \n",
       "1978                                                  🤪           1   \n",
       "1979                           @918008828282 Trending 😎          24   \n",
       "1980                                    <Media omitted>          15   \n",
       "1981  Nice👍 I completed few visualizations and found...         107   \n",
       "1982                                                 😂😂           2   \n",
       "1983                     Well NLP is helping us somehow          30   \n",
       "1984                                                  😜           1   \n",
       "1985  Have you completed the top users visualization...          60   \n",
       "1986  Top users you mean members with high number of...          51   \n",
       "1987                                                Yes           3   \n",
       "1988                                          Yess done           9   \n",
       "1989                          But contact was not saved          25   \n",
       "1990                                Soo got the numbers          19   \n",
       "\n",
       "      Letter_Count EMOJI         mention  \n",
       "1                9                    []  \n",
       "2               22                    []  \n",
       "3               13                    []  \n",
       "4                2                    []  \n",
       "5                4                    []  \n",
       "6                1     😊              []  \n",
       "7                7                    []  \n",
       "8                6     😊              []  \n",
       "9                8                    []  \n",
       "10              24                    []  \n",
       "11               7                    []  \n",
       "12               4     😊              []  \n",
       "13               8                    []  \n",
       "14               1                    []  \n",
       "15              12                    []  \n",
       "16              43                    []  \n",
       "17              26                    []  \n",
       "18               5                    []  \n",
       "19               1                    []  \n",
       "20              30                    []  \n",
       "21              34                    []  \n",
       "22              14        [919437801901]  \n",
       "23               3                    []  \n",
       "24               9                    []  \n",
       "25               7                    []  \n",
       "26               1                    []  \n",
       "27              12                    []  \n",
       "28               2                    []  \n",
       "29               8                    []  \n",
       "30               1                    []  \n",
       "...            ...   ...             ...  \n",
       "1961             5                    []  \n",
       "1962             1     🤣              []  \n",
       "1963            10                    []  \n",
       "1964             8                    []  \n",
       "1965             6                    []  \n",
       "1966             2                    []  \n",
       "1967            35                    []  \n",
       "1968             2     👍              []  \n",
       "1969            11                    []  \n",
       "1970             2                    []  \n",
       "1971             9                    []  \n",
       "1972             8    😉😎              []  \n",
       "1973             1     👌              []  \n",
       "1974             5                    []  \n",
       "1975             3                    []  \n",
       "1976             2                    []  \n",
       "1977             6                    []  \n",
       "1978             1     🤪              []  \n",
       "1979             3     😎  [918008828282]  \n",
       "1980             2                    []  \n",
       "1981            18    👍😁              []  \n",
       "1982             1    😂😂              []  \n",
       "1983             6                    []  \n",
       "1984             1     😜              []  \n",
       "1985            11                    []  \n",
       "1986            10                    []  \n",
       "1987             1                    []  \n",
       "1988             2                    []  \n",
       "1989             5                    []  \n",
       "1990             4                    []  \n",
       "\n",
       "[1936 rows x 9 columns]"
      ]
     },
     "execution_count": 177,
     "metadata": {},
     "output_type": "execute_result"
    }
   ],
   "source": [
    "df.dropna(df)"
   ]
  },
  {
   "cell_type": "code",
   "execution_count": null,
   "metadata": {},
   "outputs": [],
   "source": [
    "df"
   ]
  }
 ],
 "metadata": {
  "kernelspec": {
   "display_name": "Python 3",
   "language": "python",
   "name": "python3"
  },
  "language_info": {
   "codemirror_mode": {
    "name": "ipython",
    "version": 3
   },
   "file_extension": ".py",
   "mimetype": "text/x-python",
   "name": "python",
   "nbconvert_exporter": "python",
   "pygments_lexer": "ipython3",
   "version": "3.7.5"
  }
 },
 "nbformat": 4,
 "nbformat_minor": 4
}
