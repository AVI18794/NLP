{
  "nbformat": 4,
  "nbformat_minor": 0,
  "metadata": {
    "colab": {
      "name": "TSM.ipynb",
      "provenance": [],
      "collapsed_sections": [],
      "mount_file_id": "1b1Fp_45o2ssEaiLrrOdxKB3CKQPhteU9",
      "authorship_tag": "ABX9TyNmm4FNa32pGHHmAj9zBQlB",
      "include_colab_link": true
    },
    "kernelspec": {
      "name": "python3",
      "display_name": "Python 3"
    }
  },
  "cells": [
    {
      "cell_type": "markdown",
      "metadata": {
        "id": "view-in-github",
        "colab_type": "text"
      },
      "source": [
        "<a href=\"https://colab.research.google.com/github/AVI18794/NLP/blob/master/TSM.ipynb\" target=\"_parent\"><img src=\"https://colab.research.google.com/assets/colab-badge.svg\" alt=\"Open In Colab\"/></a>"
      ]
    },
    {
      "cell_type": "markdown",
      "metadata": {
        "id": "3OT-8cWlgqEz",
        "colab_type": "text"
      },
      "source": [
        "The given problem statement is a route optimization problem and there are several ways of solving this problem. This can be solved using distance metrics(calculation of distance like great circle,geodesic distance calculation, euclidean distance calculation or , or complex algorithms like A* search algorithms genetic programming etc.\n",
        "I have used a simple approach of grpah  theory   and calculated  the geodesic distance.\n",
        "Maybe there are better optimization algorithms which optimizes this problem very accurately.\n",
        "My approach to this problem is very simple quite easy to understand."
      ]
    },
    {
      "cell_type": "code",
      "metadata": {
        "id": "Q3sxsMxWSoBT",
        "colab_type": "code",
        "colab": {}
      },
      "source": [
        "#Import all the required libraries\n",
        "import pandas as pd\n",
        "import numpy as np\n",
        "# import matplotlib.pyplot as plt"
      ],
      "execution_count": 0,
      "outputs": []
    },
    {
      "cell_type": "code",
      "metadata": {
        "id": "W4pg0Ps8S3m1",
        "colab_type": "code",
        "colab": {}
      },
      "source": [
        "#Read the data \n",
        "trucks = pd.read_csv(\"/content/drive/My Drive/trucks.csv\")\n",
        "cargos = pd.read_csv(\"/content/drive/My Drive/cargo.csv\")\n"
      ],
      "execution_count": 0,
      "outputs": []
    },
    {
      "cell_type": "code",
      "metadata": {
        "id": "MLUK_9ADTHgA",
        "colab_type": "code",
        "outputId": "6455eef0-d03d-4e73-9631-5c93bcaee755",
        "colab": {
          "base_uri": "https://localhost:8080/",
          "height": 195
        }
      },
      "source": [
        "trucks.head()"
      ],
      "execution_count": 0,
      "outputs": [
        {
          "output_type": "execute_result",
          "data": {
            "text/html": [
              "<div>\n",
              "<style scoped>\n",
              "    .dataframe tbody tr th:only-of-type {\n",
              "        vertical-align: middle;\n",
              "    }\n",
              "\n",
              "    .dataframe tbody tr th {\n",
              "        vertical-align: top;\n",
              "    }\n",
              "\n",
              "    .dataframe thead th {\n",
              "        text-align: right;\n",
              "    }\n",
              "</style>\n",
              "<table border=\"1\" class=\"dataframe\">\n",
              "  <thead>\n",
              "    <tr style=\"text-align: right;\">\n",
              "      <th></th>\n",
              "      <th>truck</th>\n",
              "      <th>city</th>\n",
              "      <th>state</th>\n",
              "      <th>lat</th>\n",
              "      <th>lng</th>\n",
              "    </tr>\n",
              "  </thead>\n",
              "  <tbody>\n",
              "    <tr>\n",
              "      <th>0</th>\n",
              "      <td>Hartford Plastics Incartford</td>\n",
              "      <td>Florence</td>\n",
              "      <td>AL</td>\n",
              "      <td>34.799810</td>\n",
              "      <td>-87.677251</td>\n",
              "    </tr>\n",
              "    <tr>\n",
              "      <th>1</th>\n",
              "      <td>Beyond Landscape &amp; Design Llcilsonville</td>\n",
              "      <td>Fremont</td>\n",
              "      <td>CA</td>\n",
              "      <td>37.548270</td>\n",
              "      <td>-121.988572</td>\n",
              "    </tr>\n",
              "    <tr>\n",
              "      <th>2</th>\n",
              "      <td>Empire Of Dirt Llcquality</td>\n",
              "      <td>Hampden</td>\n",
              "      <td>ME</td>\n",
              "      <td>44.744542</td>\n",
              "      <td>-68.837044</td>\n",
              "    </tr>\n",
              "    <tr>\n",
              "      <th>3</th>\n",
              "      <td>James Haas Al Haas Shelly Haasairfield</td>\n",
              "      <td>North East</td>\n",
              "      <td>MD</td>\n",
              "      <td>39.600113</td>\n",
              "      <td>-75.941333</td>\n",
              "    </tr>\n",
              "    <tr>\n",
              "      <th>4</th>\n",
              "      <td>Ibrahim Chimandalpharetta</td>\n",
              "      <td>Toledo</td>\n",
              "      <td>OH</td>\n",
              "      <td>41.663938</td>\n",
              "      <td>-83.555212</td>\n",
              "    </tr>\n",
              "  </tbody>\n",
              "</table>\n",
              "</div>"
            ],
            "text/plain": [
              "                                     truck        city  ...        lat         lng\n",
              "0             Hartford Plastics Incartford    Florence  ...  34.799810  -87.677251\n",
              "1  Beyond Landscape & Design Llcilsonville     Fremont  ...  37.548270 -121.988572\n",
              "2                Empire Of Dirt Llcquality     Hampden  ...  44.744542  -68.837044\n",
              "3   James Haas Al Haas Shelly Haasairfield  North East  ...  39.600113  -75.941333\n",
              "4                Ibrahim Chimandalpharetta      Toledo  ...  41.663938  -83.555212\n",
              "\n",
              "[5 rows x 5 columns]"
            ]
          },
          "metadata": {
            "tags": []
          },
          "execution_count": 3
        }
      ]
    },
    {
      "cell_type": "code",
      "metadata": {
        "id": "bnu3gOI-TI8l",
        "colab_type": "code",
        "outputId": "6e598c65-ec82-43cf-e7ca-a93792dd250a",
        "colab": {
          "base_uri": "https://localhost:8080/",
          "height": 195
        }
      },
      "source": [
        "cargos.head()"
      ],
      "execution_count": 0,
      "outputs": [
        {
          "output_type": "execute_result",
          "data": {
            "text/html": [
              "<div>\n",
              "<style scoped>\n",
              "    .dataframe tbody tr th:only-of-type {\n",
              "        vertical-align: middle;\n",
              "    }\n",
              "\n",
              "    .dataframe tbody tr th {\n",
              "        vertical-align: top;\n",
              "    }\n",
              "\n",
              "    .dataframe thead th {\n",
              "        text-align: right;\n",
              "    }\n",
              "</style>\n",
              "<table border=\"1\" class=\"dataframe\">\n",
              "  <thead>\n",
              "    <tr style=\"text-align: right;\">\n",
              "      <th></th>\n",
              "      <th>product</th>\n",
              "      <th>origin_city</th>\n",
              "      <th>origin_state</th>\n",
              "      <th>origin_lat</th>\n",
              "      <th>origin_lng</th>\n",
              "      <th>destination_city</th>\n",
              "      <th>destination_state</th>\n",
              "      <th>destination_lat</th>\n",
              "      <th>destination_lng</th>\n",
              "    </tr>\n",
              "  </thead>\n",
              "  <tbody>\n",
              "    <tr>\n",
              "      <th>0</th>\n",
              "      <td>Light bulbs</td>\n",
              "      <td>Sikeston</td>\n",
              "      <td>MO</td>\n",
              "      <td>36.876719</td>\n",
              "      <td>-89.587858</td>\n",
              "      <td>Grapevine</td>\n",
              "      <td>TX</td>\n",
              "      <td>32.934292</td>\n",
              "      <td>-97.078065</td>\n",
              "    </tr>\n",
              "    <tr>\n",
              "      <th>1</th>\n",
              "      <td>Recyclables</td>\n",
              "      <td>Christiansburg</td>\n",
              "      <td>VA</td>\n",
              "      <td>37.129852</td>\n",
              "      <td>-80.408939</td>\n",
              "      <td>Apopka</td>\n",
              "      <td>FL</td>\n",
              "      <td>28.693408</td>\n",
              "      <td>-81.532215</td>\n",
              "    </tr>\n",
              "    <tr>\n",
              "      <th>2</th>\n",
              "      <td>Apples</td>\n",
              "      <td>Columbus</td>\n",
              "      <td>OH</td>\n",
              "      <td>39.961176</td>\n",
              "      <td>-82.998794</td>\n",
              "      <td>Woodland</td>\n",
              "      <td>CA</td>\n",
              "      <td>38.678516</td>\n",
              "      <td>-121.773297</td>\n",
              "    </tr>\n",
              "    <tr>\n",
              "      <th>3</th>\n",
              "      <td>Wood</td>\n",
              "      <td>Hebron</td>\n",
              "      <td>KY</td>\n",
              "      <td>39.066147</td>\n",
              "      <td>-84.703189</td>\n",
              "      <td>Jefferson</td>\n",
              "      <td>LA</td>\n",
              "      <td>29.966037</td>\n",
              "      <td>-90.153130</td>\n",
              "    </tr>\n",
              "    <tr>\n",
              "      <th>4</th>\n",
              "      <td>Cell phones</td>\n",
              "      <td>Hickory</td>\n",
              "      <td>NC</td>\n",
              "      <td>35.734454</td>\n",
              "      <td>-81.344457</td>\n",
              "      <td>La Pine</td>\n",
              "      <td>OR</td>\n",
              "      <td>43.670399</td>\n",
              "      <td>-121.503636</td>\n",
              "    </tr>\n",
              "  </tbody>\n",
              "</table>\n",
              "</div>"
            ],
            "text/plain": [
              "       product     origin_city  ... destination_lat  destination_lng\n",
              "0  Light bulbs        Sikeston  ...       32.934292       -97.078065\n",
              "1  Recyclables  Christiansburg  ...       28.693408       -81.532215\n",
              "2       Apples        Columbus  ...       38.678516      -121.773297\n",
              "3         Wood          Hebron  ...       29.966037       -90.153130\n",
              "4  Cell phones         Hickory  ...       43.670399      -121.503636\n",
              "\n",
              "[5 rows x 9 columns]"
            ]
          },
          "metadata": {
            "tags": []
          },
          "execution_count": 4
        }
      ]
    },
    {
      "cell_type": "code",
      "metadata": {
        "id": "GYy7c12vto9V",
        "colab_type": "code",
        "colab": {}
      },
      "source": [
        "#Drop the columns which are of no use\n",
        "cargos.drop(['product'],inplace=True,axis=1)"
      ],
      "execution_count": 0,
      "outputs": []
    },
    {
      "cell_type": "code",
      "metadata": {
        "id": "bDvzhcf3geyg",
        "colab_type": "code",
        "outputId": "323073d0-e336-4abe-ec6d-3648fb867f1e",
        "colab": {
          "base_uri": "https://localhost:8080/",
          "height": 195
        }
      },
      "source": [
        "cargos.head()"
      ],
      "execution_count": 0,
      "outputs": [
        {
          "output_type": "execute_result",
          "data": {
            "text/html": [
              "<div>\n",
              "<style scoped>\n",
              "    .dataframe tbody tr th:only-of-type {\n",
              "        vertical-align: middle;\n",
              "    }\n",
              "\n",
              "    .dataframe tbody tr th {\n",
              "        vertical-align: top;\n",
              "    }\n",
              "\n",
              "    .dataframe thead th {\n",
              "        text-align: right;\n",
              "    }\n",
              "</style>\n",
              "<table border=\"1\" class=\"dataframe\">\n",
              "  <thead>\n",
              "    <tr style=\"text-align: right;\">\n",
              "      <th></th>\n",
              "      <th>origin_city</th>\n",
              "      <th>origin_state</th>\n",
              "      <th>origin_lat</th>\n",
              "      <th>origin_lng</th>\n",
              "      <th>destination_city</th>\n",
              "      <th>destination_state</th>\n",
              "      <th>destination_lat</th>\n",
              "      <th>destination_lng</th>\n",
              "    </tr>\n",
              "  </thead>\n",
              "  <tbody>\n",
              "    <tr>\n",
              "      <th>0</th>\n",
              "      <td>Sikeston</td>\n",
              "      <td>MO</td>\n",
              "      <td>36.876719</td>\n",
              "      <td>-89.587858</td>\n",
              "      <td>Grapevine</td>\n",
              "      <td>TX</td>\n",
              "      <td>32.934292</td>\n",
              "      <td>-97.078065</td>\n",
              "    </tr>\n",
              "    <tr>\n",
              "      <th>1</th>\n",
              "      <td>Christiansburg</td>\n",
              "      <td>VA</td>\n",
              "      <td>37.129852</td>\n",
              "      <td>-80.408939</td>\n",
              "      <td>Apopka</td>\n",
              "      <td>FL</td>\n",
              "      <td>28.693408</td>\n",
              "      <td>-81.532215</td>\n",
              "    </tr>\n",
              "    <tr>\n",
              "      <th>2</th>\n",
              "      <td>Columbus</td>\n",
              "      <td>OH</td>\n",
              "      <td>39.961176</td>\n",
              "      <td>-82.998794</td>\n",
              "      <td>Woodland</td>\n",
              "      <td>CA</td>\n",
              "      <td>38.678516</td>\n",
              "      <td>-121.773297</td>\n",
              "    </tr>\n",
              "    <tr>\n",
              "      <th>3</th>\n",
              "      <td>Hebron</td>\n",
              "      <td>KY</td>\n",
              "      <td>39.066147</td>\n",
              "      <td>-84.703189</td>\n",
              "      <td>Jefferson</td>\n",
              "      <td>LA</td>\n",
              "      <td>29.966037</td>\n",
              "      <td>-90.153130</td>\n",
              "    </tr>\n",
              "    <tr>\n",
              "      <th>4</th>\n",
              "      <td>Hickory</td>\n",
              "      <td>NC</td>\n",
              "      <td>35.734454</td>\n",
              "      <td>-81.344457</td>\n",
              "      <td>La Pine</td>\n",
              "      <td>OR</td>\n",
              "      <td>43.670399</td>\n",
              "      <td>-121.503636</td>\n",
              "    </tr>\n",
              "  </tbody>\n",
              "</table>\n",
              "</div>"
            ],
            "text/plain": [
              "      origin_city origin_state  ...  destination_lat  destination_lng\n",
              "0        Sikeston           MO  ...        32.934292       -97.078065\n",
              "1  Christiansburg           VA  ...        28.693408       -81.532215\n",
              "2        Columbus           OH  ...        38.678516      -121.773297\n",
              "3          Hebron           KY  ...        29.966037       -90.153130\n",
              "4         Hickory           NC  ...        43.670399      -121.503636\n",
              "\n",
              "[5 rows x 8 columns]"
            ]
          },
          "metadata": {
            "tags": []
          },
          "execution_count": 6
        }
      ]
    },
    {
      "cell_type": "code",
      "metadata": {
        "id": "NyfqfKpWYrmU",
        "colab_type": "code",
        "outputId": "665a851f-1c51-49f6-e920-26a921327ec3",
        "colab": {
          "base_uri": "https://localhost:8080/",
          "height": 195
        }
      },
      "source": [
        "trucks.head()"
      ],
      "execution_count": 0,
      "outputs": [
        {
          "output_type": "execute_result",
          "data": {
            "text/html": [
              "<div>\n",
              "<style scoped>\n",
              "    .dataframe tbody tr th:only-of-type {\n",
              "        vertical-align: middle;\n",
              "    }\n",
              "\n",
              "    .dataframe tbody tr th {\n",
              "        vertical-align: top;\n",
              "    }\n",
              "\n",
              "    .dataframe thead th {\n",
              "        text-align: right;\n",
              "    }\n",
              "</style>\n",
              "<table border=\"1\" class=\"dataframe\">\n",
              "  <thead>\n",
              "    <tr style=\"text-align: right;\">\n",
              "      <th></th>\n",
              "      <th>truck</th>\n",
              "      <th>city</th>\n",
              "      <th>state</th>\n",
              "      <th>lat</th>\n",
              "      <th>lng</th>\n",
              "    </tr>\n",
              "  </thead>\n",
              "  <tbody>\n",
              "    <tr>\n",
              "      <th>0</th>\n",
              "      <td>Hartford Plastics Incartford</td>\n",
              "      <td>Florence</td>\n",
              "      <td>AL</td>\n",
              "      <td>34.799810</td>\n",
              "      <td>-87.677251</td>\n",
              "    </tr>\n",
              "    <tr>\n",
              "      <th>1</th>\n",
              "      <td>Beyond Landscape &amp; Design Llcilsonville</td>\n",
              "      <td>Fremont</td>\n",
              "      <td>CA</td>\n",
              "      <td>37.548270</td>\n",
              "      <td>-121.988572</td>\n",
              "    </tr>\n",
              "    <tr>\n",
              "      <th>2</th>\n",
              "      <td>Empire Of Dirt Llcquality</td>\n",
              "      <td>Hampden</td>\n",
              "      <td>ME</td>\n",
              "      <td>44.744542</td>\n",
              "      <td>-68.837044</td>\n",
              "    </tr>\n",
              "    <tr>\n",
              "      <th>3</th>\n",
              "      <td>James Haas Al Haas Shelly Haasairfield</td>\n",
              "      <td>North East</td>\n",
              "      <td>MD</td>\n",
              "      <td>39.600113</td>\n",
              "      <td>-75.941333</td>\n",
              "    </tr>\n",
              "    <tr>\n",
              "      <th>4</th>\n",
              "      <td>Ibrahim Chimandalpharetta</td>\n",
              "      <td>Toledo</td>\n",
              "      <td>OH</td>\n",
              "      <td>41.663938</td>\n",
              "      <td>-83.555212</td>\n",
              "    </tr>\n",
              "  </tbody>\n",
              "</table>\n",
              "</div>"
            ],
            "text/plain": [
              "                                     truck        city  ...        lat         lng\n",
              "0             Hartford Plastics Incartford    Florence  ...  34.799810  -87.677251\n",
              "1  Beyond Landscape & Design Llcilsonville     Fremont  ...  37.548270 -121.988572\n",
              "2                Empire Of Dirt Llcquality     Hampden  ...  44.744542  -68.837044\n",
              "3   James Haas Al Haas Shelly Haasairfield  North East  ...  39.600113  -75.941333\n",
              "4                Ibrahim Chimandalpharetta      Toledo  ...  41.663938  -83.555212\n",
              "\n",
              "[5 rows x 5 columns]"
            ]
          },
          "metadata": {
            "tags": []
          },
          "execution_count": 7
        }
      ]
    },
    {
      "cell_type": "code",
      "metadata": {
        "id": "5OjWYS-OY0VH",
        "colab_type": "code",
        "colab": {}
      },
      "source": [
        "# trucks1 =trucks.drop(['state'],axis=1)\n",
        "# #Dropping the state column as its not needed.\n",
        "# trucks1.rename(columns = {'truck':'truck','city':'truck_city','lat':'truck_lat','lng':'truck_lng'}, inplace = True)\n",
        "# trucks1.head()"
      ],
      "execution_count": 0,
      "outputs": []
    },
    {
      "cell_type": "code",
      "metadata": {
        "id": "uhGS1lbzaN7A",
        "colab_type": "code",
        "outputId": "056ce722-f0a3-4945-f7cf-126d2e0b0660",
        "colab": {
          "base_uri": "https://localhost:8080/",
          "height": 254
        }
      },
      "source": [
        "#View the cargo details\n",
        "cargos1 = cargos.drop(['origin_state','destination_state'],axis=1)\n",
        "cargos1"
      ],
      "execution_count": 0,
      "outputs": [
        {
          "output_type": "execute_result",
          "data": {
            "text/html": [
              "<div>\n",
              "<style scoped>\n",
              "    .dataframe tbody tr th:only-of-type {\n",
              "        vertical-align: middle;\n",
              "    }\n",
              "\n",
              "    .dataframe tbody tr th {\n",
              "        vertical-align: top;\n",
              "    }\n",
              "\n",
              "    .dataframe thead th {\n",
              "        text-align: right;\n",
              "    }\n",
              "</style>\n",
              "<table border=\"1\" class=\"dataframe\">\n",
              "  <thead>\n",
              "    <tr style=\"text-align: right;\">\n",
              "      <th></th>\n",
              "      <th>origin_city</th>\n",
              "      <th>origin_lat</th>\n",
              "      <th>origin_lng</th>\n",
              "      <th>destination_city</th>\n",
              "      <th>destination_lat</th>\n",
              "      <th>destination_lng</th>\n",
              "    </tr>\n",
              "  </thead>\n",
              "  <tbody>\n",
              "    <tr>\n",
              "      <th>0</th>\n",
              "      <td>Sikeston</td>\n",
              "      <td>36.876719</td>\n",
              "      <td>-89.587858</td>\n",
              "      <td>Grapevine</td>\n",
              "      <td>32.934292</td>\n",
              "      <td>-97.078065</td>\n",
              "    </tr>\n",
              "    <tr>\n",
              "      <th>1</th>\n",
              "      <td>Christiansburg</td>\n",
              "      <td>37.129852</td>\n",
              "      <td>-80.408939</td>\n",
              "      <td>Apopka</td>\n",
              "      <td>28.693408</td>\n",
              "      <td>-81.532215</td>\n",
              "    </tr>\n",
              "    <tr>\n",
              "      <th>2</th>\n",
              "      <td>Columbus</td>\n",
              "      <td>39.961176</td>\n",
              "      <td>-82.998794</td>\n",
              "      <td>Woodland</td>\n",
              "      <td>38.678516</td>\n",
              "      <td>-121.773297</td>\n",
              "    </tr>\n",
              "    <tr>\n",
              "      <th>3</th>\n",
              "      <td>Hebron</td>\n",
              "      <td>39.066147</td>\n",
              "      <td>-84.703189</td>\n",
              "      <td>Jefferson</td>\n",
              "      <td>29.966037</td>\n",
              "      <td>-90.153130</td>\n",
              "    </tr>\n",
              "    <tr>\n",
              "      <th>4</th>\n",
              "      <td>Hickory</td>\n",
              "      <td>35.734454</td>\n",
              "      <td>-81.344457</td>\n",
              "      <td>La Pine</td>\n",
              "      <td>43.670399</td>\n",
              "      <td>-121.503636</td>\n",
              "    </tr>\n",
              "    <tr>\n",
              "      <th>5</th>\n",
              "      <td>Northfield</td>\n",
              "      <td>44.458298</td>\n",
              "      <td>-93.161604</td>\n",
              "      <td>Waukegan</td>\n",
              "      <td>42.363633</td>\n",
              "      <td>-87.844794</td>\n",
              "    </tr>\n",
              "    <tr>\n",
              "      <th>6</th>\n",
              "      <td>Fort Madison</td>\n",
              "      <td>40.629763</td>\n",
              "      <td>-91.314535</td>\n",
              "      <td>Ottawa</td>\n",
              "      <td>41.345589</td>\n",
              "      <td>-88.842577</td>\n",
              "    </tr>\n",
              "  </tbody>\n",
              "</table>\n",
              "</div>"
            ],
            "text/plain": [
              "      origin_city  origin_lat  ...  destination_lat destination_lng\n",
              "0        Sikeston   36.876719  ...        32.934292      -97.078065\n",
              "1  Christiansburg   37.129852  ...        28.693408      -81.532215\n",
              "2        Columbus   39.961176  ...        38.678516     -121.773297\n",
              "3          Hebron   39.066147  ...        29.966037      -90.153130\n",
              "4         Hickory   35.734454  ...        43.670399     -121.503636\n",
              "5      Northfield   44.458298  ...        42.363633      -87.844794\n",
              "6    Fort Madison   40.629763  ...        41.345589      -88.842577\n",
              "\n",
              "[7 rows x 6 columns]"
            ]
          },
          "metadata": {
            "tags": []
          },
          "execution_count": 9
        }
      ]
    },
    {
      "cell_type": "code",
      "metadata": {
        "id": "lst8lu54abiy",
        "colab_type": "code",
        "colab": {}
      },
      "source": [
        "#Combine the cargo and truck details \n",
        "# trucks1['truck_city'][:10]"
      ],
      "execution_count": 0,
      "outputs": []
    },
    {
      "cell_type": "code",
      "metadata": {
        "id": "Fm6CJjE9e7Vx",
        "colab_type": "code",
        "colab": {}
      },
      "source": [
        "# cargos1['origin_city']"
      ],
      "execution_count": 0,
      "outputs": []
    },
    {
      "cell_type": "code",
      "metadata": {
        "id": "M1vnf7Zpe7Sz",
        "colab_type": "code",
        "colab": {}
      },
      "source": [
        "# cargos1['destination_city']"
      ],
      "execution_count": 0,
      "outputs": []
    },
    {
      "cell_type": "code",
      "metadata": {
        "id": "1sXKKZn0gbSe",
        "colab_type": "code",
        "colab": {}
      },
      "source": [
        "# truck_state = set(trucks['state'].to_list())"
      ],
      "execution_count": 0,
      "outputs": []
    },
    {
      "cell_type": "code",
      "metadata": {
        "id": "1hBL2yc4g029",
        "colab_type": "code",
        "colab": {}
      },
      "source": [
        "# cargo_origin_state = set(cargos['origin_state'].to_list())"
      ],
      "execution_count": 0,
      "outputs": []
    },
    {
      "cell_type": "code",
      "metadata": {
        "id": "a6o1bg0wg_rd",
        "colab_type": "code",
        "colab": {}
      },
      "source": [
        "# #Check if the truck state is in cargo origin state\n",
        "# truck_state.intersection(cargo_origin_state)"
      ],
      "execution_count": 0,
      "outputs": []
    },
    {
      "cell_type": "code",
      "metadata": {
        "id": "sEwCCuRqiHzz",
        "colab_type": "code",
        "colab": {}
      },
      "source": [
        "# #Select the trucks from those states where the cargo origin state is same\n",
        "# cargo_origin_states= cargos['origin_state']\n",
        "# # cargo_origin_states\n",
        "# cargos['origin_state'].tolist()\n",
        "# # trucks['presence'] =trucks['state'].isin(cargos['origin_state'].tolist())\n",
        "# # trucks"
      ],
      "execution_count": 0,
      "outputs": []
    },
    {
      "cell_type": "code",
      "metadata": {
        "id": "7rUlQXvEnG6n",
        "colab_type": "code",
        "colab": {}
      },
      "source": [
        "#Get the data of the truck state and cargo origin state (it signifies that both cargo and trucks are there in the same state discard the rest of the data)"
      ],
      "execution_count": 0,
      "outputs": []
    },
    {
      "cell_type": "code",
      "metadata": {
        "id": "EMRQGm-yml97",
        "colab_type": "code",
        "outputId": "9455cdf5-8bfe-4ee0-8a21-476dae6b0259",
        "colab": {
          "base_uri": "https://localhost:8080/",
          "height": 343
        }
      },
      "source": [
        "trucks['presence'] =trucks['state'].isin(cargos['origin_state'].tolist())\n",
        "trucks[:10]"
      ],
      "execution_count": 0,
      "outputs": [
        {
          "output_type": "execute_result",
          "data": {
            "text/html": [
              "<div>\n",
              "<style scoped>\n",
              "    .dataframe tbody tr th:only-of-type {\n",
              "        vertical-align: middle;\n",
              "    }\n",
              "\n",
              "    .dataframe tbody tr th {\n",
              "        vertical-align: top;\n",
              "    }\n",
              "\n",
              "    .dataframe thead th {\n",
              "        text-align: right;\n",
              "    }\n",
              "</style>\n",
              "<table border=\"1\" class=\"dataframe\">\n",
              "  <thead>\n",
              "    <tr style=\"text-align: right;\">\n",
              "      <th></th>\n",
              "      <th>truck</th>\n",
              "      <th>city</th>\n",
              "      <th>state</th>\n",
              "      <th>lat</th>\n",
              "      <th>lng</th>\n",
              "      <th>presence</th>\n",
              "    </tr>\n",
              "  </thead>\n",
              "  <tbody>\n",
              "    <tr>\n",
              "      <th>0</th>\n",
              "      <td>Hartford Plastics Incartford</td>\n",
              "      <td>Florence</td>\n",
              "      <td>AL</td>\n",
              "      <td>34.799810</td>\n",
              "      <td>-87.677251</td>\n",
              "      <td>False</td>\n",
              "    </tr>\n",
              "    <tr>\n",
              "      <th>1</th>\n",
              "      <td>Beyond Landscape &amp; Design Llcilsonville</td>\n",
              "      <td>Fremont</td>\n",
              "      <td>CA</td>\n",
              "      <td>37.548270</td>\n",
              "      <td>-121.988572</td>\n",
              "      <td>False</td>\n",
              "    </tr>\n",
              "    <tr>\n",
              "      <th>2</th>\n",
              "      <td>Empire Of Dirt Llcquality</td>\n",
              "      <td>Hampden</td>\n",
              "      <td>ME</td>\n",
              "      <td>44.744542</td>\n",
              "      <td>-68.837044</td>\n",
              "      <td>False</td>\n",
              "    </tr>\n",
              "    <tr>\n",
              "      <th>3</th>\n",
              "      <td>James Haas Al Haas Shelly Haasairfield</td>\n",
              "      <td>North East</td>\n",
              "      <td>MD</td>\n",
              "      <td>39.600113</td>\n",
              "      <td>-75.941333</td>\n",
              "      <td>False</td>\n",
              "    </tr>\n",
              "    <tr>\n",
              "      <th>4</th>\n",
              "      <td>Ibrahim Chimandalpharetta</td>\n",
              "      <td>Toledo</td>\n",
              "      <td>OH</td>\n",
              "      <td>41.663938</td>\n",
              "      <td>-83.555212</td>\n",
              "      <td>True</td>\n",
              "    </tr>\n",
              "    <tr>\n",
              "      <th>5</th>\n",
              "      <td>John Bianchiake Havasu City</td>\n",
              "      <td>Renton</td>\n",
              "      <td>WA</td>\n",
              "      <td>47.482878</td>\n",
              "      <td>-122.217066</td>\n",
              "      <td>False</td>\n",
              "    </tr>\n",
              "    <tr>\n",
              "      <th>6</th>\n",
              "      <td>Macomb Iron Llchesterfield</td>\n",
              "      <td>Cleveland</td>\n",
              "      <td>OH</td>\n",
              "      <td>41.499320</td>\n",
              "      <td>-81.694361</td>\n",
              "      <td>True</td>\n",
              "    </tr>\n",
              "    <tr>\n",
              "      <th>7</th>\n",
              "      <td>Robert Robertsonairhope</td>\n",
              "      <td>Green Bay</td>\n",
              "      <td>WI</td>\n",
              "      <td>44.519159</td>\n",
              "      <td>-88.019826</td>\n",
              "      <td>False</td>\n",
              "    </tr>\n",
              "    <tr>\n",
              "      <th>8</th>\n",
              "      <td>Viking Products Of Austin Incustin</td>\n",
              "      <td>Fort Campbell</td>\n",
              "      <td>TN</td>\n",
              "      <td>36.663447</td>\n",
              "      <td>-87.477390</td>\n",
              "      <td>False</td>\n",
              "    </tr>\n",
              "    <tr>\n",
              "      <th>9</th>\n",
              "      <td>Arachus Incashville</td>\n",
              "      <td>Bethlehem</td>\n",
              "      <td>PA</td>\n",
              "      <td>40.625932</td>\n",
              "      <td>-75.370458</td>\n",
              "      <td>False</td>\n",
              "    </tr>\n",
              "  </tbody>\n",
              "</table>\n",
              "</div>"
            ],
            "text/plain": [
              "                                     truck           city  ...         lng  presence\n",
              "0             Hartford Plastics Incartford       Florence  ...  -87.677251     False\n",
              "1  Beyond Landscape & Design Llcilsonville        Fremont  ... -121.988572     False\n",
              "2                Empire Of Dirt Llcquality        Hampden  ...  -68.837044     False\n",
              "3   James Haas Al Haas Shelly Haasairfield     North East  ...  -75.941333     False\n",
              "4                Ibrahim Chimandalpharetta         Toledo  ...  -83.555212      True\n",
              "5              John Bianchiake Havasu City         Renton  ... -122.217066     False\n",
              "6               Macomb Iron Llchesterfield      Cleveland  ...  -81.694361      True\n",
              "7                  Robert Robertsonairhope      Green Bay  ...  -88.019826     False\n",
              "8       Viking Products Of Austin Incustin  Fort Campbell  ...  -87.477390     False\n",
              "9                      Arachus Incashville      Bethlehem  ...  -75.370458     False\n",
              "\n",
              "[10 rows x 6 columns]"
            ]
          },
          "metadata": {
            "tags": []
          },
          "execution_count": 18
        }
      ]
    },
    {
      "cell_type": "code",
      "metadata": {
        "id": "uMq17lC-m0G4",
        "colab_type": "code",
        "outputId": "a7e85224-9253-419d-a6ef-b7f10c5cd497",
        "colab": {
          "base_uri": "https://localhost:8080/",
          "height": 225
        }
      },
      "source": [
        "common_state_truck_cargo = trucks[trucks['presence']==True]\n",
        "final_trucks = common_state_truck_cargo\n",
        "final_trucks"
      ],
      "execution_count": 0,
      "outputs": [
        {
          "output_type": "execute_result",
          "data": {
            "text/html": [
              "<div>\n",
              "<style scoped>\n",
              "    .dataframe tbody tr th:only-of-type {\n",
              "        vertical-align: middle;\n",
              "    }\n",
              "\n",
              "    .dataframe tbody tr th {\n",
              "        vertical-align: top;\n",
              "    }\n",
              "\n",
              "    .dataframe thead th {\n",
              "        text-align: right;\n",
              "    }\n",
              "</style>\n",
              "<table border=\"1\" class=\"dataframe\">\n",
              "  <thead>\n",
              "    <tr style=\"text-align: right;\">\n",
              "      <th></th>\n",
              "      <th>truck</th>\n",
              "      <th>city</th>\n",
              "      <th>state</th>\n",
              "      <th>lat</th>\n",
              "      <th>lng</th>\n",
              "      <th>presence</th>\n",
              "    </tr>\n",
              "  </thead>\n",
              "  <tbody>\n",
              "    <tr>\n",
              "      <th>4</th>\n",
              "      <td>Ibrahim Chimandalpharetta</td>\n",
              "      <td>Toledo</td>\n",
              "      <td>OH</td>\n",
              "      <td>41.663938</td>\n",
              "      <td>-83.555212</td>\n",
              "      <td>True</td>\n",
              "    </tr>\n",
              "    <tr>\n",
              "      <th>6</th>\n",
              "      <td>Macomb Iron Llchesterfield</td>\n",
              "      <td>Cleveland</td>\n",
              "      <td>OH</td>\n",
              "      <td>41.499320</td>\n",
              "      <td>-81.694361</td>\n",
              "      <td>True</td>\n",
              "    </tr>\n",
              "    <tr>\n",
              "      <th>16</th>\n",
              "      <td>Paul J Krez Companyorton Grove</td>\n",
              "      <td>Forest City</td>\n",
              "      <td>NC</td>\n",
              "      <td>35.334011</td>\n",
              "      <td>-81.865103</td>\n",
              "      <td>True</td>\n",
              "    </tr>\n",
              "    <tr>\n",
              "      <th>24</th>\n",
              "      <td>Ricardo Juradoacramento</td>\n",
              "      <td>Covesville</td>\n",
              "      <td>VA</td>\n",
              "      <td>37.890141</td>\n",
              "      <td>-78.704740</td>\n",
              "      <td>True</td>\n",
              "    </tr>\n",
              "    <tr>\n",
              "      <th>27</th>\n",
              "      <td>Kjellberg'S Carpet Oneuffalo</td>\n",
              "      <td>Mount Vernon</td>\n",
              "      <td>OH</td>\n",
              "      <td>40.393396</td>\n",
              "      <td>-82.485718</td>\n",
              "      <td>True</td>\n",
              "    </tr>\n",
              "    <tr>\n",
              "      <th>37</th>\n",
              "      <td>Efrain Morales Diazorwalk</td>\n",
              "      <td>Marshfield</td>\n",
              "      <td>MO</td>\n",
              "      <td>37.338658</td>\n",
              "      <td>-92.907121</td>\n",
              "      <td>True</td>\n",
              "    </tr>\n",
              "  </tbody>\n",
              "</table>\n",
              "</div>"
            ],
            "text/plain": [
              "                             truck          city  ...        lng  presence\n",
              "4        Ibrahim Chimandalpharetta        Toledo  ... -83.555212      True\n",
              "6       Macomb Iron Llchesterfield     Cleveland  ... -81.694361      True\n",
              "16  Paul J Krez Companyorton Grove   Forest City  ... -81.865103      True\n",
              "24         Ricardo Juradoacramento    Covesville  ... -78.704740      True\n",
              "27    Kjellberg'S Carpet Oneuffalo  Mount Vernon  ... -82.485718      True\n",
              "37       Efrain Morales Diazorwalk    Marshfield  ... -92.907121      True\n",
              "\n",
              "[6 rows x 6 columns]"
            ]
          },
          "metadata": {
            "tags": []
          },
          "execution_count": 19
        }
      ]
    },
    {
      "cell_type": "code",
      "metadata": {
        "id": "AAIDfZbUokRe",
        "colab_type": "code",
        "outputId": "5008fcf7-37df-4170-e23b-019d11ee36a2",
        "colab": {
          "base_uri": "https://localhost:8080/",
          "height": 254
        }
      },
      "source": [
        "#Just print the data\n",
        "cargos"
      ],
      "execution_count": 0,
      "outputs": [
        {
          "output_type": "execute_result",
          "data": {
            "text/html": [
              "<div>\n",
              "<style scoped>\n",
              "    .dataframe tbody tr th:only-of-type {\n",
              "        vertical-align: middle;\n",
              "    }\n",
              "\n",
              "    .dataframe tbody tr th {\n",
              "        vertical-align: top;\n",
              "    }\n",
              "\n",
              "    .dataframe thead th {\n",
              "        text-align: right;\n",
              "    }\n",
              "</style>\n",
              "<table border=\"1\" class=\"dataframe\">\n",
              "  <thead>\n",
              "    <tr style=\"text-align: right;\">\n",
              "      <th></th>\n",
              "      <th>origin_city</th>\n",
              "      <th>origin_state</th>\n",
              "      <th>origin_lat</th>\n",
              "      <th>origin_lng</th>\n",
              "      <th>destination_city</th>\n",
              "      <th>destination_state</th>\n",
              "      <th>destination_lat</th>\n",
              "      <th>destination_lng</th>\n",
              "    </tr>\n",
              "  </thead>\n",
              "  <tbody>\n",
              "    <tr>\n",
              "      <th>0</th>\n",
              "      <td>Sikeston</td>\n",
              "      <td>MO</td>\n",
              "      <td>36.876719</td>\n",
              "      <td>-89.587858</td>\n",
              "      <td>Grapevine</td>\n",
              "      <td>TX</td>\n",
              "      <td>32.934292</td>\n",
              "      <td>-97.078065</td>\n",
              "    </tr>\n",
              "    <tr>\n",
              "      <th>1</th>\n",
              "      <td>Christiansburg</td>\n",
              "      <td>VA</td>\n",
              "      <td>37.129852</td>\n",
              "      <td>-80.408939</td>\n",
              "      <td>Apopka</td>\n",
              "      <td>FL</td>\n",
              "      <td>28.693408</td>\n",
              "      <td>-81.532215</td>\n",
              "    </tr>\n",
              "    <tr>\n",
              "      <th>2</th>\n",
              "      <td>Columbus</td>\n",
              "      <td>OH</td>\n",
              "      <td>39.961176</td>\n",
              "      <td>-82.998794</td>\n",
              "      <td>Woodland</td>\n",
              "      <td>CA</td>\n",
              "      <td>38.678516</td>\n",
              "      <td>-121.773297</td>\n",
              "    </tr>\n",
              "    <tr>\n",
              "      <th>3</th>\n",
              "      <td>Hebron</td>\n",
              "      <td>KY</td>\n",
              "      <td>39.066147</td>\n",
              "      <td>-84.703189</td>\n",
              "      <td>Jefferson</td>\n",
              "      <td>LA</td>\n",
              "      <td>29.966037</td>\n",
              "      <td>-90.153130</td>\n",
              "    </tr>\n",
              "    <tr>\n",
              "      <th>4</th>\n",
              "      <td>Hickory</td>\n",
              "      <td>NC</td>\n",
              "      <td>35.734454</td>\n",
              "      <td>-81.344457</td>\n",
              "      <td>La Pine</td>\n",
              "      <td>OR</td>\n",
              "      <td>43.670399</td>\n",
              "      <td>-121.503636</td>\n",
              "    </tr>\n",
              "    <tr>\n",
              "      <th>5</th>\n",
              "      <td>Northfield</td>\n",
              "      <td>MN</td>\n",
              "      <td>44.458298</td>\n",
              "      <td>-93.161604</td>\n",
              "      <td>Waukegan</td>\n",
              "      <td>IL</td>\n",
              "      <td>42.363633</td>\n",
              "      <td>-87.844794</td>\n",
              "    </tr>\n",
              "    <tr>\n",
              "      <th>6</th>\n",
              "      <td>Fort Madison</td>\n",
              "      <td>IA</td>\n",
              "      <td>40.629763</td>\n",
              "      <td>-91.314535</td>\n",
              "      <td>Ottawa</td>\n",
              "      <td>IL</td>\n",
              "      <td>41.345589</td>\n",
              "      <td>-88.842577</td>\n",
              "    </tr>\n",
              "  </tbody>\n",
              "</table>\n",
              "</div>"
            ],
            "text/plain": [
              "      origin_city origin_state  ...  destination_lat  destination_lng\n",
              "0        Sikeston           MO  ...        32.934292       -97.078065\n",
              "1  Christiansburg           VA  ...        28.693408       -81.532215\n",
              "2        Columbus           OH  ...        38.678516      -121.773297\n",
              "3          Hebron           KY  ...        29.966037       -90.153130\n",
              "4         Hickory           NC  ...        43.670399      -121.503636\n",
              "5      Northfield           MN  ...        42.363633       -87.844794\n",
              "6    Fort Madison           IA  ...        41.345589       -88.842577\n",
              "\n",
              "[7 rows x 8 columns]"
            ]
          },
          "metadata": {
            "tags": []
          },
          "execution_count": 28
        }
      ]
    },
    {
      "cell_type": "code",
      "metadata": {
        "id": "KZFnKdVto0Qy",
        "colab_type": "code",
        "colab": {}
      },
      "source": [
        "#Extracting the cargo dataset where the origin state is same as truck's state name and discarding the rest of the dataset\n",
        "cargos['presence'] = cargos['origin_state'].isin(trucks['state'])\n",
        "common_state_truck_cargo1 = cargos[cargos['presence']==True]\n",
        "final_cargo = common_state_truck_cargo1"
      ],
      "execution_count": 0,
      "outputs": []
    },
    {
      "cell_type": "code",
      "metadata": {
        "id": "ahpC9jZhqGMD",
        "colab_type": "code",
        "outputId": "e4200301-0b79-4ead-fe3a-f578989c2e10",
        "colab": {
          "base_uri": "https://localhost:8080/",
          "height": 166
        }
      },
      "source": [
        "#So our delivery is from these 4 source to the destination addresses.\n",
        "final_cargo"
      ],
      "execution_count": 0,
      "outputs": [
        {
          "output_type": "execute_result",
          "data": {
            "text/html": [
              "<div>\n",
              "<style scoped>\n",
              "    .dataframe tbody tr th:only-of-type {\n",
              "        vertical-align: middle;\n",
              "    }\n",
              "\n",
              "    .dataframe tbody tr th {\n",
              "        vertical-align: top;\n",
              "    }\n",
              "\n",
              "    .dataframe thead th {\n",
              "        text-align: right;\n",
              "    }\n",
              "</style>\n",
              "<table border=\"1\" class=\"dataframe\">\n",
              "  <thead>\n",
              "    <tr style=\"text-align: right;\">\n",
              "      <th></th>\n",
              "      <th>origin_city</th>\n",
              "      <th>origin_state</th>\n",
              "      <th>origin_lat</th>\n",
              "      <th>origin_lng</th>\n",
              "      <th>destination_city</th>\n",
              "      <th>destination_state</th>\n",
              "      <th>destination_lat</th>\n",
              "      <th>destination_lng</th>\n",
              "      <th>presence</th>\n",
              "    </tr>\n",
              "  </thead>\n",
              "  <tbody>\n",
              "    <tr>\n",
              "      <th>0</th>\n",
              "      <td>Sikeston</td>\n",
              "      <td>MO</td>\n",
              "      <td>36.876719</td>\n",
              "      <td>-89.587858</td>\n",
              "      <td>Grapevine</td>\n",
              "      <td>TX</td>\n",
              "      <td>32.934292</td>\n",
              "      <td>-97.078065</td>\n",
              "      <td>True</td>\n",
              "    </tr>\n",
              "    <tr>\n",
              "      <th>1</th>\n",
              "      <td>Christiansburg</td>\n",
              "      <td>VA</td>\n",
              "      <td>37.129852</td>\n",
              "      <td>-80.408939</td>\n",
              "      <td>Apopka</td>\n",
              "      <td>FL</td>\n",
              "      <td>28.693408</td>\n",
              "      <td>-81.532215</td>\n",
              "      <td>True</td>\n",
              "    </tr>\n",
              "    <tr>\n",
              "      <th>2</th>\n",
              "      <td>Columbus</td>\n",
              "      <td>OH</td>\n",
              "      <td>39.961176</td>\n",
              "      <td>-82.998794</td>\n",
              "      <td>Woodland</td>\n",
              "      <td>CA</td>\n",
              "      <td>38.678516</td>\n",
              "      <td>-121.773297</td>\n",
              "      <td>True</td>\n",
              "    </tr>\n",
              "    <tr>\n",
              "      <th>4</th>\n",
              "      <td>Hickory</td>\n",
              "      <td>NC</td>\n",
              "      <td>35.734454</td>\n",
              "      <td>-81.344457</td>\n",
              "      <td>La Pine</td>\n",
              "      <td>OR</td>\n",
              "      <td>43.670399</td>\n",
              "      <td>-121.503636</td>\n",
              "      <td>True</td>\n",
              "    </tr>\n",
              "  </tbody>\n",
              "</table>\n",
              "</div>"
            ],
            "text/plain": [
              "      origin_city origin_state  ...  destination_lng  presence\n",
              "0        Sikeston           MO  ...       -97.078065      True\n",
              "1  Christiansburg           VA  ...       -81.532215      True\n",
              "2        Columbus           OH  ...      -121.773297      True\n",
              "4         Hickory           NC  ...      -121.503636      True\n",
              "\n",
              "[4 rows x 9 columns]"
            ]
          },
          "metadata": {
            "tags": []
          },
          "execution_count": 31
        }
      ]
    },
    {
      "cell_type": "code",
      "metadata": {
        "id": "UmtDHFFMqaeQ",
        "colab_type": "code",
        "outputId": "11427d0f-b427-42ef-8b54-9aa00c4bc0d8",
        "colab": {
          "base_uri": "https://localhost:8080/",
          "height": 225
        }
      },
      "source": [
        "#Our trucks will move from these destinations in the states for carrying the cargo to the destination.\n",
        "final_trucks"
      ],
      "execution_count": 0,
      "outputs": [
        {
          "output_type": "execute_result",
          "data": {
            "text/html": [
              "<div>\n",
              "<style scoped>\n",
              "    .dataframe tbody tr th:only-of-type {\n",
              "        vertical-align: middle;\n",
              "    }\n",
              "\n",
              "    .dataframe tbody tr th {\n",
              "        vertical-align: top;\n",
              "    }\n",
              "\n",
              "    .dataframe thead th {\n",
              "        text-align: right;\n",
              "    }\n",
              "</style>\n",
              "<table border=\"1\" class=\"dataframe\">\n",
              "  <thead>\n",
              "    <tr style=\"text-align: right;\">\n",
              "      <th></th>\n",
              "      <th>truck</th>\n",
              "      <th>city</th>\n",
              "      <th>state</th>\n",
              "      <th>lat</th>\n",
              "      <th>lng</th>\n",
              "      <th>presence</th>\n",
              "    </tr>\n",
              "  </thead>\n",
              "  <tbody>\n",
              "    <tr>\n",
              "      <th>4</th>\n",
              "      <td>Ibrahim Chimandalpharetta</td>\n",
              "      <td>Toledo</td>\n",
              "      <td>OH</td>\n",
              "      <td>41.663938</td>\n",
              "      <td>-83.555212</td>\n",
              "      <td>True</td>\n",
              "    </tr>\n",
              "    <tr>\n",
              "      <th>6</th>\n",
              "      <td>Macomb Iron Llchesterfield</td>\n",
              "      <td>Cleveland</td>\n",
              "      <td>OH</td>\n",
              "      <td>41.499320</td>\n",
              "      <td>-81.694361</td>\n",
              "      <td>True</td>\n",
              "    </tr>\n",
              "    <tr>\n",
              "      <th>16</th>\n",
              "      <td>Paul J Krez Companyorton Grove</td>\n",
              "      <td>Forest City</td>\n",
              "      <td>NC</td>\n",
              "      <td>35.334011</td>\n",
              "      <td>-81.865103</td>\n",
              "      <td>True</td>\n",
              "    </tr>\n",
              "    <tr>\n",
              "      <th>24</th>\n",
              "      <td>Ricardo Juradoacramento</td>\n",
              "      <td>Covesville</td>\n",
              "      <td>VA</td>\n",
              "      <td>37.890141</td>\n",
              "      <td>-78.704740</td>\n",
              "      <td>True</td>\n",
              "    </tr>\n",
              "    <tr>\n",
              "      <th>27</th>\n",
              "      <td>Kjellberg'S Carpet Oneuffalo</td>\n",
              "      <td>Mount Vernon</td>\n",
              "      <td>OH</td>\n",
              "      <td>40.393396</td>\n",
              "      <td>-82.485718</td>\n",
              "      <td>True</td>\n",
              "    </tr>\n",
              "    <tr>\n",
              "      <th>37</th>\n",
              "      <td>Efrain Morales Diazorwalk</td>\n",
              "      <td>Marshfield</td>\n",
              "      <td>MO</td>\n",
              "      <td>37.338658</td>\n",
              "      <td>-92.907121</td>\n",
              "      <td>True</td>\n",
              "    </tr>\n",
              "  </tbody>\n",
              "</table>\n",
              "</div>"
            ],
            "text/plain": [
              "                             truck          city  ...        lng  presence\n",
              "4        Ibrahim Chimandalpharetta        Toledo  ... -83.555212      True\n",
              "6       Macomb Iron Llchesterfield     Cleveland  ... -81.694361      True\n",
              "16  Paul J Krez Companyorton Grove   Forest City  ... -81.865103      True\n",
              "24         Ricardo Juradoacramento    Covesville  ... -78.704740      True\n",
              "27    Kjellberg'S Carpet Oneuffalo  Mount Vernon  ... -82.485718      True\n",
              "37       Efrain Morales Diazorwalk    Marshfield  ... -92.907121      True\n",
              "\n",
              "[6 rows x 6 columns]"
            ]
          },
          "metadata": {
            "tags": []
          },
          "execution_count": 33
        }
      ]
    },
    {
      "cell_type": "code",
      "metadata": {
        "id": "nQMI-t8Fy5Np",
        "colab_type": "code",
        "outputId": "20da420c-57c1-4b07-9c2e-fb272fe912d6",
        "colab": {
          "base_uri": "https://localhost:8080/",
          "height": 84
        }
      },
      "source": [
        "#Get the latitude and longitude to calculate the distance between the cargo source and cargo destination\n",
        "slat = final_cargo['origin_lat'].tolist()\n",
        "slng = final_cargo['origin_lng'].tolist()\n",
        "dlat = final_cargo['destination_lat'].tolist() \n",
        "dlng = final_cargo['destination_lng'].tolist()\n",
        "print(\"Origin Lats : \",slat)\n",
        "print(\"Origin Longs : \",slng)\n",
        "print(\"Destination Lats : \",dlat)\n",
        "print(\"Destination Longs : \",dlng)\n"
      ],
      "execution_count": 0,
      "outputs": [
        {
          "output_type": "stream",
          "text": [
            "Origin Lats :  [36.876719, 37.1298517, 39.9611755, 35.7344538]\n",
            "Origin Longs :  [-89.5878579, -80.40893890000001, -82.99879419999998, -81.3444573]\n",
            "Destination Lats :  [32.9342919, 28.6934076, 38.67851570000001, 43.67039949999999]\n",
            "Destination Longs :  [-97.07806540000001, -81.53221490000001, -121.7732971, -121.50363600000001]\n"
          ],
          "name": "stdout"
        }
      ]
    },
    {
      "cell_type": "code",
      "metadata": {
        "id": "KUTpy1SqtNtW",
        "colab_type": "code",
        "colab": {}
      },
      "source": [
        "#Calculate the cargo distances from source to destination\n",
        "#Function to calculate the distance given latitude and longitude data \n",
        "import geopy\n",
        "from geopy.distance import geodesic\n",
        "def cal_dist(slat,slng,dlat,dlng):\n",
        "  source = (slat,slng)\n",
        "  dest = (dlat,dlng)\n",
        "  dist = geodesic(source,dest).km\n",
        "  return dist\n",
        "  \n",
        "  "
      ],
      "execution_count": 0,
      "outputs": []
    },
    {
      "cell_type": "code",
      "metadata": {
        "id": "6ihtLeOq0cN2",
        "colab_type": "code",
        "colab": {}
      },
      "source": [
        "#Calculating the distance between source and destination in cargo and store in other columns\n",
        "distance = []\n",
        "for slat1,slng1,dlat1,dlng1 in zip(slat,slng,dlat,dlng):\n",
        "  dist = cal_dist(slat1,slng1,dlat1,dlng1)\n",
        "  distance.append(dist)\n",
        "\n",
        "  # print(slat1)\n",
        "  # print(slng1)\n",
        "  # print(dlat1)\n",
        "  # print(dlng1)\n",
        "  # print(\"Distance : \",dist)\n",
        "  # print(\"\\n\\n\")\n",
        "\n"
      ],
      "execution_count": 0,
      "outputs": []
    },
    {
      "cell_type": "code",
      "metadata": {
        "id": "K91Zi6aoHOwA",
        "colab_type": "code",
        "outputId": "45d53e0e-8f9c-44be-8efc-1bc811f35e63",
        "colab": {
          "base_uri": "https://localhost:8080/",
          "height": 166
        }
      },
      "source": [
        "#Adding the distance values from source to destination as a column in the existing dataframe copy\n",
        "final_cargo1 = final_cargo.copy()\n",
        "final_cargo1['Distance_Cargo_Source_Destination'] = distance\n",
        "final_cargo1"
      ],
      "execution_count": 0,
      "outputs": [
        {
          "output_type": "execute_result",
          "data": {
            "text/html": [
              "<div>\n",
              "<style scoped>\n",
              "    .dataframe tbody tr th:only-of-type {\n",
              "        vertical-align: middle;\n",
              "    }\n",
              "\n",
              "    .dataframe tbody tr th {\n",
              "        vertical-align: top;\n",
              "    }\n",
              "\n",
              "    .dataframe thead th {\n",
              "        text-align: right;\n",
              "    }\n",
              "</style>\n",
              "<table border=\"1\" class=\"dataframe\">\n",
              "  <thead>\n",
              "    <tr style=\"text-align: right;\">\n",
              "      <th></th>\n",
              "      <th>origin_city</th>\n",
              "      <th>origin_state</th>\n",
              "      <th>origin_lat</th>\n",
              "      <th>origin_lng</th>\n",
              "      <th>destination_city</th>\n",
              "      <th>destination_state</th>\n",
              "      <th>destination_lat</th>\n",
              "      <th>destination_lng</th>\n",
              "      <th>presence</th>\n",
              "      <th>Distance_Cargo_Source_Destination</th>\n",
              "    </tr>\n",
              "  </thead>\n",
              "  <tbody>\n",
              "    <tr>\n",
              "      <th>0</th>\n",
              "      <td>Sikeston</td>\n",
              "      <td>MO</td>\n",
              "      <td>36.876719</td>\n",
              "      <td>-89.587858</td>\n",
              "      <td>Grapevine</td>\n",
              "      <td>TX</td>\n",
              "      <td>32.934292</td>\n",
              "      <td>-97.078065</td>\n",
              "      <td>True</td>\n",
              "      <td>811.929431</td>\n",
              "    </tr>\n",
              "    <tr>\n",
              "      <th>1</th>\n",
              "      <td>Christiansburg</td>\n",
              "      <td>VA</td>\n",
              "      <td>37.129852</td>\n",
              "      <td>-80.408939</td>\n",
              "      <td>Apopka</td>\n",
              "      <td>FL</td>\n",
              "      <td>28.693408</td>\n",
              "      <td>-81.532215</td>\n",
              "      <td>True</td>\n",
              "      <td>941.491102</td>\n",
              "    </tr>\n",
              "    <tr>\n",
              "      <th>2</th>\n",
              "      <td>Columbus</td>\n",
              "      <td>OH</td>\n",
              "      <td>39.961176</td>\n",
              "      <td>-82.998794</td>\n",
              "      <td>Woodland</td>\n",
              "      <td>CA</td>\n",
              "      <td>38.678516</td>\n",
              "      <td>-121.773297</td>\n",
              "      <td>True</td>\n",
              "      <td>3320.287177</td>\n",
              "    </tr>\n",
              "    <tr>\n",
              "      <th>4</th>\n",
              "      <td>Hickory</td>\n",
              "      <td>NC</td>\n",
              "      <td>35.734454</td>\n",
              "      <td>-81.344457</td>\n",
              "      <td>La Pine</td>\n",
              "      <td>OR</td>\n",
              "      <td>43.670399</td>\n",
              "      <td>-121.503636</td>\n",
              "      <td>True</td>\n",
              "      <td>3518.201257</td>\n",
              "    </tr>\n",
              "  </tbody>\n",
              "</table>\n",
              "</div>"
            ],
            "text/plain": [
              "      origin_city origin_state  ...  presence  Distance_Cargo_Source_Destination\n",
              "0        Sikeston           MO  ...      True                         811.929431\n",
              "1  Christiansburg           VA  ...      True                         941.491102\n",
              "2        Columbus           OH  ...      True                        3320.287177\n",
              "4         Hickory           NC  ...      True                        3518.201257\n",
              "\n",
              "[4 rows x 10 columns]"
            ]
          },
          "metadata": {
            "tags": []
          },
          "execution_count": 37
        }
      ]
    },
    {
      "cell_type": "code",
      "metadata": {
        "id": "s22pjxiyLEe1",
        "colab_type": "code",
        "outputId": "9d7655de-feb9-4ec2-fbb6-6d98b3d999c8",
        "colab": {
          "base_uri": "https://localhost:8080/",
          "height": 225
        }
      },
      "source": [
        "#Just printing the trucks data and renaming the columns\n",
        "final_trucks = final_trucks.rename(columns={'city':'truck_city','state':'truck_state','lat':'truck_lat','lng':'truck_lng'})\n",
        "final_trucks"
      ],
      "execution_count": 0,
      "outputs": [
        {
          "output_type": "execute_result",
          "data": {
            "text/html": [
              "<div>\n",
              "<style scoped>\n",
              "    .dataframe tbody tr th:only-of-type {\n",
              "        vertical-align: middle;\n",
              "    }\n",
              "\n",
              "    .dataframe tbody tr th {\n",
              "        vertical-align: top;\n",
              "    }\n",
              "\n",
              "    .dataframe thead th {\n",
              "        text-align: right;\n",
              "    }\n",
              "</style>\n",
              "<table border=\"1\" class=\"dataframe\">\n",
              "  <thead>\n",
              "    <tr style=\"text-align: right;\">\n",
              "      <th></th>\n",
              "      <th>truck</th>\n",
              "      <th>truck_city</th>\n",
              "      <th>truck_state</th>\n",
              "      <th>truck_lat</th>\n",
              "      <th>truck_lng</th>\n",
              "      <th>presence</th>\n",
              "    </tr>\n",
              "  </thead>\n",
              "  <tbody>\n",
              "    <tr>\n",
              "      <th>4</th>\n",
              "      <td>Ibrahim Chimandalpharetta</td>\n",
              "      <td>Toledo</td>\n",
              "      <td>OH</td>\n",
              "      <td>41.663938</td>\n",
              "      <td>-83.555212</td>\n",
              "      <td>True</td>\n",
              "    </tr>\n",
              "    <tr>\n",
              "      <th>6</th>\n",
              "      <td>Macomb Iron Llchesterfield</td>\n",
              "      <td>Cleveland</td>\n",
              "      <td>OH</td>\n",
              "      <td>41.499320</td>\n",
              "      <td>-81.694361</td>\n",
              "      <td>True</td>\n",
              "    </tr>\n",
              "    <tr>\n",
              "      <th>16</th>\n",
              "      <td>Paul J Krez Companyorton Grove</td>\n",
              "      <td>Forest City</td>\n",
              "      <td>NC</td>\n",
              "      <td>35.334011</td>\n",
              "      <td>-81.865103</td>\n",
              "      <td>True</td>\n",
              "    </tr>\n",
              "    <tr>\n",
              "      <th>24</th>\n",
              "      <td>Ricardo Juradoacramento</td>\n",
              "      <td>Covesville</td>\n",
              "      <td>VA</td>\n",
              "      <td>37.890141</td>\n",
              "      <td>-78.704740</td>\n",
              "      <td>True</td>\n",
              "    </tr>\n",
              "    <tr>\n",
              "      <th>27</th>\n",
              "      <td>Kjellberg'S Carpet Oneuffalo</td>\n",
              "      <td>Mount Vernon</td>\n",
              "      <td>OH</td>\n",
              "      <td>40.393396</td>\n",
              "      <td>-82.485718</td>\n",
              "      <td>True</td>\n",
              "    </tr>\n",
              "    <tr>\n",
              "      <th>37</th>\n",
              "      <td>Efrain Morales Diazorwalk</td>\n",
              "      <td>Marshfield</td>\n",
              "      <td>MO</td>\n",
              "      <td>37.338658</td>\n",
              "      <td>-92.907121</td>\n",
              "      <td>True</td>\n",
              "    </tr>\n",
              "  </tbody>\n",
              "</table>\n",
              "</div>"
            ],
            "text/plain": [
              "                             truck    truck_city  ...  truck_lng  presence\n",
              "4        Ibrahim Chimandalpharetta        Toledo  ... -83.555212      True\n",
              "6       Macomb Iron Llchesterfield     Cleveland  ... -81.694361      True\n",
              "16  Paul J Krez Companyorton Grove   Forest City  ... -81.865103      True\n",
              "24         Ricardo Juradoacramento    Covesville  ... -78.704740      True\n",
              "27    Kjellberg'S Carpet Oneuffalo  Mount Vernon  ... -82.485718      True\n",
              "37       Efrain Morales Diazorwalk    Marshfield  ... -92.907121      True\n",
              "\n",
              "[6 rows x 6 columns]"
            ]
          },
          "metadata": {
            "tags": []
          },
          "execution_count": 38
        }
      ]
    },
    {
      "cell_type": "code",
      "metadata": {
        "id": "EiepGmbWPhBw",
        "colab_type": "code",
        "outputId": "b36d1500-3b0a-45fb-d220-ec0e559e6a66",
        "colab": {
          "base_uri": "https://localhost:8080/",
          "height": 362
        }
      },
      "source": [
        "#Combine the truck data\n",
        "data = final_trucks.merge(final_cargo1,right_on=final_cargo1.origin_state,left_on=final_trucks.truck_state)\n",
        "data"
      ],
      "execution_count": 0,
      "outputs": [
        {
          "output_type": "execute_result",
          "data": {
            "text/html": [
              "<div>\n",
              "<style scoped>\n",
              "    .dataframe tbody tr th:only-of-type {\n",
              "        vertical-align: middle;\n",
              "    }\n",
              "\n",
              "    .dataframe tbody tr th {\n",
              "        vertical-align: top;\n",
              "    }\n",
              "\n",
              "    .dataframe thead th {\n",
              "        text-align: right;\n",
              "    }\n",
              "</style>\n",
              "<table border=\"1\" class=\"dataframe\">\n",
              "  <thead>\n",
              "    <tr style=\"text-align: right;\">\n",
              "      <th></th>\n",
              "      <th>key_0</th>\n",
              "      <th>truck</th>\n",
              "      <th>truck_city</th>\n",
              "      <th>truck_state</th>\n",
              "      <th>truck_lat</th>\n",
              "      <th>truck_lng</th>\n",
              "      <th>presence_x</th>\n",
              "      <th>origin_city</th>\n",
              "      <th>origin_state</th>\n",
              "      <th>origin_lat</th>\n",
              "      <th>origin_lng</th>\n",
              "      <th>destination_city</th>\n",
              "      <th>destination_state</th>\n",
              "      <th>destination_lat</th>\n",
              "      <th>destination_lng</th>\n",
              "      <th>presence_y</th>\n",
              "      <th>Distance_Cargo_Source_Destination</th>\n",
              "    </tr>\n",
              "  </thead>\n",
              "  <tbody>\n",
              "    <tr>\n",
              "      <th>0</th>\n",
              "      <td>OH</td>\n",
              "      <td>Ibrahim Chimandalpharetta</td>\n",
              "      <td>Toledo</td>\n",
              "      <td>OH</td>\n",
              "      <td>41.663938</td>\n",
              "      <td>-83.555212</td>\n",
              "      <td>True</td>\n",
              "      <td>Columbus</td>\n",
              "      <td>OH</td>\n",
              "      <td>39.961176</td>\n",
              "      <td>-82.998794</td>\n",
              "      <td>Woodland</td>\n",
              "      <td>CA</td>\n",
              "      <td>38.678516</td>\n",
              "      <td>-121.773297</td>\n",
              "      <td>True</td>\n",
              "      <td>3320.287177</td>\n",
              "    </tr>\n",
              "    <tr>\n",
              "      <th>1</th>\n",
              "      <td>OH</td>\n",
              "      <td>Macomb Iron Llchesterfield</td>\n",
              "      <td>Cleveland</td>\n",
              "      <td>OH</td>\n",
              "      <td>41.499320</td>\n",
              "      <td>-81.694361</td>\n",
              "      <td>True</td>\n",
              "      <td>Columbus</td>\n",
              "      <td>OH</td>\n",
              "      <td>39.961176</td>\n",
              "      <td>-82.998794</td>\n",
              "      <td>Woodland</td>\n",
              "      <td>CA</td>\n",
              "      <td>38.678516</td>\n",
              "      <td>-121.773297</td>\n",
              "      <td>True</td>\n",
              "      <td>3320.287177</td>\n",
              "    </tr>\n",
              "    <tr>\n",
              "      <th>2</th>\n",
              "      <td>OH</td>\n",
              "      <td>Kjellberg'S Carpet Oneuffalo</td>\n",
              "      <td>Mount Vernon</td>\n",
              "      <td>OH</td>\n",
              "      <td>40.393396</td>\n",
              "      <td>-82.485718</td>\n",
              "      <td>True</td>\n",
              "      <td>Columbus</td>\n",
              "      <td>OH</td>\n",
              "      <td>39.961176</td>\n",
              "      <td>-82.998794</td>\n",
              "      <td>Woodland</td>\n",
              "      <td>CA</td>\n",
              "      <td>38.678516</td>\n",
              "      <td>-121.773297</td>\n",
              "      <td>True</td>\n",
              "      <td>3320.287177</td>\n",
              "    </tr>\n",
              "    <tr>\n",
              "      <th>3</th>\n",
              "      <td>NC</td>\n",
              "      <td>Paul J Krez Companyorton Grove</td>\n",
              "      <td>Forest City</td>\n",
              "      <td>NC</td>\n",
              "      <td>35.334011</td>\n",
              "      <td>-81.865103</td>\n",
              "      <td>True</td>\n",
              "      <td>Hickory</td>\n",
              "      <td>NC</td>\n",
              "      <td>35.734454</td>\n",
              "      <td>-81.344457</td>\n",
              "      <td>La Pine</td>\n",
              "      <td>OR</td>\n",
              "      <td>43.670399</td>\n",
              "      <td>-121.503636</td>\n",
              "      <td>True</td>\n",
              "      <td>3518.201257</td>\n",
              "    </tr>\n",
              "    <tr>\n",
              "      <th>4</th>\n",
              "      <td>VA</td>\n",
              "      <td>Ricardo Juradoacramento</td>\n",
              "      <td>Covesville</td>\n",
              "      <td>VA</td>\n",
              "      <td>37.890141</td>\n",
              "      <td>-78.704740</td>\n",
              "      <td>True</td>\n",
              "      <td>Christiansburg</td>\n",
              "      <td>VA</td>\n",
              "      <td>37.129852</td>\n",
              "      <td>-80.408939</td>\n",
              "      <td>Apopka</td>\n",
              "      <td>FL</td>\n",
              "      <td>28.693408</td>\n",
              "      <td>-81.532215</td>\n",
              "      <td>True</td>\n",
              "      <td>941.491102</td>\n",
              "    </tr>\n",
              "    <tr>\n",
              "      <th>5</th>\n",
              "      <td>MO</td>\n",
              "      <td>Efrain Morales Diazorwalk</td>\n",
              "      <td>Marshfield</td>\n",
              "      <td>MO</td>\n",
              "      <td>37.338658</td>\n",
              "      <td>-92.907121</td>\n",
              "      <td>True</td>\n",
              "      <td>Sikeston</td>\n",
              "      <td>MO</td>\n",
              "      <td>36.876719</td>\n",
              "      <td>-89.587858</td>\n",
              "      <td>Grapevine</td>\n",
              "      <td>TX</td>\n",
              "      <td>32.934292</td>\n",
              "      <td>-97.078065</td>\n",
              "      <td>True</td>\n",
              "      <td>811.929431</td>\n",
              "    </tr>\n",
              "  </tbody>\n",
              "</table>\n",
              "</div>"
            ],
            "text/plain": [
              "  key_0  ... Distance_Cargo_Source_Destination\n",
              "0    OH  ...                       3320.287177\n",
              "1    OH  ...                       3320.287177\n",
              "2    OH  ...                       3320.287177\n",
              "3    NC  ...                       3518.201257\n",
              "4    VA  ...                        941.491102\n",
              "5    MO  ...                        811.929431\n",
              "\n",
              "[6 rows x 17 columns]"
            ]
          },
          "metadata": {
            "tags": []
          },
          "execution_count": 39
        }
      ]
    },
    {
      "cell_type": "code",
      "metadata": {
        "id": "nyILaFFtWF05",
        "colab_type": "code",
        "colab": {}
      },
      "source": [
        "#Calculate the distance between the truck origin and cargo origin\n",
        "tlat =  data['truck_lat'].tolist()\n",
        "tlng =  data['truck_lng'].tolist()\n",
        "colat = data['origin_lat'].tolist() \n",
        "colng = data['origin_lng'].tolist()"
      ],
      "execution_count": 0,
      "outputs": []
    },
    {
      "cell_type": "code",
      "metadata": {
        "id": "uBlhoAh4XGFt",
        "colab_type": "code",
        "outputId": "12df0b86-f8b6-4bc5-911b-19b803cd8e60",
        "colab": {
          "base_uri": "https://localhost:8080/",
          "height": 521
        }
      },
      "source": [
        "distancetcity2corg = []\n",
        "# type(slat)\n",
        "for tlat1,tlng1,colat1,colng1 in zip(tlat,tlng,colat,colng):\n",
        "  dist = cal_dist(tlat1,tlng1,colat1,colng1)\n",
        "  print(tlat1,tlng1,colat1,colng1)\n",
        "  print(dist)\n",
        "  print(\"\\n\\n\")\n",
        "  distancetcity2corg.append(dist)"
      ],
      "execution_count": 0,
      "outputs": [
        {
          "output_type": "stream",
          "text": [
            "41.6639383 -83.55521200000003 39.9611755 -82.99879419999998\n",
            "194.8316273089435\n",
            "\n",
            "\n",
            "\n",
            "41.499320000000004 -81.6943605 39.9611755 -82.99879419999998\n",
            "203.26352121734055\n",
            "\n",
            "\n",
            "\n",
            "40.3933956 -82.4857181 39.9611755 -82.99879419999998\n",
            "64.90743181300503\n",
            "\n",
            "\n",
            "\n",
            "35.334010799999994 -81.86510279999999 35.7344538 -81.3444573\n",
            "64.83406337274754\n",
            "\n",
            "\n",
            "\n",
            "37.8901411 -78.70474010000002 37.1298517 -80.40893890000001\n",
            "172.6894216535504\n",
            "\n",
            "\n",
            "\n",
            "37.338658 -92.90712090000001 36.876719 -89.5878579\n",
            "299.43990800112874\n",
            "\n",
            "\n",
            "\n"
          ],
          "name": "stdout"
        }
      ]
    },
    {
      "cell_type": "code",
      "metadata": {
        "id": "U6XNNSNwYMIy",
        "colab_type": "code",
        "outputId": "bce79653-a1a2-417c-ac84-e254f0c68d89",
        "colab": {
          "base_uri": "https://localhost:8080/",
          "height": 362
        }
      },
      "source": [
        "#Now add the truck origin to cargo origin distance in the dataframe\n",
        "final_data = data.copy()\n",
        "final_data['Distance_truck_to_cargo_origin'] = distancetcity2corg\n",
        "final_data"
      ],
      "execution_count": 0,
      "outputs": [
        {
          "output_type": "execute_result",
          "data": {
            "text/html": [
              "<div>\n",
              "<style scoped>\n",
              "    .dataframe tbody tr th:only-of-type {\n",
              "        vertical-align: middle;\n",
              "    }\n",
              "\n",
              "    .dataframe tbody tr th {\n",
              "        vertical-align: top;\n",
              "    }\n",
              "\n",
              "    .dataframe thead th {\n",
              "        text-align: right;\n",
              "    }\n",
              "</style>\n",
              "<table border=\"1\" class=\"dataframe\">\n",
              "  <thead>\n",
              "    <tr style=\"text-align: right;\">\n",
              "      <th></th>\n",
              "      <th>key_0</th>\n",
              "      <th>truck</th>\n",
              "      <th>truck_city</th>\n",
              "      <th>truck_state</th>\n",
              "      <th>truck_lat</th>\n",
              "      <th>truck_lng</th>\n",
              "      <th>presence_x</th>\n",
              "      <th>origin_city</th>\n",
              "      <th>origin_state</th>\n",
              "      <th>origin_lat</th>\n",
              "      <th>origin_lng</th>\n",
              "      <th>destination_city</th>\n",
              "      <th>destination_state</th>\n",
              "      <th>destination_lat</th>\n",
              "      <th>destination_lng</th>\n",
              "      <th>presence_y</th>\n",
              "      <th>Distance_Cargo_Source_Destination</th>\n",
              "      <th>Distance_truck_to_cargo_origin</th>\n",
              "    </tr>\n",
              "  </thead>\n",
              "  <tbody>\n",
              "    <tr>\n",
              "      <th>0</th>\n",
              "      <td>OH</td>\n",
              "      <td>Ibrahim Chimandalpharetta</td>\n",
              "      <td>Toledo</td>\n",
              "      <td>OH</td>\n",
              "      <td>41.663938</td>\n",
              "      <td>-83.555212</td>\n",
              "      <td>True</td>\n",
              "      <td>Columbus</td>\n",
              "      <td>OH</td>\n",
              "      <td>39.961176</td>\n",
              "      <td>-82.998794</td>\n",
              "      <td>Woodland</td>\n",
              "      <td>CA</td>\n",
              "      <td>38.678516</td>\n",
              "      <td>-121.773297</td>\n",
              "      <td>True</td>\n",
              "      <td>3320.287177</td>\n",
              "      <td>194.831627</td>\n",
              "    </tr>\n",
              "    <tr>\n",
              "      <th>1</th>\n",
              "      <td>OH</td>\n",
              "      <td>Macomb Iron Llchesterfield</td>\n",
              "      <td>Cleveland</td>\n",
              "      <td>OH</td>\n",
              "      <td>41.499320</td>\n",
              "      <td>-81.694361</td>\n",
              "      <td>True</td>\n",
              "      <td>Columbus</td>\n",
              "      <td>OH</td>\n",
              "      <td>39.961176</td>\n",
              "      <td>-82.998794</td>\n",
              "      <td>Woodland</td>\n",
              "      <td>CA</td>\n",
              "      <td>38.678516</td>\n",
              "      <td>-121.773297</td>\n",
              "      <td>True</td>\n",
              "      <td>3320.287177</td>\n",
              "      <td>203.263521</td>\n",
              "    </tr>\n",
              "    <tr>\n",
              "      <th>2</th>\n",
              "      <td>OH</td>\n",
              "      <td>Kjellberg'S Carpet Oneuffalo</td>\n",
              "      <td>Mount Vernon</td>\n",
              "      <td>OH</td>\n",
              "      <td>40.393396</td>\n",
              "      <td>-82.485718</td>\n",
              "      <td>True</td>\n",
              "      <td>Columbus</td>\n",
              "      <td>OH</td>\n",
              "      <td>39.961176</td>\n",
              "      <td>-82.998794</td>\n",
              "      <td>Woodland</td>\n",
              "      <td>CA</td>\n",
              "      <td>38.678516</td>\n",
              "      <td>-121.773297</td>\n",
              "      <td>True</td>\n",
              "      <td>3320.287177</td>\n",
              "      <td>64.907432</td>\n",
              "    </tr>\n",
              "    <tr>\n",
              "      <th>3</th>\n",
              "      <td>NC</td>\n",
              "      <td>Paul J Krez Companyorton Grove</td>\n",
              "      <td>Forest City</td>\n",
              "      <td>NC</td>\n",
              "      <td>35.334011</td>\n",
              "      <td>-81.865103</td>\n",
              "      <td>True</td>\n",
              "      <td>Hickory</td>\n",
              "      <td>NC</td>\n",
              "      <td>35.734454</td>\n",
              "      <td>-81.344457</td>\n",
              "      <td>La Pine</td>\n",
              "      <td>OR</td>\n",
              "      <td>43.670399</td>\n",
              "      <td>-121.503636</td>\n",
              "      <td>True</td>\n",
              "      <td>3518.201257</td>\n",
              "      <td>64.834063</td>\n",
              "    </tr>\n",
              "    <tr>\n",
              "      <th>4</th>\n",
              "      <td>VA</td>\n",
              "      <td>Ricardo Juradoacramento</td>\n",
              "      <td>Covesville</td>\n",
              "      <td>VA</td>\n",
              "      <td>37.890141</td>\n",
              "      <td>-78.704740</td>\n",
              "      <td>True</td>\n",
              "      <td>Christiansburg</td>\n",
              "      <td>VA</td>\n",
              "      <td>37.129852</td>\n",
              "      <td>-80.408939</td>\n",
              "      <td>Apopka</td>\n",
              "      <td>FL</td>\n",
              "      <td>28.693408</td>\n",
              "      <td>-81.532215</td>\n",
              "      <td>True</td>\n",
              "      <td>941.491102</td>\n",
              "      <td>172.689422</td>\n",
              "    </tr>\n",
              "    <tr>\n",
              "      <th>5</th>\n",
              "      <td>MO</td>\n",
              "      <td>Efrain Morales Diazorwalk</td>\n",
              "      <td>Marshfield</td>\n",
              "      <td>MO</td>\n",
              "      <td>37.338658</td>\n",
              "      <td>-92.907121</td>\n",
              "      <td>True</td>\n",
              "      <td>Sikeston</td>\n",
              "      <td>MO</td>\n",
              "      <td>36.876719</td>\n",
              "      <td>-89.587858</td>\n",
              "      <td>Grapevine</td>\n",
              "      <td>TX</td>\n",
              "      <td>32.934292</td>\n",
              "      <td>-97.078065</td>\n",
              "      <td>True</td>\n",
              "      <td>811.929431</td>\n",
              "      <td>299.439908</td>\n",
              "    </tr>\n",
              "  </tbody>\n",
              "</table>\n",
              "</div>"
            ],
            "text/plain": [
              "  key_0  ... Distance_truck_to_cargo_origin\n",
              "0    OH  ...                     194.831627\n",
              "1    OH  ...                     203.263521\n",
              "2    OH  ...                      64.907432\n",
              "3    NC  ...                      64.834063\n",
              "4    VA  ...                     172.689422\n",
              "5    MO  ...                     299.439908\n",
              "\n",
              "[6 rows x 18 columns]"
            ]
          },
          "metadata": {
            "tags": []
          },
          "execution_count": 42
        }
      ]
    },
    {
      "cell_type": "code",
      "metadata": {
        "id": "YTOobeBvY4kn",
        "colab_type": "code",
        "outputId": "32209bfa-c65e-4e27-98a5-71b5eb0d4718",
        "colab": {
          "base_uri": "https://localhost:8080/",
          "height": 362
        }
      },
      "source": [
        "#Calculate the total distance\n",
        "final_data['Total_Distance'] = final_data['Distance_Cargo_Source_Destination'] + final_data['Distance_truck_to_cargo_origin']\n",
        "final_data"
      ],
      "execution_count": 0,
      "outputs": [
        {
          "output_type": "execute_result",
          "data": {
            "text/html": [
              "<div>\n",
              "<style scoped>\n",
              "    .dataframe tbody tr th:only-of-type {\n",
              "        vertical-align: middle;\n",
              "    }\n",
              "\n",
              "    .dataframe tbody tr th {\n",
              "        vertical-align: top;\n",
              "    }\n",
              "\n",
              "    .dataframe thead th {\n",
              "        text-align: right;\n",
              "    }\n",
              "</style>\n",
              "<table border=\"1\" class=\"dataframe\">\n",
              "  <thead>\n",
              "    <tr style=\"text-align: right;\">\n",
              "      <th></th>\n",
              "      <th>key_0</th>\n",
              "      <th>truck</th>\n",
              "      <th>truck_city</th>\n",
              "      <th>truck_state</th>\n",
              "      <th>truck_lat</th>\n",
              "      <th>truck_lng</th>\n",
              "      <th>presence_x</th>\n",
              "      <th>origin_city</th>\n",
              "      <th>origin_state</th>\n",
              "      <th>origin_lat</th>\n",
              "      <th>origin_lng</th>\n",
              "      <th>destination_city</th>\n",
              "      <th>destination_state</th>\n",
              "      <th>destination_lat</th>\n",
              "      <th>destination_lng</th>\n",
              "      <th>presence_y</th>\n",
              "      <th>Distance_Cargo_Source_Destination</th>\n",
              "      <th>Distance_truck_to_cargo_origin</th>\n",
              "      <th>Total_Distance</th>\n",
              "    </tr>\n",
              "  </thead>\n",
              "  <tbody>\n",
              "    <tr>\n",
              "      <th>0</th>\n",
              "      <td>OH</td>\n",
              "      <td>Ibrahim Chimandalpharetta</td>\n",
              "      <td>Toledo</td>\n",
              "      <td>OH</td>\n",
              "      <td>41.663938</td>\n",
              "      <td>-83.555212</td>\n",
              "      <td>True</td>\n",
              "      <td>Columbus</td>\n",
              "      <td>OH</td>\n",
              "      <td>39.961176</td>\n",
              "      <td>-82.998794</td>\n",
              "      <td>Woodland</td>\n",
              "      <td>CA</td>\n",
              "      <td>38.678516</td>\n",
              "      <td>-121.773297</td>\n",
              "      <td>True</td>\n",
              "      <td>3320.287177</td>\n",
              "      <td>194.831627</td>\n",
              "      <td>3515.118804</td>\n",
              "    </tr>\n",
              "    <tr>\n",
              "      <th>1</th>\n",
              "      <td>OH</td>\n",
              "      <td>Macomb Iron Llchesterfield</td>\n",
              "      <td>Cleveland</td>\n",
              "      <td>OH</td>\n",
              "      <td>41.499320</td>\n",
              "      <td>-81.694361</td>\n",
              "      <td>True</td>\n",
              "      <td>Columbus</td>\n",
              "      <td>OH</td>\n",
              "      <td>39.961176</td>\n",
              "      <td>-82.998794</td>\n",
              "      <td>Woodland</td>\n",
              "      <td>CA</td>\n",
              "      <td>38.678516</td>\n",
              "      <td>-121.773297</td>\n",
              "      <td>True</td>\n",
              "      <td>3320.287177</td>\n",
              "      <td>203.263521</td>\n",
              "      <td>3523.550698</td>\n",
              "    </tr>\n",
              "    <tr>\n",
              "      <th>2</th>\n",
              "      <td>OH</td>\n",
              "      <td>Kjellberg'S Carpet Oneuffalo</td>\n",
              "      <td>Mount Vernon</td>\n",
              "      <td>OH</td>\n",
              "      <td>40.393396</td>\n",
              "      <td>-82.485718</td>\n",
              "      <td>True</td>\n",
              "      <td>Columbus</td>\n",
              "      <td>OH</td>\n",
              "      <td>39.961176</td>\n",
              "      <td>-82.998794</td>\n",
              "      <td>Woodland</td>\n",
              "      <td>CA</td>\n",
              "      <td>38.678516</td>\n",
              "      <td>-121.773297</td>\n",
              "      <td>True</td>\n",
              "      <td>3320.287177</td>\n",
              "      <td>64.907432</td>\n",
              "      <td>3385.194609</td>\n",
              "    </tr>\n",
              "    <tr>\n",
              "      <th>3</th>\n",
              "      <td>NC</td>\n",
              "      <td>Paul J Krez Companyorton Grove</td>\n",
              "      <td>Forest City</td>\n",
              "      <td>NC</td>\n",
              "      <td>35.334011</td>\n",
              "      <td>-81.865103</td>\n",
              "      <td>True</td>\n",
              "      <td>Hickory</td>\n",
              "      <td>NC</td>\n",
              "      <td>35.734454</td>\n",
              "      <td>-81.344457</td>\n",
              "      <td>La Pine</td>\n",
              "      <td>OR</td>\n",
              "      <td>43.670399</td>\n",
              "      <td>-121.503636</td>\n",
              "      <td>True</td>\n",
              "      <td>3518.201257</td>\n",
              "      <td>64.834063</td>\n",
              "      <td>3583.035320</td>\n",
              "    </tr>\n",
              "    <tr>\n",
              "      <th>4</th>\n",
              "      <td>VA</td>\n",
              "      <td>Ricardo Juradoacramento</td>\n",
              "      <td>Covesville</td>\n",
              "      <td>VA</td>\n",
              "      <td>37.890141</td>\n",
              "      <td>-78.704740</td>\n",
              "      <td>True</td>\n",
              "      <td>Christiansburg</td>\n",
              "      <td>VA</td>\n",
              "      <td>37.129852</td>\n",
              "      <td>-80.408939</td>\n",
              "      <td>Apopka</td>\n",
              "      <td>FL</td>\n",
              "      <td>28.693408</td>\n",
              "      <td>-81.532215</td>\n",
              "      <td>True</td>\n",
              "      <td>941.491102</td>\n",
              "      <td>172.689422</td>\n",
              "      <td>1114.180523</td>\n",
              "    </tr>\n",
              "    <tr>\n",
              "      <th>5</th>\n",
              "      <td>MO</td>\n",
              "      <td>Efrain Morales Diazorwalk</td>\n",
              "      <td>Marshfield</td>\n",
              "      <td>MO</td>\n",
              "      <td>37.338658</td>\n",
              "      <td>-92.907121</td>\n",
              "      <td>True</td>\n",
              "      <td>Sikeston</td>\n",
              "      <td>MO</td>\n",
              "      <td>36.876719</td>\n",
              "      <td>-89.587858</td>\n",
              "      <td>Grapevine</td>\n",
              "      <td>TX</td>\n",
              "      <td>32.934292</td>\n",
              "      <td>-97.078065</td>\n",
              "      <td>True</td>\n",
              "      <td>811.929431</td>\n",
              "      <td>299.439908</td>\n",
              "      <td>1111.369339</td>\n",
              "    </tr>\n",
              "  </tbody>\n",
              "</table>\n",
              "</div>"
            ],
            "text/plain": [
              "  key_0  ... Total_Distance\n",
              "0    OH  ...    3515.118804\n",
              "1    OH  ...    3523.550698\n",
              "2    OH  ...    3385.194609\n",
              "3    NC  ...    3583.035320\n",
              "4    VA  ...    1114.180523\n",
              "5    MO  ...    1111.369339\n",
              "\n",
              "[6 rows x 19 columns]"
            ]
          },
          "metadata": {
            "tags": []
          },
          "execution_count": 43
        }
      ]
    },
    {
      "cell_type": "code",
      "metadata": {
        "id": "CiMJiKiwq8si",
        "colab_type": "code",
        "outputId": "22d7a665-94db-4a1b-cf15-ef36f533e90a",
        "colab": {
          "base_uri": "https://localhost:8080/",
          "height": 118
        }
      },
      "source": [
        "final_data.columns"
      ],
      "execution_count": 0,
      "outputs": [
        {
          "output_type": "execute_result",
          "data": {
            "text/plain": [
              "Index(['key_0', 'truck', 'truck_city', 'truck_state', 'truck_lat', 'truck_lng',\n",
              "       'presence_x', 'origin_city', 'origin_state', 'origin_lat', 'origin_lng',\n",
              "       'destination_city', 'destination_state', 'destination_lat',\n",
              "       'destination_lng', 'presence_y', 'Distance_Cargo_Source_Destination',\n",
              "       'Distance_truck_to_cargo_origin', 'Total_Distance'],\n",
              "      dtype='object')"
            ]
          },
          "metadata": {
            "tags": []
          },
          "execution_count": 44
        }
      ]
    },
    {
      "cell_type": "code",
      "metadata": {
        "id": "s9GACaOkncZu",
        "colab_type": "code",
        "outputId": "9be2434e-5ce3-4028-ed36-9f1c31402d95",
        "colab": {
          "base_uri": "https://localhost:8080/",
          "height": 118
        }
      },
      "source": [
        " #Group the distance data by Origin State and find the minimum distance\n",
        "\n",
        "min_dist = final_data.groupby(['origin_state'])['Total_Distance'].agg()\n",
        "min_dist.head(10)"
      ],
      "execution_count": 0,
      "outputs": [
        {
          "output_type": "execute_result",
          "data": {
            "text/plain": [
              "origin_state\n",
              "MO    1111.369339\n",
              "NC    3583.035320\n",
              "OH    3385.194609\n",
              "VA    1114.180523\n",
              "Name: Total_Distance, dtype: float64"
            ]
          },
          "metadata": {
            "tags": []
          },
          "execution_count": 50
        }
      ]
    },
    {
      "cell_type": "code",
      "metadata": {
        "id": "eLrhMGayvxLc",
        "colab_type": "code",
        "outputId": "75f61fd6-2057-4feb-a98e-4044322e6ef7",
        "colab": {
          "base_uri": "https://localhost:8080/",
          "height": 118
        }
      },
      "source": [
        "indexmin = final_data.groupby(['origin_state'])['Total_Distance'].idxmin()\n",
        "indexmin"
      ],
      "execution_count": 0,
      "outputs": [
        {
          "output_type": "execute_result",
          "data": {
            "text/plain": [
              "origin_state\n",
              "MO    5\n",
              "NC    3\n",
              "OH    2\n",
              "VA    4\n",
              "Name: Total_Distance, dtype: int64"
            ]
          },
          "metadata": {
            "tags": []
          },
          "execution_count": 51
        }
      ]
    },
    {
      "cell_type": "code",
      "metadata": {
        "id": "Q9dntOXzrydL",
        "colab_type": "code",
        "outputId": "5663ffc1-3fed-42a8-fcff-d8c591a17ae5",
        "colab": {
          "base_uri": "https://localhost:8080/",
          "height": 270
        }
      },
      "source": [
        "final_data.loc[[2,3,4,5],:]"
      ],
      "execution_count": 0,
      "outputs": [
        {
          "output_type": "execute_result",
          "data": {
            "text/html": [
              "<div>\n",
              "<style scoped>\n",
              "    .dataframe tbody tr th:only-of-type {\n",
              "        vertical-align: middle;\n",
              "    }\n",
              "\n",
              "    .dataframe tbody tr th {\n",
              "        vertical-align: top;\n",
              "    }\n",
              "\n",
              "    .dataframe thead th {\n",
              "        text-align: right;\n",
              "    }\n",
              "</style>\n",
              "<table border=\"1\" class=\"dataframe\">\n",
              "  <thead>\n",
              "    <tr style=\"text-align: right;\">\n",
              "      <th></th>\n",
              "      <th>key_0</th>\n",
              "      <th>truck</th>\n",
              "      <th>truck_city</th>\n",
              "      <th>truck_state</th>\n",
              "      <th>truck_lat</th>\n",
              "      <th>truck_lng</th>\n",
              "      <th>presence_x</th>\n",
              "      <th>origin_city</th>\n",
              "      <th>origin_state</th>\n",
              "      <th>origin_lat</th>\n",
              "      <th>origin_lng</th>\n",
              "      <th>destination_city</th>\n",
              "      <th>destination_state</th>\n",
              "      <th>destination_lat</th>\n",
              "      <th>destination_lng</th>\n",
              "      <th>presence_y</th>\n",
              "      <th>Distance_Cargo_Source_Destination</th>\n",
              "      <th>Distance_truck_to_cargo_origin</th>\n",
              "      <th>Total_Distance</th>\n",
              "    </tr>\n",
              "  </thead>\n",
              "  <tbody>\n",
              "    <tr>\n",
              "      <th>2</th>\n",
              "      <td>OH</td>\n",
              "      <td>Kjellberg'S Carpet Oneuffalo</td>\n",
              "      <td>Mount Vernon</td>\n",
              "      <td>OH</td>\n",
              "      <td>40.393396</td>\n",
              "      <td>-82.485718</td>\n",
              "      <td>True</td>\n",
              "      <td>Columbus</td>\n",
              "      <td>OH</td>\n",
              "      <td>39.961176</td>\n",
              "      <td>-82.998794</td>\n",
              "      <td>Woodland</td>\n",
              "      <td>CA</td>\n",
              "      <td>38.678516</td>\n",
              "      <td>-121.773297</td>\n",
              "      <td>True</td>\n",
              "      <td>3320.287177</td>\n",
              "      <td>64.907432</td>\n",
              "      <td>3385.194609</td>\n",
              "    </tr>\n",
              "    <tr>\n",
              "      <th>3</th>\n",
              "      <td>NC</td>\n",
              "      <td>Paul J Krez Companyorton Grove</td>\n",
              "      <td>Forest City</td>\n",
              "      <td>NC</td>\n",
              "      <td>35.334011</td>\n",
              "      <td>-81.865103</td>\n",
              "      <td>True</td>\n",
              "      <td>Hickory</td>\n",
              "      <td>NC</td>\n",
              "      <td>35.734454</td>\n",
              "      <td>-81.344457</td>\n",
              "      <td>La Pine</td>\n",
              "      <td>OR</td>\n",
              "      <td>43.670399</td>\n",
              "      <td>-121.503636</td>\n",
              "      <td>True</td>\n",
              "      <td>3518.201257</td>\n",
              "      <td>64.834063</td>\n",
              "      <td>3583.035320</td>\n",
              "    </tr>\n",
              "    <tr>\n",
              "      <th>4</th>\n",
              "      <td>VA</td>\n",
              "      <td>Ricardo Juradoacramento</td>\n",
              "      <td>Covesville</td>\n",
              "      <td>VA</td>\n",
              "      <td>37.890141</td>\n",
              "      <td>-78.704740</td>\n",
              "      <td>True</td>\n",
              "      <td>Christiansburg</td>\n",
              "      <td>VA</td>\n",
              "      <td>37.129852</td>\n",
              "      <td>-80.408939</td>\n",
              "      <td>Apopka</td>\n",
              "      <td>FL</td>\n",
              "      <td>28.693408</td>\n",
              "      <td>-81.532215</td>\n",
              "      <td>True</td>\n",
              "      <td>941.491102</td>\n",
              "      <td>172.689422</td>\n",
              "      <td>1114.180523</td>\n",
              "    </tr>\n",
              "    <tr>\n",
              "      <th>5</th>\n",
              "      <td>MO</td>\n",
              "      <td>Efrain Morales Diazorwalk</td>\n",
              "      <td>Marshfield</td>\n",
              "      <td>MO</td>\n",
              "      <td>37.338658</td>\n",
              "      <td>-92.907121</td>\n",
              "      <td>True</td>\n",
              "      <td>Sikeston</td>\n",
              "      <td>MO</td>\n",
              "      <td>36.876719</td>\n",
              "      <td>-89.587858</td>\n",
              "      <td>Grapevine</td>\n",
              "      <td>TX</td>\n",
              "      <td>32.934292</td>\n",
              "      <td>-97.078065</td>\n",
              "      <td>True</td>\n",
              "      <td>811.929431</td>\n",
              "      <td>299.439908</td>\n",
              "      <td>1111.369339</td>\n",
              "    </tr>\n",
              "  </tbody>\n",
              "</table>\n",
              "</div>"
            ],
            "text/plain": [
              "  key_0  ... Total_Distance\n",
              "2    OH  ...    3385.194609\n",
              "3    NC  ...    3583.035320\n",
              "4    VA  ...    1114.180523\n",
              "5    MO  ...    1111.369339\n",
              "\n",
              "[4 rows x 19 columns]"
            ]
          },
          "metadata": {
            "tags": []
          },
          "execution_count": 65
        }
      ]
    },
    {
      "cell_type": "markdown",
      "metadata": {
        "id": "4RI3zBIV0Cj5",
        "colab_type": "text"
      },
      "source": [
        "**Code Ends Here **"
      ]
    },
    {
      "cell_type": "code",
      "metadata": {
        "id": "Xg5QOHuazfep",
        "colab_type": "code",
        "colab": {}
      },
      "source": [
        "#Testing Code Downwards"
      ],
      "execution_count": 0,
      "outputs": []
    },
    {
      "cell_type": "code",
      "metadata": {
        "id": "zlD8fUvEe7Mk",
        "colab_type": "code",
        "colab": {}
      },
      "source": [
        "# import geopy\n",
        "# from geopy.distance import geodesic\n"
      ],
      "execution_count": 0,
      "outputs": []
    },
    {
      "cell_type": "code",
      "metadata": {
        "id": "f5cr6WsZbfT9",
        "colab_type": "code",
        "colab": {}
      },
      "source": [
        "# #View the combined data\n",
        "# combined_truck_cargo_details"
      ],
      "execution_count": 0,
      "outputs": []
    },
    {
      "cell_type": "code",
      "metadata": {
        "id": "nuei0tWrvNiK",
        "colab_type": "code",
        "colab": {}
      },
      "source": [
        "# !pip install geopy"
      ],
      "execution_count": 0,
      "outputs": []
    },
    {
      "cell_type": "code",
      "metadata": {
        "id": "3MgRJARrry2G",
        "colab_type": "code",
        "colab": {}
      },
      "source": [
        "# #Find the ditance between each source and destination latitude and longitude\n",
        "# import geopy\n",
        "# from geopy.distance import geodesic\n",
        "# from geopy.distance import great_circle\n",
        "\n",
        "# def distance_measure(source,destination):\n",
        "#   source = (source_lat,source_long)\n",
        "#   dest = (dest_lat,dest_long)\n",
        "#   dist = geodesic(source,dest).km\n",
        "#   return dist\n",
        "  \n"
      ],
      "execution_count": 0,
      "outputs": []
    },
    {
      "cell_type": "code",
      "metadata": {
        "id": "sRkrc_4eggh1",
        "colab_type": "code",
        "colab": {}
      },
      "source": [
        "# origin_states = cargos['origin_city']\n",
        "# # cargos[cargos['origin_state']=='MO']"
      ],
      "execution_count": 0,
      "outputs": []
    },
    {
      "cell_type": "code",
      "metadata": {
        "id": "rMhk7ph5wOKH",
        "colab_type": "code",
        "colab": {}
      },
      "source": [
        "# for data in origin_states:\n",
        "#   print(data)"
      ],
      "execution_count": 0,
      "outputs": []
    },
    {
      "cell_type": "code",
      "metadata": {
        "id": "y3cYB1P3lL_L",
        "colab_type": "code",
        "colab": {}
      },
      "source": [
        "# cargos[['origin_city','origin_state']]"
      ],
      "execution_count": 0,
      "outputs": []
    },
    {
      "cell_type": "code",
      "metadata": {
        "id": "-BcPnR1hnCqQ",
        "colab_type": "code",
        "colab": {}
      },
      "source": [
        "# cargos.shape"
      ],
      "execution_count": 0,
      "outputs": []
    },
    {
      "cell_type": "code",
      "metadata": {
        "id": "zu8T_5IEnCQv",
        "colab_type": "code",
        "colab": {}
      },
      "source": [
        "# trucks.shape"
      ],
      "execution_count": 0,
      "outputs": []
    },
    {
      "cell_type": "code",
      "metadata": {
        "id": "z1g3pl11lkSe",
        "colab_type": "code",
        "colab": {}
      },
      "source": [
        "# cargos[['destination_city','destination_state']]"
      ],
      "execution_count": 0,
      "outputs": []
    },
    {
      "cell_type": "code",
      "metadata": {
        "id": "HOrWhGvlluML",
        "colab_type": "code",
        "colab": {}
      },
      "source": [
        "# !pip install geopy"
      ],
      "execution_count": 0,
      "outputs": []
    },
    {
      "cell_type": "code",
      "metadata": {
        "id": "KuNUofC5m4Nn",
        "colab_type": "code",
        "colab": {}
      },
      "source": [
        "# #Geodesic distance :- Length of the shortest path between 2 points on any surface.\n",
        "# #Calculating the geodesic distance from latitude-longitude data\n",
        "# from geopy.distance import geodesic\n",
        "# #Loading the lat-long data for kolkata and delhi\n",
        "# kolkata=(22.5726, 88.3639) \n",
        "# delhi = (28.7041, 77.1025) \n",
        "# #Print the distance calculated in KMs\n",
        "# print(geodesic(kolkata,delhi).km)"
      ],
      "execution_count": 0,
      "outputs": []
    },
    {
      "cell_type": "code",
      "metadata": {
        "id": "x-eKTKbbnx59",
        "colab_type": "code",
        "colab": {}
      },
      "source": [
        "# #Great Circle Distance\n",
        "# #It is the length of the shortest path between 2 points on a sphere. In this case the earth is assumed to be a perfect sphere.\n",
        "# from geopy.distance import great_circle\n",
        "# kolkata=(22.5726, 88.3639) \n",
        "# delhi = (28.7041, 77.1025) \n",
        "# #Print the distance calculated in KMs\n",
        "# print(great_circle(kolkata,delhi).km)"
      ],
      "execution_count": 0,
      "outputs": []
    },
    {
      "cell_type": "code",
      "metadata": {
        "id": "4qQpQLr22WvE",
        "colab_type": "code",
        "colab": {}
      },
      "source": [
        "# cargos.columns"
      ],
      "execution_count": 0,
      "outputs": []
    },
    {
      "cell_type": "code",
      "metadata": {
        "id": "TAL_kzkd1ul-",
        "colab_type": "code",
        "colab": {}
      },
      "source": [
        "# #Calculate the distance between origin and all the destinatio\n",
        "# origin_coord = cargos[['origin_city','origin_lat','origin_lng']]\n",
        "# origin_coord"
      ],
      "execution_count": 0,
      "outputs": []
    },
    {
      "cell_type": "code",
      "metadata": {
        "id": "5Ft_zibT2oIw",
        "colab_type": "code",
        "colab": {}
      },
      "source": [
        "# cargos.columns"
      ],
      "execution_count": 0,
      "outputs": []
    },
    {
      "cell_type": "code",
      "metadata": {
        "id": "M4-PkoSv2hPM",
        "colab_type": "code",
        "colab": {}
      },
      "source": [
        "# dest_coord = cargos[['destination_city','destination_lat','destination_lng']]"
      ],
      "execution_count": 0,
      "outputs": []
    },
    {
      "cell_type": "code",
      "metadata": {
        "id": "xFyKdIu42zCu",
        "colab_type": "code",
        "colab": {}
      },
      "source": [
        "# dest_coord"
      ],
      "execution_count": 0,
      "outputs": []
    },
    {
      "cell_type": "code",
      "metadata": {
        "id": "-yvuF7Hg21bx",
        "colab_type": "code",
        "colab": {}
      },
      "source": [
        "# for data in origin_coord:\n",
        "#   print(data)"
      ],
      "execution_count": 0,
      "outputs": []
    },
    {
      "cell_type": "code",
      "metadata": {
        "id": "JXZeknI23L7Y",
        "colab_type": "code",
        "colab": {}
      },
      "source": [
        "# coord_df = pd.concat([origin_coord,dest_coord],axis=1)\n",
        "# coord_df"
      ],
      "execution_count": 0,
      "outputs": []
    },
    {
      "cell_type": "code",
      "metadata": {
        "id": "488XlehM4YJQ",
        "colab_type": "code",
        "colab": {}
      },
      "source": [
        "# from geopy.distance import geodesic\n",
        "# def cal_distance(source_lat,source_long,dest_lat,dest_long):\n",
        "#   source = (source_lat,source_long)\n",
        "#   dest = (dest_lat,dest_long)\n",
        "#   dist = geodesic(source,dest).km\n",
        "#   return dist\n",
        "  \n",
        "\n"
      ],
      "execution_count": 0,
      "outputs": []
    },
    {
      "cell_type": "code",
      "metadata": {
        "id": "N_qH1CB25pgN",
        "colab_type": "code",
        "colab": {}
      },
      "source": [
        "# # distance1 = cal_distance(22.5726, 88.3639,28.7041, 77.1025)\n",
        "# distance2 = cal_distance(36.876719,-89.587858 ,32.934292,-97.078065)\n",
        "# print(\"Distance is : \", distance1)\n",
        "# print(\"Distance is : \", distance2)"
      ],
      "execution_count": 0,
      "outputs": []
    },
    {
      "cell_type": "code",
      "metadata": {
        "id": "-dgeEL8K6t2n",
        "colab_type": "code",
        "colab": {}
      },
      "source": [
        "# coord_df.columns"
      ],
      "execution_count": 0,
      "outputs": []
    },
    {
      "cell_type": "code",
      "metadata": {
        "id": "M3meGZK39sKg",
        "colab_type": "code",
        "colab": {}
      },
      "source": [
        "# # for ocity,olat,olong,dcity,dlang,dlat in coord_df.iterrows():\n",
        "# #   print(ocity,olat,olong,dcity,dlang,dlat)\n",
        "# for i , rows in coord_df.iterrows():\n",
        "#   print(\"Index is  : \", i)\n",
        "#   print('Row values are :\\n ',rows[1],rows[2],rows[4],rows[5])\n"
      ],
      "execution_count": 0,
      "outputs": []
    },
    {
      "cell_type": "code",
      "metadata": {
        "id": "TxIeHf5ICcV8",
        "colab_type": "code",
        "colab": {}
      },
      "source": [
        "# coord_df"
      ],
      "execution_count": 0,
      "outputs": []
    },
    {
      "cell_type": "code",
      "metadata": {
        "id": "FPn2VTlcDr5F",
        "colab_type": "code",
        "colab": {}
      },
      "source": [
        "# trucks"
      ],
      "execution_count": 0,
      "outputs": []
    },
    {
      "cell_type": "code",
      "metadata": {
        "id": "ox8DpVa8GNsB",
        "colab_type": "code",
        "colab": {}
      },
      "source": [
        "# trucks.columns"
      ],
      "execution_count": 0,
      "outputs": []
    },
    {
      "cell_type": "code",
      "metadata": {
        "id": "q8fAaqcJGQse",
        "colab_type": "code",
        "colab": {}
      },
      "source": [
        "# trucks"
      ],
      "execution_count": 0,
      "outputs": []
    },
    {
      "cell_type": "code",
      "metadata": {
        "id": "7RWiYmT8_Xig",
        "colab_type": "code",
        "colab": {}
      },
      "source": [
        "# for ocity,olat,olong,dcity,dlat,dlong in coord_df.itertuples():\n",
        "#   print(ocity,\"\\t\",olat,\"\\t\",olong,\"\\t\",dcity,\"\\t\",dlat,\"\\t\",dlong)\n",
        "\n",
        "  "
      ],
      "execution_count": 0,
      "outputs": []
    },
    {
      "cell_type": "code",
      "metadata": {
        "id": "bTvwk7o-54Nz",
        "colab_type": "code",
        "colab": {}
      },
      "source": [
        "# coord_df['Distance']=cal_distance(coord_df['origin_lat'],coord_df['origin_lng'],coord_df['destination_lat'],coord_df['destination_lng'])"
      ],
      "execution_count": 0,
      "outputs": []
    },
    {
      "cell_type": "code",
      "metadata": {
        "id": "peCR9UcH7Hdp",
        "colab_type": "code",
        "colab": {}
      },
      "source": [
        "# trucks1.head()"
      ],
      "execution_count": 0,
      "outputs": []
    }
  ]
}