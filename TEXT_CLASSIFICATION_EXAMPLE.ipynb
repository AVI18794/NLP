{
  "nbformat": 4,
  "nbformat_minor": 0,
  "metadata": {
    "colab": {
      "name": "TEXT CLASSIFICATION EXAMPLE.ipynb",
      "provenance": [],
      "collapsed_sections": [],
      "authorship_tag": "ABX9TyP/G74b683wnnF+Egwns3t9",
      "include_colab_link": true
    },
    "kernelspec": {
      "name": "python3",
      "display_name": "Python 3"
    }
  },
  "cells": [
    {
      "cell_type": "markdown",
      "metadata": {
        "id": "view-in-github",
        "colab_type": "text"
      },
      "source": [
        "<a href=\"https://colab.research.google.com/github/AVI18794/NLP/blob/master/TEXT_CLASSIFICATION_EXAMPLE.ipynb\" target=\"_parent\"><img src=\"https://colab.research.google.com/assets/colab-badge.svg\" alt=\"Open In Colab\"/></a>"
      ]
    },
    {
      "cell_type": "code",
      "metadata": {
        "id": "cRzmg7EryblH",
        "colab_type": "code",
        "colab": {}
      },
      "source": [
        "import spacy\n",
        "from sklearn.datasets import fetch_20newsgroups\n",
        "from sklearn.pipeline import Pipeline\n",
        "import numpy as np"
      ],
      "execution_count": 0,
      "outputs": []
    },
    {
      "cell_type": "code",
      "metadata": {
        "id": "doBDj7skyrLo",
        "colab_type": "code",
        "colab": {
          "base_uri": "https://localhost:8080/",
          "height": 50
        },
        "outputId": "58b3f84a-c28f-4dd9-e875-693fbd15b09b"
      },
      "source": [
        "#Load the filenames and data from 20 newsgroups dataset\n",
        "twenty_train = fetch_20newsgroups(subset='train',shuffle=True,download_if_missing=True)\n",
        "twenty_test = fetch_20newsgroups(subset='test',shuffle=True,download_if_missing=True)"
      ],
      "execution_count": 2,
      "outputs": [
        {
          "output_type": "stream",
          "text": [
            "Downloading 20news dataset. This may take a few minutes.\n",
            "Downloading dataset from https://ndownloader.figshare.com/files/5975967 (14 MB)\n"
          ],
          "name": "stderr"
        }
      ]
    },
    {
      "cell_type": "code",
      "metadata": {
        "id": "MgSqsBiIzBxD",
        "colab_type": "code",
        "colab": {}
      },
      "source": [
        "#Check what is the dataset all about\n",
        "print(twenty_train.DESCR)"
      ],
      "execution_count": 0,
      "outputs": []
    },
    {
      "cell_type": "code",
      "metadata": {
        "id": "DBDXRLOyzJyp",
        "colab_type": "code",
        "colab": {
          "base_uri": "https://localhost:8080/",
          "height": 54
        },
        "outputId": "a259a2b7-a20e-4168-a364-11b3b8a81a87"
      },
      "source": [
        "twenty_train.data[0]"
      ],
      "execution_count": 7,
      "outputs": [
        {
          "output_type": "execute_result",
          "data": {
            "text/plain": [
              "\"From: lerxst@wam.umd.edu (where's my thing)\\nSubject: WHAT car is this!?\\nNntp-Posting-Host: rac3.wam.umd.edu\\nOrganization: University of Maryland, College Park\\nLines: 15\\n\\n I was wondering if anyone out there could enlighten me on this car I saw\\nthe other day. It was a 2-door sports car, looked to be from the late 60s/\\nearly 70s. It was called a Bricklin. The doors were really small. In addition,\\nthe front bumper was separate from the rest of the body. This is \\nall I know. If anyone can tellme a model name, engine specs, years\\nof production, where this car is made, history, or whatever info you\\nhave on this funky looking car, please e-mail.\\n\\nThanks,\\n- IL\\n   ---- brought to you by your neighborhood Lerxst ----\\n\\n\\n\\n\\n\""
            ]
          },
          "metadata": {
            "tags": []
          },
          "execution_count": 7
        }
      ]
    },
    {
      "cell_type": "code",
      "metadata": {
        "id": "eVpJGEmaztBQ",
        "colab_type": "code",
        "colab": {
          "base_uri": "https://localhost:8080/",
          "height": 353
        },
        "outputId": "0cd24400-dc70-4006-a68f-f2ee703c7621"
      },
      "source": [
        "twenty_train.target_names"
      ],
      "execution_count": 8,
      "outputs": [
        {
          "output_type": "execute_result",
          "data": {
            "text/plain": [
              "['alt.atheism',\n",
              " 'comp.graphics',\n",
              " 'comp.os.ms-windows.misc',\n",
              " 'comp.sys.ibm.pc.hardware',\n",
              " 'comp.sys.mac.hardware',\n",
              " 'comp.windows.x',\n",
              " 'misc.forsale',\n",
              " 'rec.autos',\n",
              " 'rec.motorcycles',\n",
              " 'rec.sport.baseball',\n",
              " 'rec.sport.hockey',\n",
              " 'sci.crypt',\n",
              " 'sci.electronics',\n",
              " 'sci.med',\n",
              " 'sci.space',\n",
              " 'soc.religion.christian',\n",
              " 'talk.politics.guns',\n",
              " 'talk.politics.mideast',\n",
              " 'talk.politics.misc',\n",
              " 'talk.religion.misc']"
            ]
          },
          "metadata": {
            "tags": []
          },
          "execution_count": 8
        }
      ]
    },
    {
      "cell_type": "code",
      "metadata": {
        "id": "O2vroIsGz_Hf",
        "colab_type": "code",
        "colab": {
          "base_uri": "https://localhost:8080/",
          "height": 34
        },
        "outputId": "59c6c8d6-b664-4b89-9802-94296c74368e"
      },
      "source": [
        "#Extracting features from text\n",
        "from sklearn.feature_extraction.text import CountVectorizer\n",
        "count_vect = CountVectorizer()\n",
        "X_train_counts = count_vect.fit_transform(twenty_train.data)\n",
        "print(f'Shape of Term Frequency Matrix:{X_train_counts.shape}')"
      ],
      "execution_count": 9,
      "outputs": [
        {
          "output_type": "stream",
          "text": [
            "Shape of Term Frequency Matrix:(11314, 130107)\n"
          ],
          "name": "stdout"
        }
      ]
    },
    {
      "cell_type": "code",
      "metadata": {
        "id": "oGsjGzlt0djs",
        "colab_type": "code",
        "colab": {
          "base_uri": "https://localhost:8080/",
          "height": 34
        },
        "outputId": "1f714a16-d2a0-4d7d-d95b-96c1e62a784d"
      },
      "source": [
        "from sklearn.feature_extraction.text import TfidfTransformer\n",
        "tfidf_transformer = TfidfTransformer()\n",
        "X_train_tfidf = tfidf_transformer.fit_transform(X_train_counts)\n",
        "print(f'Shape of TFIDF Matrix :{X_train_tfidf.shape}')"
      ],
      "execution_count": 10,
      "outputs": [
        {
          "output_type": "stream",
          "text": [
            "Shape of TFIDF Matrix :(11314, 130107)\n"
          ],
          "name": "stdout"
        }
      ]
    },
    {
      "cell_type": "code",
      "metadata": {
        "id": "BKy6xhNG05Rf",
        "colab_type": "code",
        "colab": {
          "base_uri": "https://localhost:8080/",
          "height": 34
        },
        "outputId": "56d2f358-9539-4b92-f690-8e4e1915321a"
      },
      "source": [
        "#Building Models\n",
        "#Training Naive Bayes Model(classifier) on training data\n",
        "from sklearn.naive_bayes import MultinomialNB\n",
        "clf = MultinomialNB()\n",
        "clf.fit(X_train_tfidf,twenty_train.target)\n"
      ],
      "execution_count": 12,
      "outputs": [
        {
          "output_type": "execute_result",
          "data": {
            "text/plain": [
              "MultinomialNB(alpha=1.0, class_prior=None, fit_prior=True)"
            ]
          },
          "metadata": {
            "tags": []
          },
          "execution_count": 12
        }
      ]
    },
    {
      "cell_type": "code",
      "metadata": {
        "id": "43RUsB7m1Uaw",
        "colab_type": "code",
        "colab": {}
      },
      "source": [
        "#Building a pipeline \n",
        "text_nb_clf = Pipeline([('vect',CountVectorizer()),('tfidf',TfidfTransformer()),('clf',MultinomialNB())])\n",
        "text_nb_clf = text_nb_clf.fit(twenty_train.data,twenty_train.target)"
      ],
      "execution_count": 0,
      "outputs": []
    },
    {
      "cell_type": "code",
      "metadata": {
        "id": "NOONQdC018hb",
        "colab_type": "code",
        "colab": {}
      },
      "source": [
        "#Predict the result\n",
        "predictions = text_nb_clf.predict(twenty_test.data)\n",
        "naivebayes_clf_accuracy = np.mean(predictions==twenty_test.target)*100\n"
      ],
      "execution_count": 0,
      "outputs": []
    },
    {
      "cell_type": "code",
      "metadata": {
        "id": "gfq4d4kW2PeQ",
        "colab_type": "code",
        "colab": {
          "base_uri": "https://localhost:8080/",
          "height": 34
        },
        "outputId": "c67fc9ff-d344-4d59-98d0-7a234ede943a"
      },
      "source": [
        "print(f'Test Accuracy is {naivebayes_clf_accuracy} %')\n"
      ],
      "execution_count": 16,
      "outputs": [
        {
          "output_type": "stream",
          "text": [
            "Test Accuracy is 77.38980350504514 %\n"
          ],
          "name": "stdout"
        }
      ]
    },
    {
      "cell_type": "code",
      "metadata": {
        "id": "pQ2Ujtah2wWa",
        "colab_type": "code",
        "colab": {}
      },
      "source": [
        "from sklearn.linear_model import LogisticRegression as LR"
      ],
      "execution_count": 0,
      "outputs": []
    },
    {
      "cell_type": "code",
      "metadata": {
        "id": "n5POU59F23CQ",
        "colab_type": "code",
        "colab": {
          "base_uri": "https://localhost:8080/",
          "height": 50
        },
        "outputId": "0542f514-f701-4f35-f527-732e95babff3"
      },
      "source": [
        "%%time\n",
        "text_lr_clf = Pipeline([('vect',CountVectorizer()),('tfidf',TfidfTransformer()),('clf',LR())])\n",
        "text_lr_clf = text_lr_clf.fit(twenty_train.data,twenty_train.target)\n"
      ],
      "execution_count": 18,
      "outputs": [
        {
          "output_type": "stream",
          "text": [
            "CPU times: user 1min 15s, sys: 33.1 s, total: 1min 48s\n",
            "Wall time: 1min 3s\n"
          ],
          "name": "stdout"
        }
      ]
    },
    {
      "cell_type": "code",
      "metadata": {
        "id": "F4XMlH393bWI",
        "colab_type": "code",
        "colab": {
          "base_uri": "https://localhost:8080/",
          "height": 34
        },
        "outputId": "00836435-2d66-462a-dcbc-1e4b4ee6fcb3"
      },
      "source": [
        "lr_predicted = text_lr_clf.predict(twenty_test.data)\n",
        "lr_clf_accuracy =  np.mean(lr_predicted==twenty_test.target)*100\n",
        "print(f'Test Accuracy is {lr_clf_accuracy} %')"
      ],
      "execution_count": 22,
      "outputs": [
        {
          "output_type": "stream",
          "text": [
            "Test Accuracy is 82.74030801911843 %\n"
          ],
          "name": "stdout"
        }
      ]
    },
    {
      "cell_type": "code",
      "metadata": {
        "id": "ii34ARpH32H0",
        "colab_type": "code",
        "colab": {}
      },
      "source": [
        "from sklearn.metrics import classification_report,confusion_matrix\n",
        "cf = confusion_matrix(y_true=twenty_test.target,y_pred = lr_predicted)\n",
        "# print(cf)"
      ],
      "execution_count": 0,
      "outputs": []
    },
    {
      "cell_type": "code",
      "metadata": {
        "id": "p7w5l-DJ4WCb",
        "colab_type": "code",
        "colab": {}
      },
      "source": [
        "clr = classification_report(y_true=twenty_test.target,y_pred=lr_predicted)\n",
        "# clr"
      ],
      "execution_count": 0,
      "outputs": []
    },
    {
      "cell_type": "code",
      "metadata": {
        "id": "c3vXpDek4oaD",
        "colab_type": "code",
        "colab": {
          "base_uri": "https://localhost:8080/",
          "height": 1000
        },
        "outputId": "ec8f6e84-6e1b-4e3b-dc23-d4d270f34754"
      },
      "source": [
        "import json\n",
        "print(json.dumps(cf.tolist(),indent=2))"
      ],
      "execution_count": 28,
      "outputs": [
        {
          "output_type": "stream",
          "text": [
            "[\n",
            "  [\n",
            "    237,\n",
            "    2,\n",
            "    0,\n",
            "    0,\n",
            "    1,\n",
            "    1,\n",
            "    4,\n",
            "    0,\n",
            "    3,\n",
            "    3,\n",
            "    0,\n",
            "    1,\n",
            "    2,\n",
            "    8,\n",
            "    2,\n",
            "    33,\n",
            "    2,\n",
            "    4,\n",
            "    1,\n",
            "    15\n",
            "  ],\n",
            "  [\n",
            "    1,\n",
            "    307,\n",
            "    14,\n",
            "    8,\n",
            "    8,\n",
            "    17,\n",
            "    6,\n",
            "    1,\n",
            "    0,\n",
            "    1,\n",
            "    0,\n",
            "    4,\n",
            "    10,\n",
            "    1,\n",
            "    4,\n",
            "    2,\n",
            "    1,\n",
            "    1,\n",
            "    2,\n",
            "    1\n",
            "  ],\n",
            "  [\n",
            "    2,\n",
            "    21,\n",
            "    289,\n",
            "    34,\n",
            "    12,\n",
            "    11,\n",
            "    2,\n",
            "    2,\n",
            "    2,\n",
            "    4,\n",
            "    0,\n",
            "    1,\n",
            "    1,\n",
            "    1,\n",
            "    3,\n",
            "    2,\n",
            "    0,\n",
            "    0,\n",
            "    6,\n",
            "    1\n",
            "  ],\n",
            "  [\n",
            "    0,\n",
            "    13,\n",
            "    23,\n",
            "    284,\n",
            "    21,\n",
            "    2,\n",
            "    14,\n",
            "    3,\n",
            "    0,\n",
            "    1,\n",
            "    1,\n",
            "    1,\n",
            "    24,\n",
            "    0,\n",
            "    3,\n",
            "    0,\n",
            "    1,\n",
            "    0,\n",
            "    0,\n",
            "    1\n",
            "  ],\n",
            "  [\n",
            "    0,\n",
            "    5,\n",
            "    6,\n",
            "    22,\n",
            "    319,\n",
            "    1,\n",
            "    10,\n",
            "    0,\n",
            "    0,\n",
            "    5,\n",
            "    1,\n",
            "    0,\n",
            "    12,\n",
            "    0,\n",
            "    1,\n",
            "    0,\n",
            "    0,\n",
            "    0,\n",
            "    3,\n",
            "    0\n",
            "  ],\n",
            "  [\n",
            "    0,\n",
            "    43,\n",
            "    38,\n",
            "    5,\n",
            "    4,\n",
            "    292,\n",
            "    3,\n",
            "    0,\n",
            "    0,\n",
            "    0,\n",
            "    0,\n",
            "    1,\n",
            "    3,\n",
            "    2,\n",
            "    4,\n",
            "    0,\n",
            "    0,\n",
            "    0,\n",
            "    0,\n",
            "    0\n",
            "  ],\n",
            "  [\n",
            "    0,\n",
            "    3,\n",
            "    2,\n",
            "    12,\n",
            "    7,\n",
            "    0,\n",
            "    351,\n",
            "    3,\n",
            "    2,\n",
            "    1,\n",
            "    1,\n",
            "    0,\n",
            "    7,\n",
            "    1,\n",
            "    0,\n",
            "    0,\n",
            "    0,\n",
            "    0,\n",
            "    0,\n",
            "    0\n",
            "  ],\n",
            "  [\n",
            "    0,\n",
            "    1,\n",
            "    1,\n",
            "    4,\n",
            "    0,\n",
            "    2,\n",
            "    14,\n",
            "    352,\n",
            "    3,\n",
            "    2,\n",
            "    0,\n",
            "    0,\n",
            "    12,\n",
            "    1,\n",
            "    1,\n",
            "    0,\n",
            "    1,\n",
            "    0,\n",
            "    2,\n",
            "    0\n",
            "  ],\n",
            "  [\n",
            "    0,\n",
            "    0,\n",
            "    0,\n",
            "    0,\n",
            "    0,\n",
            "    0,\n",
            "    6,\n",
            "    10,\n",
            "    378,\n",
            "    2,\n",
            "    0,\n",
            "    0,\n",
            "    1,\n",
            "    0,\n",
            "    0,\n",
            "    0,\n",
            "    0,\n",
            "    0,\n",
            "    1,\n",
            "    0\n",
            "  ],\n",
            "  [\n",
            "    1,\n",
            "    0,\n",
            "    0,\n",
            "    0,\n",
            "    2,\n",
            "    1,\n",
            "    6,\n",
            "    1,\n",
            "    0,\n",
            "    367,\n",
            "    15,\n",
            "    0,\n",
            "    2,\n",
            "    0,\n",
            "    0,\n",
            "    0,\n",
            "    1,\n",
            "    0,\n",
            "    0,\n",
            "    1\n",
            "  ],\n",
            "  [\n",
            "    0,\n",
            "    0,\n",
            "    0,\n",
            "    1,\n",
            "    3,\n",
            "    2,\n",
            "    2,\n",
            "    0,\n",
            "    0,\n",
            "    9,\n",
            "    379,\n",
            "    0,\n",
            "    0,\n",
            "    0,\n",
            "    0,\n",
            "    1,\n",
            "    0,\n",
            "    0,\n",
            "    2,\n",
            "    0\n",
            "  ],\n",
            "  [\n",
            "    1,\n",
            "    8,\n",
            "    3,\n",
            "    0,\n",
            "    3,\n",
            "    4,\n",
            "    5,\n",
            "    2,\n",
            "    1,\n",
            "    5,\n",
            "    0,\n",
            "    349,\n",
            "    6,\n",
            "    0,\n",
            "    1,\n",
            "    0,\n",
            "    4,\n",
            "    0,\n",
            "    4,\n",
            "    0\n",
            "  ],\n",
            "  [\n",
            "    0,\n",
            "    9,\n",
            "    5,\n",
            "    20,\n",
            "    9,\n",
            "    3,\n",
            "    8,\n",
            "    5,\n",
            "    2,\n",
            "    2,\n",
            "    0,\n",
            "    9,\n",
            "    314,\n",
            "    4,\n",
            "    2,\n",
            "    1,\n",
            "    0,\n",
            "    0,\n",
            "    0,\n",
            "    0\n",
            "  ],\n",
            "  [\n",
            "    4,\n",
            "    10,\n",
            "    1,\n",
            "    2,\n",
            "    2,\n",
            "    3,\n",
            "    15,\n",
            "    3,\n",
            "    4,\n",
            "    4,\n",
            "    0,\n",
            "    0,\n",
            "    13,\n",
            "    327,\n",
            "    0,\n",
            "    2,\n",
            "    1,\n",
            "    2,\n",
            "    3,\n",
            "    0\n",
            "  ],\n",
            "  [\n",
            "    0,\n",
            "    11,\n",
            "    0,\n",
            "    0,\n",
            "    2,\n",
            "    2,\n",
            "    2,\n",
            "    1,\n",
            "    0,\n",
            "    0,\n",
            "    1,\n",
            "    0,\n",
            "    2,\n",
            "    6,\n",
            "    361,\n",
            "    1,\n",
            "    2,\n",
            "    0,\n",
            "    3,\n",
            "    0\n",
            "  ],\n",
            "  [\n",
            "    2,\n",
            "    4,\n",
            "    2,\n",
            "    1,\n",
            "    0,\n",
            "    1,\n",
            "    1,\n",
            "    0,\n",
            "    0,\n",
            "    2,\n",
            "    0,\n",
            "    0,\n",
            "    2,\n",
            "    1,\n",
            "    3,\n",
            "    373,\n",
            "    0,\n",
            "    0,\n",
            "    0,\n",
            "    6\n",
            "  ],\n",
            "  [\n",
            "    0,\n",
            "    0,\n",
            "    0,\n",
            "    1,\n",
            "    1,\n",
            "    1,\n",
            "    6,\n",
            "    4,\n",
            "    2,\n",
            "    4,\n",
            "    1,\n",
            "    5,\n",
            "    1,\n",
            "    4,\n",
            "    2,\n",
            "    0,\n",
            "    319,\n",
            "    1,\n",
            "    9,\n",
            "    3\n",
            "  ],\n",
            "  [\n",
            "    10,\n",
            "    2,\n",
            "    0,\n",
            "    0,\n",
            "    0,\n",
            "    9,\n",
            "    1,\n",
            "    1,\n",
            "    1,\n",
            "    3,\n",
            "    1,\n",
            "    0,\n",
            "    0,\n",
            "    1,\n",
            "    0,\n",
            "    4,\n",
            "    3,\n",
            "    328,\n",
            "    12,\n",
            "    0\n",
            "  ],\n",
            "  [\n",
            "    1,\n",
            "    2,\n",
            "    0,\n",
            "    0,\n",
            "    1,\n",
            "    1,\n",
            "    4,\n",
            "    1,\n",
            "    1,\n",
            "    0,\n",
            "    0,\n",
            "    2,\n",
            "    2,\n",
            "    4,\n",
            "    8,\n",
            "    3,\n",
            "    95,\n",
            "    2,\n",
            "    182,\n",
            "    1\n",
            "  ],\n",
            "  [\n",
            "    39,\n",
            "    4,\n",
            "    0,\n",
            "    0,\n",
            "    0,\n",
            "    0,\n",
            "    4,\n",
            "    0,\n",
            "    0,\n",
            "    1,\n",
            "    2,\n",
            "    0,\n",
            "    0,\n",
            "    8,\n",
            "    3,\n",
            "    41,\n",
            "    13,\n",
            "    2,\n",
            "    10,\n",
            "    124\n",
            "  ]\n",
            "]\n"
          ],
          "name": "stdout"
        }
      ]
    },
    {
      "cell_type": "code",
      "metadata": {
        "id": "bRCxbZUS4zys",
        "colab_type": "code",
        "colab": {
          "base_uri": "https://localhost:8080/",
          "height": 616
        },
        "outputId": "6fe8a34a-19eb-4a5f-8343-40841abf9463"
      },
      "source": [
        "import seaborn as sns\n",
        "import matplotlib.pyplot as plt\n",
        "%matplotlib inline\n",
        "plt.figure(figsize=(20,10))\n",
        "ax = sns.heatmap(cf,annot=True,fmt='d',linewidth=.5,center=90,vmax=200)"
      ],
      "execution_count": 29,
      "outputs": [
        {
          "output_type": "display_data",
          "data": {
            "image/png": "[encoded data removed]",
            "text/plain": [
              "<Figure size 1440x720 with 2 Axes>"
            ]
          },
          "metadata": {
            "tags": []
          }
        }
      ]
    },
    {
      "cell_type": "code",
      "metadata": {
        "id": "XadtHlr25HqB",
        "colab_type": "code",
        "colab": {}
      },
      "source": [
        "#Removing the stopwords\n",
        "import spacy\n",
        "nlp = spacy.load('en_core_web_sm')"
      ],
      "execution_count": 0,
      "outputs": []
    },
    {
      "cell_type": "code",
      "metadata": {
        "id": "MdjmiM-j5SO7",
        "colab_type": "code",
        "colab": {
          "base_uri": "https://localhost:8080/",
          "height": 54
        },
        "outputId": "f57d31bd-525e-418e-eba7-a9189a48e41a"
      },
      "source": [
        "from spacy.lang.en.stop_words import STOP_WORDS\n",
        "print(STOP_WORDS)"
      ],
      "execution_count": 34,
      "outputs": [
        {
          "output_type": "stream",
          "text": [
            "{'give', 'himself', 'neither', 'wherever', 'using', 'some', 'off', \"'d\", 'besides', 'somehow', 'yourselves', 'without', '‘m', 'could', 'either', 'namely', 'still', 'yourself', 'from', 'and', 'becoming', 'nor', 'therein', 'which', 'they', 'none', 'with', 'ours', 'in', 'alone', 'n’t', 'whom', 'eight', 'towards', 'you', 'only', 'though', 'whole', \"'s\", 'are', 'themselves', 'becomes', 'its', 'just', 'out', 'them', 'how', 'perhaps', 'nevertheless', 'between', 'nowhere', 'whereafter', 'per', 'almost', 'upon', 'hereafter', 'may', 'than', 'such', 'beside', 'thence', \"'re\", 'hereby', 'two', 'show', 'up', 'four', 'yours', 'here', 'most', 'next', 'has', 'on', 'hereupon', 'forty', 'except', 'make', \"'ve\", '‘re', 'eleven', 'the', 'to', 'five', 'while', 'hers', 'twenty', 'anyone', 'ca', 'down', 'fifty', 'above', 'ever', 'used', 'been', '’ll', 'her', 'last', 'third', 'as', 'others', 'see', 'noone', 'into', 'moreover', 'back', 'have', 'within', 'beyond', 'take', 'various', 'after', 'seem', 'latterly', '‘s', 'however', 'my', 'whereas', 'his', 'another', 'would', 'although', 'both', 'even', 'by', 'an', 'first', 'it', 'quite', 'cannot', 'somewhere', 'always', 'fifteen', 'below', 'is', 'thereby', 'together', 'your', '‘ll', 'something', 'might', \"'ll\", 'anywhere', 'former', 'less', 'those', 'whenever', 'mostly', 'please', 'over', 'across', 'behind', 'mine', '’re', 'sixty', 'hence', 'onto', 'own', 'where', 'was', 'he', 'a', 'since', 'three', 'n‘t', 'empty', 'were', \"'m\", 'more', 'not', 'being', 'ourselves', 'herself', 'nobody', 'keep', 'then', 'among', 'afterwards', 'no', 'regarding', 'beforehand', 'anyhow', 'seeming', 'we', 'whence', 'once', \"n't\", 'around', 're', 'him', 'everyone', 'many', 'go', 'me', 'rather', 'any', 'be', 'anything', 'seems', 'therefore', 'thru', 'often', 'toward', 'whatever', 'hundred', 'had', 'name', 'part', 'unless', '’d', 'why', 'indeed', 'other', 'formerly', 'become', 'bottom', 'put', 'full', 'us', 'will', 'ten', 'amongst', 'must', 'least', 'whereupon', 'meanwhile', 'or', 'at', 'call', 'further', 'if', 'this', 'each', 'get', 'all', 'also', 'who', 'top', 'when', 'enough', 'never', 'am', 'very', 'few', 'can', 'whose', 'made', 'say', 'yet', 'she', '‘d', 'someone', 'i', 'until', 'there', 'became', 'whither', 'herein', 'via', '‘ve', 'whereby', 'everywhere', 'itself', 'during', 'move', 'too', 'twelve', 'seemed', 'whether', 'do', 'anyway', 'every', 'one', 'amount', 'else', 'sometimes', 'doing', 'does', 'latter', 'under', 'about', 'against', 'because', 'for', 'really', 'did', 'thus', 'wherein', 'should', 'thereafter', 'same', 'so', 'six', 'elsewhere', 'along', 'these', 'much', 'before', '’m', 'done', 'throughout', 'our', 'front', 'now', 'side', 'serious', 'what', '’ve', 'well', 'but', 'everything', 'myself', 'through', 'due', 'sometime', 'whoever', 'already', 'again', 'of', 'several', 'that', 'nine', 'nothing', '’s', 'thereupon', 'otherwise', 'their'}\n"
          ],
          "name": "stdout"
        }
      ]
    },
    {
      "cell_type": "code",
      "metadata": {
        "id": "NhoOlXb05kuu",
        "colab_type": "code",
        "colab": {
          "base_uri": "https://localhost:8080/",
          "height": 34
        },
        "outputId": "e35f5f70-8a34-4e51-bcb6-13fc0bceb281"
      },
      "source": [
        "print(f'The length of stopwords in spacy is {len(STOP_WORDS)}')"
      ],
      "execution_count": 35,
      "outputs": [
        {
          "output_type": "stream",
          "text": [
            "The length of stopwords in spacy is 326\n"
          ],
          "name": "stdout"
        }
      ]
    },
    {
      "cell_type": "code",
      "metadata": {
        "id": "UNIA15bh5wCx",
        "colab_type": "code",
        "colab": {
          "base_uri": "https://localhost:8080/",
          "height": 54
        },
        "outputId": "4ca1c7ce-57e6-431f-eab4-b520a5d39234"
      },
      "source": [
        "doc = nlp(\"I am learning the most important ideas Natural Language Processing ideas using python.\")\n",
        "print(doc)"
      ],
      "execution_count": 36,
      "outputs": [
        {
          "output_type": "stream",
          "text": [
            "I am learning the most important ideas Natural Language Processing ideas using python.\n"
          ],
          "name": "stdout"
        }
      ]
    },
    {
      "cell_type": "code",
      "metadata": {
        "id": "SHMRsgN16Bpv",
        "colab_type": "code",
        "colab": {
          "base_uri": "https://localhost:8080/",
          "height": 252
        },
        "outputId": "c531c02b-bba8-4135-942f-3fd4abcc4707"
      },
      "source": [
        "for token in doc:\n",
        "  print(token)"
      ],
      "execution_count": 37,
      "outputs": [
        {
          "output_type": "stream",
          "text": [
            "I\n",
            "am\n",
            "learning\n",
            "the\n",
            "most\n",
            "important\n",
            "ideas\n",
            "Natural\n",
            "Language\n",
            "Processing\n",
            "ideas\n",
            "using\n",
            "python\n",
            ".\n"
          ],
          "name": "stdout"
        }
      ]
    },
    {
      "cell_type": "code",
      "metadata": {
        "id": "HZL-Z6856Gty",
        "colab_type": "code",
        "colab": {
          "base_uri": "https://localhost:8080/",
          "height": 34
        },
        "outputId": "52c0bd6b-f8a9-4145-ff9c-a58514010874"
      },
      "source": [
        "simplified_doc = [token for token in doc if not token.is_punct | token.is_stop]\n",
        "simplified_doc"
      ],
      "execution_count": 38,
      "outputs": [
        {
          "output_type": "execute_result",
          "data": {
            "text/plain": [
              "[learning, important, ideas, Natural, Language, Processing, ideas, python]"
            ]
          },
          "metadata": {
            "tags": []
          },
          "execution_count": 38
        }
      ]
    },
    {
      "cell_type": "code",
      "metadata": {
        "id": "dNntNE2x6Wy1",
        "colab_type": "code",
        "colab": {
          "base_uri": "https://localhost:8080/",
          "height": 151
        },
        "outputId": "1b240c71-b8b0-4d51-883b-7a72302f15cc"
      },
      "source": [
        "for token in simplified_doc:\n",
        "  print(f'Token:{token.orth_}\\tLemmatized:{token.lemma_}\\tParts-of-Speech-Tag:{token.pos_}')\n",
        "  "
      ],
      "execution_count": 39,
      "outputs": [
        {
          "output_type": "stream",
          "text": [
            "Token:learning\tLemmatized:learn\tParts-of-Speech-Tag:VERB\n",
            "Token:important\tLemmatized:important\tParts-of-Speech-Tag:ADJ\n",
            "Token:ideas\tLemmatized:idea\tParts-of-Speech-Tag:NOUN\n",
            "Token:Natural\tLemmatized:Natural\tParts-of-Speech-Tag:PROPN\n",
            "Token:Language\tLemmatized:Language\tParts-of-Speech-Tag:PROPN\n",
            "Token:Processing\tLemmatized:Processing\tParts-of-Speech-Tag:PROPN\n",
            "Token:ideas\tLemmatized:idea\tParts-of-Speech-Tag:NOUN\n",
            "Token:python\tLemmatized:python\tParts-of-Speech-Tag:NOUN\n"
          ],
          "name": "stdout"
        }
      ]
    },
    {
      "cell_type": "code",
      "metadata": {
        "id": "9P-gVZoO7A7z",
        "colab_type": "code",
        "colab": {}
      },
      "source": [
        "from spacy.lang.en import English\n",
        "tokenizer = English().Defaults.create_tokenizer(nlp)\n",
        "def spacy_tokenizer(document):\n",
        "  return [token.orth_ for token in tokenizer(document)]\n",
        "  "
      ],
      "execution_count": 0,
      "outputs": []
    },
    {
      "cell_type": "code",
      "metadata": {
        "id": "q9lEfW3v7ZWc",
        "colab_type": "code",
        "colab": {
          "base_uri": "https://localhost:8080/",
          "height": 50
        },
        "outputId": "36784c40-53aa-40cb-d901-5243485f3103"
      },
      "source": [
        "%%time\n",
        "text_lr_clf = Pipeline([('vect', CountVectorizer()), ('tfidf', TfidfTransformer()), ('clf',LR())])\n",
        "text_lr_clf= text_lr_clf.fit(twenty_train.data,twenty_train.target)\n"
      ],
      "execution_count": 41,
      "outputs": [
        {
          "output_type": "stream",
          "text": [
            "CPU times: user 1min 16s, sys: 32.7 s, total: 1min 48s\n",
            "Wall time: 1min 4s\n"
          ],
          "name": "stdout"
        }
      ]
    },
    {
      "cell_type": "code",
      "metadata": {
        "id": "PfU4g9n67prJ",
        "colab_type": "code",
        "colab": {}
      },
      "source": [
        "def calc_print_accuracy(text_clf,test):\n",
        "  predictions = text_clf.predict(test.data)\n",
        "  clf_accuracy = np.median(predictions==test.target)*100\n",
        "  print(f'Test Accuracy is {clf_accuracy}')\n",
        "  return clf_accuracy\n",
        "  "
      ],
      "execution_count": 0,
      "outputs": []
    },
    {
      "cell_type": "code",
      "metadata": {
        "id": "SQNlXhIj8XbN",
        "colab_type": "code",
        "colab": {
          "base_uri": "https://localhost:8080/",
          "height": 50
        },
        "outputId": "72f99054-9314-4741-d4dc-afa1565c6a3f"
      },
      "source": [
        "calc_print_accuracy(text_lr_clf,twenty_test)\n"
      ],
      "execution_count": 43,
      "outputs": [
        {
          "output_type": "stream",
          "text": [
            "Test Accuracy is 100.0\n"
          ],
          "name": "stdout"
        },
        {
          "output_type": "execute_result",
          "data": {
            "text/plain": [
              "100.0"
            ]
          },
          "metadata": {
            "tags": []
          },
          "execution_count": 43
        }
      ]
    },
    {
      "cell_type": "code",
      "metadata": {
        "id": "pbuL4mBY8j6k",
        "colab_type": "code",
        "colab": {
          "base_uri": "https://localhost:8080/",
          "height": 255
        },
        "outputId": "43e04354-2800-45a4-a073-fb68ba7534a9"
      },
      "source": [
        "%%time\n",
        "text_lr_clf = Pipeline([('vect', CountVectorizer(tokenizer=spacy_tokenizer, stop_words=list(STOP_WORDS))), ('tfidf', TfidfTransformer()), ('clf',LR())])\n",
        "text_lr_clf = text_lr_clf.fit(twenty_train.data, twenty_train.target)\n",
        "calc_print_accuracy(text_lr_clf, twenty_test)"
      ],
      "execution_count": 44,
      "outputs": [
        {
          "output_type": "stream",
          "text": [
            "/usr/local/lib/python3.6/dist-packages/sklearn/feature_extraction/text.py:385: UserWarning: Your stop_words may be inconsistent with your preprocessing. Tokenizing the stop words generated tokens [\"'\", 'd', 'll', 'm', 've', '‘', '’'] not in stop_words.\n",
            "  'stop_words.' % sorted(inconsistent))\n",
            "/usr/local/lib/python3.6/dist-packages/sklearn/linear_model/_logistic.py:940: ConvergenceWarning: lbfgs failed to converge (status=1):\n",
            "STOP: TOTAL NO. of ITERATIONS REACHED LIMIT.\n",
            "\n",
            "Increase the number of iterations (max_iter) or scale the data as shown in:\n",
            "    https://scikit-learn.org/stable/modules/preprocessing.html\n",
            "Please also refer to the documentation for alternative solver options:\n",
            "    https://scikit-learn.org/stable/modules/linear_model.html#logistic-regression\n",
            "  extra_warning_msg=_LOGISTIC_SOLVER_CONVERGENCE_MSG)\n"
          ],
          "name": "stderr"
        },
        {
          "output_type": "stream",
          "text": [
            "Test Accuracy is 100.0\n",
            "CPU times: user 2min 32s, sys: 35.7 s, total: 3min 8s\n",
            "Wall time: 2min 19s\n"
          ],
          "name": "stdout"
        }
      ]
    },
    {
      "cell_type": "code",
      "metadata": {
        "id": "2zEczSJ18moi",
        "colab_type": "code",
        "colab": {}
      },
      "source": [
        ""
      ],
      "execution_count": 0,
      "outputs": []
    }
  ]
}